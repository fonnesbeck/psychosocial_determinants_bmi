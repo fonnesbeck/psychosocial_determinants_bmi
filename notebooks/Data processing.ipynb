{
 "cells": [
  {
   "cell_type": "code",
   "execution_count": 1,
   "metadata": {},
   "outputs": [
    {
     "data": {
      "application/vnd.jupyter.widget-view+json": {
       "model_id": "adf4aa9498b94aa9883fd243e4ceb36f",
       "version_major": "2",
       "version_minor": "0"
      },
      "text/plain": [
       "A Jupyter Widget"
      ]
     },
     "metadata": {},
     "output_type": "display_data"
    }
   ],
   "source": [
    "%matplotlib inline\n",
    "import numpy as np\n",
    "import pandas as pd\n",
    "import seaborn as sns\n",
    "import matplotlib.pylab as plt\n",
    "from tqdm import tqdm_notebook\n",
    "progress = tqdm_notebook()\n",
    "\n",
    "RAW_DATA_DIR = '../data/raw/'\n",
    "CLEAN_DATA_DIR = '../data/clean/'"
   ]
  },
  {
   "cell_type": "markdown",
   "metadata": {},
   "source": [
    "# Import and process data\n",
    "\n",
    "\n",
    "### Demographics"
   ]
  },
  {
   "cell_type": "code",
   "execution_count": 2,
   "metadata": {
    "scrolled": true
   },
   "outputs": [
    {
     "data": {
      "text/html": [
       "<div>\n",
       "<style>\n",
       "    .dataframe thead tr:only-child th {\n",
       "        text-align: right;\n",
       "    }\n",
       "\n",
       "    .dataframe thead th {\n",
       "        text-align: left;\n",
       "    }\n",
       "\n",
       "    .dataframe tbody tr th {\n",
       "        vertical-align: top;\n",
       "    }\n",
       "</style>\n",
       "<table border=\"1\" class=\"dataframe\">\n",
       "  <thead>\n",
       "    <tr style=\"text-align: right;\">\n",
       "      <th></th>\n",
       "      <th>SEX</th>\n",
       "      <th>RACE</th>\n",
       "      <th>ETHNICITY</th>\n",
       "      <th>DOB</th>\n",
       "      <th>DOD</th>\n",
       "      <th>ZIP_CODE</th>\n",
       "    </tr>\n",
       "    <tr>\n",
       "      <th>MRN</th>\n",
       "      <th></th>\n",
       "      <th></th>\n",
       "      <th></th>\n",
       "      <th></th>\n",
       "      <th></th>\n",
       "      <th></th>\n",
       "    </tr>\n",
       "  </thead>\n",
       "  <tbody>\n",
       "    <tr>\n",
       "      <th>28997286</th>\n",
       "      <td>2</td>\n",
       "      <td>7</td>\n",
       "      <td>UN</td>\n",
       "      <td>1958-01-09</td>\n",
       "      <td>NaN</td>\n",
       "      <td>422100000</td>\n",
       "    </tr>\n",
       "    <tr>\n",
       "      <th>22710289</th>\n",
       "      <td>2</td>\n",
       "      <td>2</td>\n",
       "      <td>NH</td>\n",
       "      <td>1969-09-11</td>\n",
       "      <td>NaN</td>\n",
       "      <td>370640000</td>\n",
       "    </tr>\n",
       "    <tr>\n",
       "      <th>15333065</th>\n",
       "      <td>1</td>\n",
       "      <td>1</td>\n",
       "      <td>NH</td>\n",
       "      <td>1996-12-28</td>\n",
       "      <td>NaN</td>\n",
       "      <td>372060000</td>\n",
       "    </tr>\n",
       "    <tr>\n",
       "      <th>11732831</th>\n",
       "      <td>1</td>\n",
       "      <td>2</td>\n",
       "      <td>NH</td>\n",
       "      <td>1991-01-31</td>\n",
       "      <td>NaN</td>\n",
       "      <td>370400000</td>\n",
       "    </tr>\n",
       "    <tr>\n",
       "      <th>26724542</th>\n",
       "      <td>2</td>\n",
       "      <td>1</td>\n",
       "      <td>NH</td>\n",
       "      <td>1958-08-19</td>\n",
       "      <td>NaN</td>\n",
       "      <td>421340000</td>\n",
       "    </tr>\n",
       "  </tbody>\n",
       "</table>\n",
       "</div>"
      ],
      "text/plain": [
       "          SEX  RACE ETHNICITY        DOB  DOD   ZIP_CODE\n",
       "MRN                                                     \n",
       "28997286    2     7        UN 1958-01-09  NaN  422100000\n",
       "22710289    2     2        NH 1969-09-11  NaN  370640000\n",
       "15333065    1     1        NH 1996-12-28  NaN  372060000\n",
       "11732831    1     2        NH 1991-01-31  NaN  370400000\n",
       "26724542    2     1        NH 1958-08-19  NaN  421340000"
      ]
     },
     "execution_count": 2,
     "metadata": {},
     "output_type": "execute_result"
    }
   ],
   "source": [
    "demographics_raw = pd.read_csv(RAW_DATA_DIR + 'pcori_heerman_cohort_Demographics_20170116.csv', \n",
    "                               index_col=0, parse_dates=['DOB'], infer_datetime_format=True, low_memory=False)\n",
    "demographics_raw.head()"
   ]
  },
  {
   "cell_type": "code",
   "execution_count": 3,
   "metadata": {},
   "outputs": [
    {
     "data": {
      "text/plain": [
       "(529428, 6)"
      ]
     },
     "execution_count": 3,
     "metadata": {},
     "output_type": "execute_result"
    }
   ],
   "source": [
    "demographics_raw.shape"
   ]
  },
  {
   "cell_type": "code",
   "execution_count": 4,
   "metadata": {},
   "outputs": [
    {
     "data": {
      "text/plain": [
       "True"
      ]
     },
     "execution_count": 4,
     "metadata": {},
     "output_type": "execute_result"
    }
   ],
   "source": [
    "demographics_raw.index.is_unique"
   ]
  },
  {
   "cell_type": "markdown",
   "metadata": {},
   "source": [
    "Recode categorical variables to something useful"
   ]
  },
  {
   "cell_type": "code",
   "execution_count": 5,
   "metadata": {},
   "outputs": [],
   "source": [
    "demographics_raw['male'] = (demographics_raw.SEX==1).astype(int)"
   ]
  },
  {
   "cell_type": "code",
   "execution_count": 6,
   "metadata": {},
   "outputs": [],
   "source": [
    "demographics_raw['race'] = demographics_raw.RACE.replace(dict(zip(range(1, 8), ['white', 'black', 'native', 'asian', \n",
    "                                                     'hispanic', 'other', 'unknown'])))"
   ]
  },
  {
   "cell_type": "code",
   "execution_count": 7,
   "metadata": {},
   "outputs": [
    {
     "data": {
      "text/plain": [
       "white       419554\n",
       "black        52455\n",
       "unknown      32724\n",
       "hispanic     13540\n",
       "asian         9708\n",
       "other          729\n",
       "native         718\n",
       "Name: race, dtype: int64"
      ]
     },
     "execution_count": 7,
     "metadata": {},
     "output_type": "execute_result"
    }
   ],
   "source": [
    "demographics_raw.race.value_counts()"
   ]
  },
  {
   "cell_type": "code",
   "execution_count": 8,
   "metadata": {},
   "outputs": [
    {
     "data": {
      "text/plain": [
       "NH    450556\n",
       "UN     65332\n",
       "HL     13540\n",
       "Name: ETHNICITY, dtype: int64"
      ]
     },
     "execution_count": 8,
     "metadata": {},
     "output_type": "execute_result"
    }
   ],
   "source": [
    "demographics_raw.ETHNICITY.value_counts()"
   ]
  },
  {
   "cell_type": "code",
   "execution_count": 9,
   "metadata": {},
   "outputs": [],
   "source": [
    "demographics_raw['hispanic'] = (demographics_raw.ETHNICITY=='HL')\n",
    "demographics_raw.loc[demographics_raw.ETHNICITY=='UN', 'hispanic'] = np.nan"
   ]
  },
  {
   "cell_type": "markdown",
   "metadata": {},
   "source": [
    "There are no non-null death dates."
   ]
  },
  {
   "cell_type": "code",
   "execution_count": 10,
   "metadata": {},
   "outputs": [
    {
     "data": {
      "text/plain": [
       "SEX          0.000000\n",
       "RACE         0.000000\n",
       "ETHNICITY    0.000000\n",
       "DOB          0.000000\n",
       "DOD          1.000000\n",
       "ZIP_CODE     0.001067\n",
       "male         0.000000\n",
       "race         0.000000\n",
       "hispanic     0.123401\n",
       "dtype: float64"
      ]
     },
     "execution_count": 10,
     "metadata": {},
     "output_type": "execute_result"
    }
   ],
   "source": [
    "demographics_raw.isnull().mean()"
   ]
  },
  {
   "cell_type": "markdown",
   "metadata": {},
   "source": [
    "Drop date of death and ethnicity"
   ]
  },
  {
   "cell_type": "code",
   "execution_count": 11,
   "metadata": {},
   "outputs": [],
   "source": [
    "demographics = demographics_raw.drop(['DOD', 'ETHNICITY'], axis=1)\n",
    "del demographics_raw"
   ]
  },
  {
   "cell_type": "code",
   "execution_count": 12,
   "metadata": {},
   "outputs": [
    {
     "data": {
      "text/plain": [
       "(529428, 7)"
      ]
     },
     "execution_count": 12,
     "metadata": {},
     "output_type": "execute_result"
    }
   ],
   "source": [
    "demographics.shape"
   ]
  },
  {
   "cell_type": "markdown",
   "metadata": {},
   "source": [
    "### Patient flags"
   ]
  },
  {
   "cell_type": "code",
   "execution_count": 13,
   "metadata": {},
   "outputs": [
    {
     "name": "stderr",
     "output_type": "stream",
     "text": [
      "/Users/fonnescj/anaconda3/envs/dev/lib/python3.6/site-packages/IPython/core/interactiveshell.py:2698: DtypeWarning: Columns (0) have mixed types. Specify dtype option on import or set low_memory=False.\n",
      "  interactivity=interactivity, compiler=compiler, result=result)\n"
     ]
    },
    {
     "data": {
      "text/html": [
       "<div>\n",
       "<style>\n",
       "    .dataframe thead tr:only-child th {\n",
       "        text-align: right;\n",
       "    }\n",
       "\n",
       "    .dataframe thead th {\n",
       "        text-align: left;\n",
       "    }\n",
       "\n",
       "    .dataframe tbody tr th {\n",
       "        vertical-align: top;\n",
       "    }\n",
       "</style>\n",
       "<table border=\"1\" class=\"dataframe\">\n",
       "  <thead>\n",
       "    <tr style=\"text-align: right;\">\n",
       "      <th></th>\n",
       "      <th>htn_flag</th>\n",
       "      <th>chf_flag</th>\n",
       "      <th>esrd_flag</th>\n",
       "      <th>copd_flag</th>\n",
       "      <th>dprn_flag</th>\n",
       "      <th>hlpd_flag</th>\n",
       "      <th>malig_flag</th>\n",
       "      <th>smoke_flag</th>\n",
       "      <th>ckd_flag</th>\n",
       "      <th>cad_flag</th>\n",
       "      <th>lbp_flag</th>\n",
       "      <th>thyroid_flag</th>\n",
       "      <th>osa_flag</th>\n",
       "      <th>asthma_flag</th>\n",
       "      <th>t1dm_flag</th>\n",
       "      <th>bariatric_surgery_cpt_flag</th>\n",
       "      <th>amputation_cpt_flag</th>\n",
       "    </tr>\n",
       "    <tr>\n",
       "      <th>patient_id</th>\n",
       "      <th></th>\n",
       "      <th></th>\n",
       "      <th></th>\n",
       "      <th></th>\n",
       "      <th></th>\n",
       "      <th></th>\n",
       "      <th></th>\n",
       "      <th></th>\n",
       "      <th></th>\n",
       "      <th></th>\n",
       "      <th></th>\n",
       "      <th></th>\n",
       "      <th></th>\n",
       "      <th></th>\n",
       "      <th></th>\n",
       "      <th></th>\n",
       "      <th></th>\n",
       "    </tr>\n",
       "  </thead>\n",
       "  <tbody>\n",
       "    <tr>\n",
       "      <th>10000073</th>\n",
       "      <td>1</td>\n",
       "      <td>0</td>\n",
       "      <td>0</td>\n",
       "      <td>0</td>\n",
       "      <td>0</td>\n",
       "      <td>0</td>\n",
       "      <td>0</td>\n",
       "      <td>0</td>\n",
       "      <td>0</td>\n",
       "      <td>0</td>\n",
       "      <td>0</td>\n",
       "      <td>0</td>\n",
       "      <td>0</td>\n",
       "      <td>0</td>\n",
       "      <td>0</td>\n",
       "      <td>0</td>\n",
       "      <td>0</td>\n",
       "    </tr>\n",
       "    <tr>\n",
       "      <th>10000321</th>\n",
       "      <td>0</td>\n",
       "      <td>0</td>\n",
       "      <td>0</td>\n",
       "      <td>0</td>\n",
       "      <td>0</td>\n",
       "      <td>0</td>\n",
       "      <td>0</td>\n",
       "      <td>0</td>\n",
       "      <td>0</td>\n",
       "      <td>0</td>\n",
       "      <td>0</td>\n",
       "      <td>0</td>\n",
       "      <td>0</td>\n",
       "      <td>0</td>\n",
       "      <td>0</td>\n",
       "      <td>0</td>\n",
       "      <td>0</td>\n",
       "    </tr>\n",
       "    <tr>\n",
       "      <th>10000420</th>\n",
       "      <td>0</td>\n",
       "      <td>0</td>\n",
       "      <td>0</td>\n",
       "      <td>0</td>\n",
       "      <td>0</td>\n",
       "      <td>0</td>\n",
       "      <td>0</td>\n",
       "      <td>0</td>\n",
       "      <td>0</td>\n",
       "      <td>0</td>\n",
       "      <td>0</td>\n",
       "      <td>0</td>\n",
       "      <td>0</td>\n",
       "      <td>0</td>\n",
       "      <td>0</td>\n",
       "      <td>0</td>\n",
       "      <td>0</td>\n",
       "    </tr>\n",
       "    <tr>\n",
       "      <th>10000933</th>\n",
       "      <td>0</td>\n",
       "      <td>0</td>\n",
       "      <td>0</td>\n",
       "      <td>0</td>\n",
       "      <td>0</td>\n",
       "      <td>0</td>\n",
       "      <td>0</td>\n",
       "      <td>0</td>\n",
       "      <td>0</td>\n",
       "      <td>0</td>\n",
       "      <td>0</td>\n",
       "      <td>0</td>\n",
       "      <td>0</td>\n",
       "      <td>0</td>\n",
       "      <td>0</td>\n",
       "      <td>0</td>\n",
       "      <td>0</td>\n",
       "    </tr>\n",
       "    <tr>\n",
       "      <th>10001162</th>\n",
       "      <td>0</td>\n",
       "      <td>1</td>\n",
       "      <td>0</td>\n",
       "      <td>0</td>\n",
       "      <td>0</td>\n",
       "      <td>0</td>\n",
       "      <td>0</td>\n",
       "      <td>0</td>\n",
       "      <td>0</td>\n",
       "      <td>0</td>\n",
       "      <td>0</td>\n",
       "      <td>0</td>\n",
       "      <td>0</td>\n",
       "      <td>0</td>\n",
       "      <td>0</td>\n",
       "      <td>0</td>\n",
       "      <td>0</td>\n",
       "    </tr>\n",
       "  </tbody>\n",
       "</table>\n",
       "</div>"
      ],
      "text/plain": [
       "            htn_flag  chf_flag  esrd_flag  copd_flag  dprn_flag  hlpd_flag  \\\n",
       "patient_id                                                                   \n",
       "10000073           1         0          0          0          0          0   \n",
       "10000321           0         0          0          0          0          0   \n",
       "10000420           0         0          0          0          0          0   \n",
       "10000933           0         0          0          0          0          0   \n",
       "10001162           0         1          0          0          0          0   \n",
       "\n",
       "            malig_flag  smoke_flag  ckd_flag  cad_flag  lbp_flag  \\\n",
       "patient_id                                                         \n",
       "10000073             0           0         0         0         0   \n",
       "10000321             0           0         0         0         0   \n",
       "10000420             0           0         0         0         0   \n",
       "10000933             0           0         0         0         0   \n",
       "10001162             0           0         0         0         0   \n",
       "\n",
       "            thyroid_flag  osa_flag  asthma_flag  t1dm_flag  \\\n",
       "patient_id                                                   \n",
       "10000073               0         0            0          0   \n",
       "10000321               0         0            0          0   \n",
       "10000420               0         0            0          0   \n",
       "10000933               0         0            0          0   \n",
       "10001162               0         0            0          0   \n",
       "\n",
       "            bariatric_surgery_cpt_flag  amputation_cpt_flag  \n",
       "patient_id                                                   \n",
       "10000073                             0                    0  \n",
       "10000321                             0                    0  \n",
       "10000420                             0                    0  \n",
       "10000933                             0                    0  \n",
       "10001162                             0                    0  "
      ]
     },
     "execution_count": 13,
     "metadata": {},
     "output_type": "execute_result"
    }
   ],
   "source": [
    "flags = pd.read_csv(RAW_DATA_DIR + '400k_flag_v2.csv', index_col=0)\n",
    "flags.head()"
   ]
  },
  {
   "cell_type": "code",
   "execution_count": 14,
   "metadata": {},
   "outputs": [],
   "source": [
    "flagged_demographics = demographics.join(flags)\n",
    "flagged_demographics.shape\n",
    "del flags"
   ]
  },
  {
   "cell_type": "code",
   "execution_count": 15,
   "metadata": {},
   "outputs": [
    {
     "data": {
      "text/plain": [
       "(529428, 24)"
      ]
     },
     "execution_count": 15,
     "metadata": {},
     "output_type": "execute_result"
    }
   ],
   "source": [
    "flagged_demographics.shape"
   ]
  },
  {
   "cell_type": "markdown",
   "metadata": {},
   "source": [
    "### Height measurements\n",
    "\n",
    "Perhaps choose modal or median for each patient."
   ]
  },
  {
   "cell_type": "code",
   "execution_count": 16,
   "metadata": {},
   "outputs": [
    {
     "data": {
      "text/html": [
       "<div>\n",
       "<style>\n",
       "    .dataframe thead tr:only-child th {\n",
       "        text-align: right;\n",
       "    }\n",
       "\n",
       "    .dataframe thead th {\n",
       "        text-align: left;\n",
       "    }\n",
       "\n",
       "    .dataframe tbody tr th {\n",
       "        vertical-align: top;\n",
       "    }\n",
       "</style>\n",
       "<table border=\"1\" class=\"dataframe\">\n",
       "  <thead>\n",
       "    <tr style=\"text-align: right;\">\n",
       "      <th></th>\n",
       "      <th>MRN</th>\n",
       "      <th>HEIGHT_DATE</th>\n",
       "      <th>HEIGHT</th>\n",
       "    </tr>\n",
       "  </thead>\n",
       "  <tbody>\n",
       "    <tr>\n",
       "      <th>0</th>\n",
       "      <td>1887330</td>\n",
       "      <td>2016-02-22</td>\n",
       "      <td>157.48</td>\n",
       "    </tr>\n",
       "    <tr>\n",
       "      <th>1</th>\n",
       "      <td>1887330</td>\n",
       "      <td>2012-01-17</td>\n",
       "      <td>162.56</td>\n",
       "    </tr>\n",
       "    <tr>\n",
       "      <th>2</th>\n",
       "      <td>1887330</td>\n",
       "      <td>2013-02-15</td>\n",
       "      <td>162.56</td>\n",
       "    </tr>\n",
       "    <tr>\n",
       "      <th>3</th>\n",
       "      <td>1887330</td>\n",
       "      <td>2013-05-17</td>\n",
       "      <td>162.56</td>\n",
       "    </tr>\n",
       "    <tr>\n",
       "      <th>4</th>\n",
       "      <td>1887330</td>\n",
       "      <td>2013-08-07</td>\n",
       "      <td>162.56</td>\n",
       "    </tr>\n",
       "  </tbody>\n",
       "</table>\n",
       "</div>"
      ],
      "text/plain": [
       "       MRN HEIGHT_DATE  HEIGHT\n",
       "0  1887330  2016-02-22  157.48\n",
       "1  1887330  2012-01-17  162.56\n",
       "2  1887330  2013-02-15  162.56\n",
       "3  1887330  2013-05-17  162.56\n",
       "4  1887330  2013-08-07  162.56"
      ]
     },
     "execution_count": 16,
     "metadata": {},
     "output_type": "execute_result"
    }
   ],
   "source": [
    "height_raw = pd.read_csv(RAW_DATA_DIR + 'pcori_heerman_cohort_Height_20170213.csv', \n",
    "                         parse_dates=[1], infer_datetime_format=True)\n",
    "height_raw.head()"
   ]
  },
  {
   "cell_type": "code",
   "execution_count": 17,
   "metadata": {},
   "outputs": [
    {
     "data": {
      "text/plain": [
       "<matplotlib.axes._subplots.AxesSubplot at 0x1175cd8d0>"
      ]
     },
     "execution_count": 17,
     "metadata": {},
     "output_type": "execute_result"
    },
    {
     "data": {
      "image/png": "[encoded data removed]",
      "text/plain": [
       "<matplotlib.figure.Figure at 0x124fafa58>"
      ]
     },
     "metadata": {},
     "output_type": "display_data"
    }
   ],
   "source": [
    "plt.figure()\n",
    "height_raw.HEIGHT[(height_raw.HEIGHT<200) & (height_raw.HEIGHT>0) ].hist(bins=30)"
   ]
  },
  {
   "cell_type": "markdown",
   "metadata": {},
   "source": [
    "### Weight data"
   ]
  },
  {
   "cell_type": "code",
   "execution_count": 18,
   "metadata": {
    "scrolled": true
   },
   "outputs": [
    {
     "data": {
      "text/html": [
       "<div>\n",
       "<style>\n",
       "    .dataframe thead tr:only-child th {\n",
       "        text-align: right;\n",
       "    }\n",
       "\n",
       "    .dataframe thead th {\n",
       "        text-align: left;\n",
       "    }\n",
       "\n",
       "    .dataframe tbody tr th {\n",
       "        vertical-align: top;\n",
       "    }\n",
       "</style>\n",
       "<table border=\"1\" class=\"dataframe\">\n",
       "  <thead>\n",
       "    <tr style=\"text-align: right;\">\n",
       "      <th></th>\n",
       "      <th>MRN</th>\n",
       "      <th>WEIGHT_DATE</th>\n",
       "      <th>WEIGHT</th>\n",
       "      <th>PREGNANCY_INDICATOR</th>\n",
       "    </tr>\n",
       "  </thead>\n",
       "  <tbody>\n",
       "    <tr>\n",
       "      <th>0</th>\n",
       "      <td>7695679</td>\n",
       "      <td>2006-01-27</td>\n",
       "      <td>62.60</td>\n",
       "      <td>1</td>\n",
       "    </tr>\n",
       "    <tr>\n",
       "      <th>1</th>\n",
       "      <td>7695679</td>\n",
       "      <td>2006-02-08</td>\n",
       "      <td>62.60</td>\n",
       "      <td>1</td>\n",
       "    </tr>\n",
       "    <tr>\n",
       "      <th>2</th>\n",
       "      <td>7695679</td>\n",
       "      <td>2006-02-08</td>\n",
       "      <td>62.60</td>\n",
       "      <td>1</td>\n",
       "    </tr>\n",
       "    <tr>\n",
       "      <th>3</th>\n",
       "      <td>7695679</td>\n",
       "      <td>2006-03-08</td>\n",
       "      <td>63.96</td>\n",
       "      <td>1</td>\n",
       "    </tr>\n",
       "    <tr>\n",
       "      <th>4</th>\n",
       "      <td>7695679</td>\n",
       "      <td>2006-10-02</td>\n",
       "      <td>65.77</td>\n",
       "      <td>1</td>\n",
       "    </tr>\n",
       "  </tbody>\n",
       "</table>\n",
       "</div>"
      ],
      "text/plain": [
       "       MRN WEIGHT_DATE  WEIGHT  PREGNANCY_INDICATOR\n",
       "0  7695679  2006-01-27   62.60                    1\n",
       "1  7695679  2006-02-08   62.60                    1\n",
       "2  7695679  2006-02-08   62.60                    1\n",
       "3  7695679  2006-03-08   63.96                    1\n",
       "4  7695679  2006-10-02   65.77                    1"
      ]
     },
     "execution_count": 18,
     "metadata": {},
     "output_type": "execute_result"
    }
   ],
   "source": [
    "weight_raw = pd.read_csv(RAW_DATA_DIR + 'pcori_heerman_cohort_weight_20170213.csv', \n",
    "                         parse_dates=[1], infer_datetime_format=True)\n",
    "weight_raw.head()"
   ]
  },
  {
   "cell_type": "markdown",
   "metadata": {},
   "source": [
    "Only take individuals with no pregnancy."
   ]
  },
  {
   "cell_type": "code",
   "execution_count": 19,
   "metadata": {},
   "outputs": [],
   "source": [
    "weights_nonpreg = weight_raw[weight_raw.PREGNANCY_INDICATOR==0].drop('PREGNANCY_INDICATOR', axis=1)"
   ]
  },
  {
   "cell_type": "code",
   "execution_count": 20,
   "metadata": {},
   "outputs": [],
   "source": [
    "weight_counts = weights_nonpreg.groupby('MRN')['WEIGHT_DATE'].count()"
   ]
  },
  {
   "cell_type": "code",
   "execution_count": 21,
   "metadata": {},
   "outputs": [],
   "source": [
    "MIN_MEASUREMENTS = 5\n",
    "min_weights = weight_counts[weight_counts>=MIN_MEASUREMENTS].index.values"
   ]
  },
  {
   "cell_type": "code",
   "execution_count": 22,
   "metadata": {},
   "outputs": [],
   "source": [
    "filtered_weights = weights_nonpreg[weights_nonpreg.MRN.isin(min_weights)]"
   ]
  },
  {
   "cell_type": "code",
   "execution_count": 23,
   "metadata": {},
   "outputs": [],
   "source": [
    "assert not filtered_weights.isnull().sum().any()"
   ]
  },
  {
   "cell_type": "markdown",
   "metadata": {},
   "source": [
    "Apply Greevy flagging algorihtm"
   ]
  },
  {
   "cell_type": "code",
   "execution_count": 24,
   "metadata": {},
   "outputs": [],
   "source": [
    "from scipy.stats import chi2\n",
    "\n",
    "def calc_concordance(patient, m=-0.032, sd=3.52):\n",
    "    p = []\n",
    "    nobs = min(11, patient.shape[0])\n",
    "    for i,x in patient.iterrows():\n",
    "\n",
    "        # Calculate deltas\n",
    "        df = (pd.DataFrame({'uid':i, \n",
    "                           'delta_W':patient.WEIGHT - x.WEIGHT, \n",
    "                           'delta_T':(patient.WEIGHT_DATE - x.WEIGHT_DATE).dt.days.abs()})\n",
    "             .sort_values('delta_T')[1:nobs]\n",
    "             .assign(measurement=np.arange(1, nobs), weight_date=x.WEIGHT_DATE))\n",
    "            \n",
    "        # Calculate statistic\n",
    "        prob = 1 - chi2.cdf(((df.delta_W - m)/sd) ** 2, 1) \n",
    "\n",
    "        # Convert to concordance probability\n",
    "        p.append({'uid':i, 'p':prob.mean()})\n",
    "\n",
    "\n",
    "    return pd.DataFrame(p).set_index('uid')\n"
   ]
  },
  {
   "cell_type": "code",
   "execution_count": 25,
   "metadata": {},
   "outputs": [],
   "source": [
    "grouped = filtered_weights.groupby('MRN')\n",
    "\n",
    "dflist = [group for name, group in grouped]"
   ]
  },
  {
   "cell_type": "code",
   "execution_count": 26,
   "metadata": {},
   "outputs": [
    {
     "name": "stdout",
     "output_type": "stream",
     "text": [
      "Waiting for connection file: ~/.ipython/profile_default/security/ipcontroller-client.json\n"
     ]
    },
    {
     "ename": "OSError",
     "evalue": "Connection file '~/.ipython/profile_default/security/ipcontroller-client.json' not found.\nYou have attempted to connect to an IPython Cluster but no Controller could be found.\nPlease double-check your configuration and ensure that a cluster is running.",
     "output_type": "error",
     "traceback": [
      "\u001b[0;31m---------------------------------------------------------------------------\u001b[0m",
      "\u001b[0;31mOSError\u001b[0m                                   Traceback (most recent call last)",
      "\u001b[0;32m<ipython-input-26-1c690db16f8b>\u001b[0m in \u001b[0;36m<module>\u001b[0;34m()\u001b[0m\n\u001b[1;32m      1\u001b[0m \u001b[0;32mfrom\u001b[0m \u001b[0mipyparallel\u001b[0m \u001b[0;32mimport\u001b[0m \u001b[0mClient\u001b[0m\u001b[0;34m\u001b[0m\u001b[0m\n\u001b[0;32m----> 2\u001b[0;31m \u001b[0mrc\u001b[0m \u001b[0;34m=\u001b[0m \u001b[0mClient\u001b[0m\u001b[0;34m(\u001b[0m\u001b[0;34m)\u001b[0m\u001b[0;34m\u001b[0m\u001b[0m\n\u001b[0m\u001b[1;32m      3\u001b[0m \u001b[0mlview\u001b[0m \u001b[0;34m=\u001b[0m \u001b[0mrc\u001b[0m\u001b[0;34m.\u001b[0m\u001b[0mload_balanced_view\u001b[0m\u001b[0;34m(\u001b[0m\u001b[0;34m)\u001b[0m\u001b[0;34m\u001b[0m\u001b[0m\n\u001b[1;32m      4\u001b[0m \u001b[0mlview\u001b[0m\u001b[0;34m.\u001b[0m\u001b[0mblock\u001b[0m \u001b[0;34m=\u001b[0m \u001b[0;32mTrue\u001b[0m\u001b[0;34m\u001b[0m\u001b[0m\n",
      "\u001b[0;32m~/anaconda3/envs/dev/lib/python3.6/site-packages/ipyparallel/client/client.py\u001b[0m in \u001b[0;36m__init__\u001b[0;34m(self, url_file, profile, profile_dir, ipython_dir, context, debug, sshserver, sshkey, password, paramiko, timeout, cluster_id, **extra_args)\u001b[0m\n\u001b[1;32m    395\u001b[0m                         \u001b[0mno_file_msg\u001b[0m\u001b[0;34m,\u001b[0m\u001b[0;34m\u001b[0m\u001b[0m\n\u001b[1;32m    396\u001b[0m                     ])\n\u001b[0;32m--> 397\u001b[0;31m                     \u001b[0;32mraise\u001b[0m \u001b[0mIOError\u001b[0m\u001b[0;34m(\u001b[0m\u001b[0mmsg\u001b[0m\u001b[0;34m)\u001b[0m\u001b[0;34m\u001b[0m\u001b[0m\n\u001b[0m\u001b[1;32m    398\u001b[0m         \u001b[0;32mif\u001b[0m \u001b[0murl_file\u001b[0m \u001b[0;32mis\u001b[0m \u001b[0;32mNone\u001b[0m\u001b[0;34m:\u001b[0m\u001b[0;34m\u001b[0m\u001b[0m\n\u001b[1;32m    399\u001b[0m             \u001b[0;32mraise\u001b[0m \u001b[0mIOError\u001b[0m\u001b[0;34m(\u001b[0m\u001b[0mno_file_msg\u001b[0m\u001b[0;34m)\u001b[0m\u001b[0;34m\u001b[0m\u001b[0m\n",
      "\u001b[0;31mOSError\u001b[0m: Connection file '~/.ipython/profile_default/security/ipcontroller-client.json' not found.\nYou have attempted to connect to an IPython Cluster but no Controller could be found.\nPlease double-check your configuration and ensure that a cluster is running."
     ]
    }
   ],
   "source": [
    "from ipyparallel import Client\n",
    "rc = Client()\n",
    "lview = rc.load_balanced_view()\n",
    "lview.block = True"
   ]
  },
  {
   "cell_type": "code",
   "execution_count": 27,
   "metadata": {},
   "outputs": [
    {
     "ename": "NameError",
     "evalue": "name 'lview' is not defined",
     "output_type": "error",
     "traceback": [
      "\u001b[0;31m---------------------------------------------------------------------------\u001b[0m",
      "\u001b[0;31mNameError\u001b[0m                                 Traceback (most recent call last)",
      "\u001b[0;32m<ipython-input-27-195ee567873b>\u001b[0m in \u001b[0;36m<module>\u001b[0;34m()\u001b[0m\n\u001b[0;32m----> 1\u001b[0;31m \u001b[0mparallel_groups\u001b[0m \u001b[0;34m=\u001b[0m \u001b[0mlview\u001b[0m\u001b[0;34m.\u001b[0m\u001b[0mmap\u001b[0m\u001b[0;34m(\u001b[0m\u001b[0mcalc_concordance\u001b[0m\u001b[0;34m,\u001b[0m \u001b[0mdflist\u001b[0m\u001b[0;34m)\u001b[0m\u001b[0;34m\u001b[0m\u001b[0m\n\u001b[0m",
      "\u001b[0;31mNameError\u001b[0m: name 'lview' is not defined"
     ]
    }
   ],
   "source": [
    "parallel_groups = lview.map(calc_concordance, dflist)"
   ]
  },
  {
   "cell_type": "code",
   "execution_count": 28,
   "metadata": {},
   "outputs": [
    {
     "name": "stderr",
     "output_type": "stream",
     "text": [
      "/Users/fonnescj/anaconda3/envs/dev/lib/python3.6/site-packages/numpy/lib/arraysetops.py:463: FutureWarning: elementwise comparison failed; returning scalar instead, but in the future will perform elementwise comparison\n",
      "  mask |= (ar1 == a)\n"
     ]
    }
   ],
   "source": [
    "recalculate_weights = False\n",
    "\n",
    "if recalculate_weights:\n",
    "    progress.pandas(desc='concordance probability calculation')\n",
    "    concordance = (filtered_weights.groupby('MRN')\n",
    "                   .progress_apply(calc_concordance))\n",
    "    concordance.to_csv(CLEAN_DATA_DIR+'concordance.csv')\n",
    "    # Add a relative date (to first measurement) of each measurement\n",
    "    concordance.index = concordance.index.droplevel('MRN')\n",
    "else:\n",
    "    concordance = pd.read_csv(CLEAN_DATA_DIR+'concordance.csv', index_col=0)"
   ]
  },
  {
   "cell_type": "code",
   "execution_count": 29,
   "metadata": {},
   "outputs": [
    {
     "data": {
      "text/html": [
       "<div>\n",
       "<style>\n",
       "    .dataframe thead tr:only-child th {\n",
       "        text-align: right;\n",
       "    }\n",
       "\n",
       "    .dataframe thead th {\n",
       "        text-align: left;\n",
       "    }\n",
       "\n",
       "    .dataframe tbody tr th {\n",
       "        vertical-align: top;\n",
       "    }\n",
       "</style>\n",
       "<table border=\"1\" class=\"dataframe\">\n",
       "  <thead>\n",
       "    <tr style=\"text-align: right;\">\n",
       "      <th></th>\n",
       "      <th>uid</th>\n",
       "      <th>p</th>\n",
       "    </tr>\n",
       "    <tr>\n",
       "      <th>MRN</th>\n",
       "      <th></th>\n",
       "      <th></th>\n",
       "    </tr>\n",
       "  </thead>\n",
       "  <tbody>\n",
       "    <tr>\n",
       "      <th>49858</th>\n",
       "      <td>2628853</td>\n",
       "      <td>0.129230</td>\n",
       "    </tr>\n",
       "    <tr>\n",
       "      <th>49858</th>\n",
       "      <td>2628854</td>\n",
       "      <td>0.274433</td>\n",
       "    </tr>\n",
       "    <tr>\n",
       "      <th>49858</th>\n",
       "      <td>2628855</td>\n",
       "      <td>0.344936</td>\n",
       "    </tr>\n",
       "    <tr>\n",
       "      <th>49858</th>\n",
       "      <td>2628856</td>\n",
       "      <td>0.708973</td>\n",
       "    </tr>\n",
       "    <tr>\n",
       "      <th>49858</th>\n",
       "      <td>2628857</td>\n",
       "      <td>0.745681</td>\n",
       "    </tr>\n",
       "  </tbody>\n",
       "</table>\n",
       "</div>"
      ],
      "text/plain": [
       "           uid         p\n",
       "MRN                     \n",
       "49858  2628853  0.129230\n",
       "49858  2628854  0.274433\n",
       "49858  2628855  0.344936\n",
       "49858  2628856  0.708973\n",
       "49858  2628857  0.745681"
      ]
     },
     "execution_count": 29,
     "metadata": {},
     "output_type": "execute_result"
    }
   ],
   "source": [
    "concordance.head()"
   ]
  },
  {
   "cell_type": "code",
   "execution_count": 30,
   "metadata": {},
   "outputs": [
    {
     "data": {
      "text/html": [
       "<div>\n",
       "<style>\n",
       "    .dataframe thead tr:only-child th {\n",
       "        text-align: right;\n",
       "    }\n",
       "\n",
       "    .dataframe thead th {\n",
       "        text-align: left;\n",
       "    }\n",
       "\n",
       "    .dataframe tbody tr th {\n",
       "        vertical-align: top;\n",
       "    }\n",
       "</style>\n",
       "<table border=\"1\" class=\"dataframe\">\n",
       "  <thead>\n",
       "    <tr style=\"text-align: right;\">\n",
       "      <th></th>\n",
       "      <th>MRN</th>\n",
       "      <th>WEIGHT_DATE</th>\n",
       "      <th>WEIGHT</th>\n",
       "    </tr>\n",
       "  </thead>\n",
       "  <tbody>\n",
       "    <tr>\n",
       "      <th>2628853</th>\n",
       "      <td>49858</td>\n",
       "      <td>2013-05-03</td>\n",
       "      <td>63.50</td>\n",
       "    </tr>\n",
       "    <tr>\n",
       "      <th>2628854</th>\n",
       "      <td>49858</td>\n",
       "      <td>2013-02-02</td>\n",
       "      <td>65.80</td>\n",
       "    </tr>\n",
       "    <tr>\n",
       "      <th>2628855</th>\n",
       "      <td>49858</td>\n",
       "      <td>2012-10-29</td>\n",
       "      <td>66.93</td>\n",
       "    </tr>\n",
       "    <tr>\n",
       "      <th>2628856</th>\n",
       "      <td>49858</td>\n",
       "      <td>2010-08-23</td>\n",
       "      <td>67.00</td>\n",
       "    </tr>\n",
       "    <tr>\n",
       "      <th>2628857</th>\n",
       "      <td>49858</td>\n",
       "      <td>2010-08-22</td>\n",
       "      <td>67.20</td>\n",
       "    </tr>\n",
       "    <tr>\n",
       "      <th>2628858</th>\n",
       "      <td>49858</td>\n",
       "      <td>2010-08-22</td>\n",
       "      <td>67.22</td>\n",
       "    </tr>\n",
       "    <tr>\n",
       "      <th>2628859</th>\n",
       "      <td>49858</td>\n",
       "      <td>2010-08-21</td>\n",
       "      <td>67.36</td>\n",
       "    </tr>\n",
       "    <tr>\n",
       "      <th>2628860</th>\n",
       "      <td>49858</td>\n",
       "      <td>2010-08-21</td>\n",
       "      <td>67.40</td>\n",
       "    </tr>\n",
       "    <tr>\n",
       "      <th>2628861</th>\n",
       "      <td>49858</td>\n",
       "      <td>2010-08-24</td>\n",
       "      <td>67.40</td>\n",
       "    </tr>\n",
       "    <tr>\n",
       "      <th>2628862</th>\n",
       "      <td>49858</td>\n",
       "      <td>2009-04-11</td>\n",
       "      <td>67.50</td>\n",
       "    </tr>\n",
       "    <tr>\n",
       "      <th>2628863</th>\n",
       "      <td>49858</td>\n",
       "      <td>2009-04-12</td>\n",
       "      <td>67.50</td>\n",
       "    </tr>\n",
       "    <tr>\n",
       "      <th>2628864</th>\n",
       "      <td>49858</td>\n",
       "      <td>2009-04-10</td>\n",
       "      <td>67.80</td>\n",
       "    </tr>\n",
       "    <tr>\n",
       "      <th>2628865</th>\n",
       "      <td>49858</td>\n",
       "      <td>2009-03-20</td>\n",
       "      <td>68.00</td>\n",
       "    </tr>\n",
       "    <tr>\n",
       "      <th>2628866</th>\n",
       "      <td>49858</td>\n",
       "      <td>2009-03-20</td>\n",
       "      <td>68.00</td>\n",
       "    </tr>\n",
       "    <tr>\n",
       "      <th>2628867</th>\n",
       "      <td>49858</td>\n",
       "      <td>2009-03-20</td>\n",
       "      <td>68.00</td>\n",
       "    </tr>\n",
       "    <tr>\n",
       "      <th>2628868</th>\n",
       "      <td>49858</td>\n",
       "      <td>2010-08-20</td>\n",
       "      <td>68.00</td>\n",
       "    </tr>\n",
       "    <tr>\n",
       "      <th>2628869</th>\n",
       "      <td>49858</td>\n",
       "      <td>2010-08-30</td>\n",
       "      <td>68.08</td>\n",
       "    </tr>\n",
       "    <tr>\n",
       "      <th>2628870</th>\n",
       "      <td>49858</td>\n",
       "      <td>2013-02-04</td>\n",
       "      <td>68.10</td>\n",
       "    </tr>\n",
       "    <tr>\n",
       "      <th>2628871</th>\n",
       "      <td>49858</td>\n",
       "      <td>2011-07-14</td>\n",
       "      <td>68.27</td>\n",
       "    </tr>\n",
       "    <tr>\n",
       "      <th>2628872</th>\n",
       "      <td>49858</td>\n",
       "      <td>2011-07-14</td>\n",
       "      <td>68.30</td>\n",
       "    </tr>\n",
       "    <tr>\n",
       "      <th>2628873</th>\n",
       "      <td>49858</td>\n",
       "      <td>2011-07-14</td>\n",
       "      <td>68.30</td>\n",
       "    </tr>\n",
       "    <tr>\n",
       "      <th>2628874</th>\n",
       "      <td>49858</td>\n",
       "      <td>2009-04-13</td>\n",
       "      <td>68.55</td>\n",
       "    </tr>\n",
       "    <tr>\n",
       "      <th>2628875</th>\n",
       "      <td>49858</td>\n",
       "      <td>2009-06-08</td>\n",
       "      <td>68.69</td>\n",
       "    </tr>\n",
       "    <tr>\n",
       "      <th>2628876</th>\n",
       "      <td>49858</td>\n",
       "      <td>2012-01-30</td>\n",
       "      <td>68.97</td>\n",
       "    </tr>\n",
       "    <tr>\n",
       "      <th>2628877</th>\n",
       "      <td>49858</td>\n",
       "      <td>2011-07-25</td>\n",
       "      <td>69.54</td>\n",
       "    </tr>\n",
       "    <tr>\n",
       "      <th>2628878</th>\n",
       "      <td>49858</td>\n",
       "      <td>2009-04-21</td>\n",
       "      <td>69.63</td>\n",
       "    </tr>\n",
       "    <tr>\n",
       "      <th>2628879</th>\n",
       "      <td>49858</td>\n",
       "      <td>2010-09-13</td>\n",
       "      <td>69.85</td>\n",
       "    </tr>\n",
       "    <tr>\n",
       "      <th>2628880</th>\n",
       "      <td>49858</td>\n",
       "      <td>2011-08-29</td>\n",
       "      <td>69.85</td>\n",
       "    </tr>\n",
       "    <tr>\n",
       "      <th>2628881</th>\n",
       "      <td>49858</td>\n",
       "      <td>2009-03-23</td>\n",
       "      <td>70.20</td>\n",
       "    </tr>\n",
       "    <tr>\n",
       "      <th>2628882</th>\n",
       "      <td>49858</td>\n",
       "      <td>2009-10-05</td>\n",
       "      <td>70.39</td>\n",
       "    </tr>\n",
       "    <tr>\n",
       "      <th>...</th>\n",
       "      <td>...</td>\n",
       "      <td>...</td>\n",
       "      <td>...</td>\n",
       "    </tr>\n",
       "    <tr>\n",
       "      <th>2628893</th>\n",
       "      <td>49858</td>\n",
       "      <td>2009-10-27</td>\n",
       "      <td>71.30</td>\n",
       "    </tr>\n",
       "    <tr>\n",
       "      <th>2628894</th>\n",
       "      <td>49858</td>\n",
       "      <td>2010-02-15</td>\n",
       "      <td>71.41</td>\n",
       "    </tr>\n",
       "    <tr>\n",
       "      <th>2628895</th>\n",
       "      <td>49858</td>\n",
       "      <td>2004-03-30</td>\n",
       "      <td>71.49</td>\n",
       "    </tr>\n",
       "    <tr>\n",
       "      <th>2628896</th>\n",
       "      <td>49858</td>\n",
       "      <td>2009-03-24</td>\n",
       "      <td>71.70</td>\n",
       "    </tr>\n",
       "    <tr>\n",
       "      <th>2628897</th>\n",
       "      <td>49858</td>\n",
       "      <td>2004-09-30</td>\n",
       "      <td>72.26</td>\n",
       "    </tr>\n",
       "    <tr>\n",
       "      <th>2628898</th>\n",
       "      <td>49858</td>\n",
       "      <td>2012-07-30</td>\n",
       "      <td>72.57</td>\n",
       "    </tr>\n",
       "    <tr>\n",
       "      <th>2628899</th>\n",
       "      <td>49858</td>\n",
       "      <td>2003-09-12</td>\n",
       "      <td>72.94</td>\n",
       "    </tr>\n",
       "    <tr>\n",
       "      <th>2628900</th>\n",
       "      <td>49858</td>\n",
       "      <td>2002-03-12</td>\n",
       "      <td>73.03</td>\n",
       "    </tr>\n",
       "    <tr>\n",
       "      <th>2628901</th>\n",
       "      <td>49858</td>\n",
       "      <td>2002-09-10</td>\n",
       "      <td>73.21</td>\n",
       "    </tr>\n",
       "    <tr>\n",
       "      <th>2628902</th>\n",
       "      <td>49858</td>\n",
       "      <td>2005-09-06</td>\n",
       "      <td>73.39</td>\n",
       "    </tr>\n",
       "    <tr>\n",
       "      <th>2628903</th>\n",
       "      <td>49858</td>\n",
       "      <td>2003-03-11</td>\n",
       "      <td>73.62</td>\n",
       "    </tr>\n",
       "    <tr>\n",
       "      <th>2628904</th>\n",
       "      <td>49858</td>\n",
       "      <td>2006-04-05</td>\n",
       "      <td>73.94</td>\n",
       "    </tr>\n",
       "    <tr>\n",
       "      <th>2628905</th>\n",
       "      <td>49858</td>\n",
       "      <td>2009-04-10</td>\n",
       "      <td>73.98</td>\n",
       "    </tr>\n",
       "    <tr>\n",
       "      <th>2628906</th>\n",
       "      <td>49858</td>\n",
       "      <td>2009-04-12</td>\n",
       "      <td>73.98</td>\n",
       "    </tr>\n",
       "    <tr>\n",
       "      <th>2628907</th>\n",
       "      <td>49858</td>\n",
       "      <td>2009-03-14</td>\n",
       "      <td>74.00</td>\n",
       "    </tr>\n",
       "    <tr>\n",
       "      <th>2628908</th>\n",
       "      <td>49858</td>\n",
       "      <td>2009-03-17</td>\n",
       "      <td>74.00</td>\n",
       "    </tr>\n",
       "    <tr>\n",
       "      <th>2628909</th>\n",
       "      <td>49858</td>\n",
       "      <td>2009-03-18</td>\n",
       "      <td>74.00</td>\n",
       "    </tr>\n",
       "    <tr>\n",
       "      <th>2628910</th>\n",
       "      <td>49858</td>\n",
       "      <td>2009-03-24</td>\n",
       "      <td>74.00</td>\n",
       "    </tr>\n",
       "    <tr>\n",
       "      <th>2628911</th>\n",
       "      <td>49858</td>\n",
       "      <td>2013-05-04</td>\n",
       "      <td>74.00</td>\n",
       "    </tr>\n",
       "    <tr>\n",
       "      <th>2628912</th>\n",
       "      <td>49858</td>\n",
       "      <td>2005-03-15</td>\n",
       "      <td>74.25</td>\n",
       "    </tr>\n",
       "    <tr>\n",
       "      <th>2628913</th>\n",
       "      <td>49858</td>\n",
       "      <td>2007-10-18</td>\n",
       "      <td>74.43</td>\n",
       "    </tr>\n",
       "    <tr>\n",
       "      <th>2628914</th>\n",
       "      <td>49858</td>\n",
       "      <td>2008-10-21</td>\n",
       "      <td>74.48</td>\n",
       "    </tr>\n",
       "    <tr>\n",
       "      <th>2628915</th>\n",
       "      <td>49858</td>\n",
       "      <td>2006-11-07</td>\n",
       "      <td>74.84</td>\n",
       "    </tr>\n",
       "    <tr>\n",
       "      <th>2628916</th>\n",
       "      <td>49858</td>\n",
       "      <td>2009-03-15</td>\n",
       "      <td>74.84</td>\n",
       "    </tr>\n",
       "    <tr>\n",
       "      <th>2628917</th>\n",
       "      <td>49858</td>\n",
       "      <td>2007-04-12</td>\n",
       "      <td>75.43</td>\n",
       "    </tr>\n",
       "    <tr>\n",
       "      <th>2628918</th>\n",
       "      <td>49858</td>\n",
       "      <td>2009-03-17</td>\n",
       "      <td>75.50</td>\n",
       "    </tr>\n",
       "    <tr>\n",
       "      <th>2628919</th>\n",
       "      <td>49858</td>\n",
       "      <td>2009-03-17</td>\n",
       "      <td>75.52</td>\n",
       "    </tr>\n",
       "    <tr>\n",
       "      <th>2628920</th>\n",
       "      <td>49858</td>\n",
       "      <td>2009-03-18</td>\n",
       "      <td>75.75</td>\n",
       "    </tr>\n",
       "    <tr>\n",
       "      <th>2628921</th>\n",
       "      <td>49858</td>\n",
       "      <td>2009-03-14</td>\n",
       "      <td>76.80</td>\n",
       "    </tr>\n",
       "    <tr>\n",
       "      <th>2628922</th>\n",
       "      <td>49858</td>\n",
       "      <td>2012-09-10</td>\n",
       "      <td>78.06</td>\n",
       "    </tr>\n",
       "  </tbody>\n",
       "</table>\n",
       "<p>70 rows × 3 columns</p>\n",
       "</div>"
      ],
      "text/plain": [
       "           MRN WEIGHT_DATE  WEIGHT\n",
       "2628853  49858  2013-05-03   63.50\n",
       "2628854  49858  2013-02-02   65.80\n",
       "2628855  49858  2012-10-29   66.93\n",
       "2628856  49858  2010-08-23   67.00\n",
       "2628857  49858  2010-08-22   67.20\n",
       "2628858  49858  2010-08-22   67.22\n",
       "2628859  49858  2010-08-21   67.36\n",
       "2628860  49858  2010-08-21   67.40\n",
       "2628861  49858  2010-08-24   67.40\n",
       "2628862  49858  2009-04-11   67.50\n",
       "2628863  49858  2009-04-12   67.50\n",
       "2628864  49858  2009-04-10   67.80\n",
       "2628865  49858  2009-03-20   68.00\n",
       "2628866  49858  2009-03-20   68.00\n",
       "2628867  49858  2009-03-20   68.00\n",
       "2628868  49858  2010-08-20   68.00\n",
       "2628869  49858  2010-08-30   68.08\n",
       "2628870  49858  2013-02-04   68.10\n",
       "2628871  49858  2011-07-14   68.27\n",
       "2628872  49858  2011-07-14   68.30\n",
       "2628873  49858  2011-07-14   68.30\n",
       "2628874  49858  2009-04-13   68.55\n",
       "2628875  49858  2009-06-08   68.69\n",
       "2628876  49858  2012-01-30   68.97\n",
       "2628877  49858  2011-07-25   69.54\n",
       "2628878  49858  2009-04-21   69.63\n",
       "2628879  49858  2010-09-13   69.85\n",
       "2628880  49858  2011-08-29   69.85\n",
       "2628881  49858  2009-03-23   70.20\n",
       "2628882  49858  2009-10-05   70.39\n",
       "...        ...         ...     ...\n",
       "2628893  49858  2009-10-27   71.30\n",
       "2628894  49858  2010-02-15   71.41\n",
       "2628895  49858  2004-03-30   71.49\n",
       "2628896  49858  2009-03-24   71.70\n",
       "2628897  49858  2004-09-30   72.26\n",
       "2628898  49858  2012-07-30   72.57\n",
       "2628899  49858  2003-09-12   72.94\n",
       "2628900  49858  2002-03-12   73.03\n",
       "2628901  49858  2002-09-10   73.21\n",
       "2628902  49858  2005-09-06   73.39\n",
       "2628903  49858  2003-03-11   73.62\n",
       "2628904  49858  2006-04-05   73.94\n",
       "2628905  49858  2009-04-10   73.98\n",
       "2628906  49858  2009-04-12   73.98\n",
       "2628907  49858  2009-03-14   74.00\n",
       "2628908  49858  2009-03-17   74.00\n",
       "2628909  49858  2009-03-18   74.00\n",
       "2628910  49858  2009-03-24   74.00\n",
       "2628911  49858  2013-05-04   74.00\n",
       "2628912  49858  2005-03-15   74.25\n",
       "2628913  49858  2007-10-18   74.43\n",
       "2628914  49858  2008-10-21   74.48\n",
       "2628915  49858  2006-11-07   74.84\n",
       "2628916  49858  2009-03-15   74.84\n",
       "2628917  49858  2007-04-12   75.43\n",
       "2628918  49858  2009-03-17   75.50\n",
       "2628919  49858  2009-03-17   75.52\n",
       "2628920  49858  2009-03-18   75.75\n",
       "2628921  49858  2009-03-14   76.80\n",
       "2628922  49858  2012-09-10   78.06\n",
       "\n",
       "[70 rows x 3 columns]"
      ]
     },
     "execution_count": 30,
     "metadata": {},
     "output_type": "execute_result"
    }
   ],
   "source": [
    "filtered_weights.query('MRN==49858')"
   ]
  },
  {
   "cell_type": "code",
   "execution_count": 31,
   "metadata": {},
   "outputs": [
    {
     "data": {
      "text/plain": [
       "0.0047287468770074569"
      ]
     },
     "execution_count": 31,
     "metadata": {},
     "output_type": "execute_result"
    }
   ],
   "source": [
    "(concordance.p<0.01).mean()"
   ]
  },
  {
   "cell_type": "code",
   "execution_count": 32,
   "metadata": {},
   "outputs": [
    {
     "data": {
      "text/plain": [
       "(5917001, 2)"
      ]
     },
     "execution_count": 32,
     "metadata": {},
     "output_type": "execute_result"
    }
   ],
   "source": [
    "concordance.shape"
   ]
  },
  {
   "cell_type": "markdown",
   "metadata": {},
   "source": [
    "Proportion excluded as a function of concordance threshold."
   ]
  },
  {
   "cell_type": "code",
   "execution_count": 33,
   "metadata": {},
   "outputs": [
    {
     "data": {
      "image/png": "[encoded data removed]",
      "text/plain": [
       "<matplotlib.figure.Figure at 0x1baa24710>"
      ]
     },
     "metadata": {},
     "output_type": "display_data"
    }
   ],
   "source": [
    "plt.figure()\n",
    "plt.plot([(concordance.p<p).mean() for p in np.linspace(0, 1, 100)])\n",
    "plt.xlabel('Concordance probability threshold')\n",
    "plt.ylabel('Proportion excluded');"
   ]
  },
  {
   "cell_type": "markdown",
   "metadata": {},
   "source": [
    "Merge concordance probabilities"
   ]
  },
  {
   "cell_type": "code",
   "execution_count": 34,
   "metadata": {},
   "outputs": [],
   "source": [
    "weights = filtered_weights.merge(concordance, left_index=True, right_on='uid')"
   ]
  },
  {
   "cell_type": "code",
   "execution_count": 35,
   "metadata": {},
   "outputs": [],
   "source": [
    "weights['Weight_filtered'] = weights.WEIGHT.copy()\n",
    "weights.loc[weights.p<0.05, 'Weight_filtered'] = np.nan"
   ]
  },
  {
   "cell_type": "markdown",
   "metadata": {},
   "source": [
    "Add age to each measurement"
   ]
  },
  {
   "cell_type": "code",
   "execution_count": 36,
   "metadata": {},
   "outputs": [],
   "source": [
    "weights = weights.merge(demographics[['DOB']], left_on='MRN', right_index=True)\n",
    "weights['AGE'] = (weights.WEIGHT_DATE - weights.DOB).astype('<m8[Y]')"
   ]
  },
  {
   "cell_type": "markdown",
   "metadata": {},
   "source": [
    "Calculate BMI"
   ]
  },
  {
   "cell_type": "code",
   "execution_count": 37,
   "metadata": {},
   "outputs": [],
   "source": [
    "bmi = weights.merge(height_raw, left_on=['MRN', 'WEIGHT_DATE'], \n",
    "              right_on=['MRN', 'HEIGHT_DATE'])\n",
    "bmi['BMI'] = bmi.Weight_filtered / (bmi.HEIGHT / 100)**2"
   ]
  },
  {
   "cell_type": "code",
   "execution_count": 38,
   "metadata": {},
   "outputs": [
    {
     "data": {
      "text/plain": [
       "<matplotlib.axes._subplots.AxesSubplot at 0x11c984fd0>"
      ]
     },
     "execution_count": 38,
     "metadata": {},
     "output_type": "execute_result"
    },
    {
     "data": {
      "image/png": "[encoded data removed]",
      "text/plain": [
       "<matplotlib.figure.Figure at 0x11c981cc0>"
      ]
     },
     "metadata": {},
     "output_type": "display_data"
    }
   ],
   "source": [
    "bmi.BMI.hist()"
   ]
  },
  {
   "cell_type": "markdown",
   "metadata": {},
   "source": [
    "Confirm no missing p's"
   ]
  },
  {
   "cell_type": "code",
   "execution_count": 39,
   "metadata": {},
   "outputs": [
    {
     "data": {
      "text/plain": [
       "1.0"
      ]
     },
     "execution_count": 39,
     "metadata": {},
     "output_type": "execute_result"
    }
   ],
   "source": [
    "bmi.p.notnull().mean()"
   ]
  },
  {
   "cell_type": "code",
   "execution_count": 40,
   "metadata": {},
   "outputs": [],
   "source": [
    "bmi.drop(['uid', 'p'], axis=1).to_csv(CLEAN_DATA_DIR+'bmi_full.csv')"
   ]
  },
  {
   "cell_type": "code",
   "execution_count": 41,
   "metadata": {},
   "outputs": [],
   "source": [
    "del weights\n",
    "del weight_raw\n",
    "del weights_nonpreg\n",
    "del weight_counts\n",
    "del filtered_weights\n",
    "del height_raw"
   ]
  },
  {
   "cell_type": "markdown",
   "metadata": {},
   "source": [
    "Pivot table of weight by date and patient"
   ]
  },
  {
   "cell_type": "code",
   "execution_count": 42,
   "metadata": {},
   "outputs": [],
   "source": [
    "bmi_by_patient = pd.pivot_table(bmi, \n",
    "                        index='WEIGHT_DATE', columns='MRN', values='BMI')"
   ]
  },
  {
   "cell_type": "code",
   "execution_count": 43,
   "metadata": {},
   "outputs": [],
   "source": [
    "del bmi"
   ]
  },
  {
   "cell_type": "code",
   "execution_count": 44,
   "metadata": {},
   "outputs": [
    {
     "data": {
      "text/html": [
       "<div>\n",
       "<style>\n",
       "    .dataframe thead tr:only-child th {\n",
       "        text-align: right;\n",
       "    }\n",
       "\n",
       "    .dataframe thead th {\n",
       "        text-align: left;\n",
       "    }\n",
       "\n",
       "    .dataframe tbody tr th {\n",
       "        vertical-align: top;\n",
       "    }\n",
       "</style>\n",
       "<table border=\"1\" class=\"dataframe\">\n",
       "  <thead>\n",
       "    <tr style=\"text-align: right;\">\n",
       "      <th>MRN</th>\n",
       "      <th>49858</th>\n",
       "      <th>76216</th>\n",
       "      <th>171892</th>\n",
       "      <th>361972</th>\n",
       "      <th>390393</th>\n",
       "      <th>428169</th>\n",
       "      <th>443465</th>\n",
       "      <th>472613</th>\n",
       "      <th>509554</th>\n",
       "      <th>544221</th>\n",
       "      <th>...</th>\n",
       "      <th>95586095</th>\n",
       "      <th>95657524</th>\n",
       "      <th>95805263</th>\n",
       "      <th>96044581</th>\n",
       "      <th>96115373</th>\n",
       "      <th>96193156</th>\n",
       "      <th>96224647</th>\n",
       "      <th>96447065</th>\n",
       "      <th>96505185</th>\n",
       "      <th>96796297</th>\n",
       "    </tr>\n",
       "    <tr>\n",
       "      <th>WEIGHT_DATE</th>\n",
       "      <th></th>\n",
       "      <th></th>\n",
       "      <th></th>\n",
       "      <th></th>\n",
       "      <th></th>\n",
       "      <th></th>\n",
       "      <th></th>\n",
       "      <th></th>\n",
       "      <th></th>\n",
       "      <th></th>\n",
       "      <th></th>\n",
       "      <th></th>\n",
       "      <th></th>\n",
       "      <th></th>\n",
       "      <th></th>\n",
       "      <th></th>\n",
       "      <th></th>\n",
       "      <th></th>\n",
       "      <th></th>\n",
       "      <th></th>\n",
       "      <th></th>\n",
       "    </tr>\n",
       "  </thead>\n",
       "  <tbody>\n",
       "    <tr>\n",
       "      <th>1999-12-07</th>\n",
       "      <td>NaN</td>\n",
       "      <td>NaN</td>\n",
       "      <td>NaN</td>\n",
       "      <td>NaN</td>\n",
       "      <td>NaN</td>\n",
       "      <td>NaN</td>\n",
       "      <td>NaN</td>\n",
       "      <td>NaN</td>\n",
       "      <td>NaN</td>\n",
       "      <td>NaN</td>\n",
       "      <td>...</td>\n",
       "      <td>NaN</td>\n",
       "      <td>NaN</td>\n",
       "      <td>NaN</td>\n",
       "      <td>NaN</td>\n",
       "      <td>NaN</td>\n",
       "      <td>NaN</td>\n",
       "      <td>NaN</td>\n",
       "      <td>NaN</td>\n",
       "      <td>NaN</td>\n",
       "      <td>NaN</td>\n",
       "    </tr>\n",
       "    <tr>\n",
       "      <th>2000-04-17</th>\n",
       "      <td>NaN</td>\n",
       "      <td>NaN</td>\n",
       "      <td>NaN</td>\n",
       "      <td>NaN</td>\n",
       "      <td>NaN</td>\n",
       "      <td>NaN</td>\n",
       "      <td>NaN</td>\n",
       "      <td>NaN</td>\n",
       "      <td>NaN</td>\n",
       "      <td>NaN</td>\n",
       "      <td>...</td>\n",
       "      <td>NaN</td>\n",
       "      <td>NaN</td>\n",
       "      <td>NaN</td>\n",
       "      <td>NaN</td>\n",
       "      <td>NaN</td>\n",
       "      <td>NaN</td>\n",
       "      <td>NaN</td>\n",
       "      <td>NaN</td>\n",
       "      <td>NaN</td>\n",
       "      <td>NaN</td>\n",
       "    </tr>\n",
       "    <tr>\n",
       "      <th>2000-04-24</th>\n",
       "      <td>NaN</td>\n",
       "      <td>NaN</td>\n",
       "      <td>NaN</td>\n",
       "      <td>NaN</td>\n",
       "      <td>NaN</td>\n",
       "      <td>NaN</td>\n",
       "      <td>NaN</td>\n",
       "      <td>NaN</td>\n",
       "      <td>NaN</td>\n",
       "      <td>NaN</td>\n",
       "      <td>...</td>\n",
       "      <td>NaN</td>\n",
       "      <td>NaN</td>\n",
       "      <td>NaN</td>\n",
       "      <td>NaN</td>\n",
       "      <td>NaN</td>\n",
       "      <td>NaN</td>\n",
       "      <td>NaN</td>\n",
       "      <td>NaN</td>\n",
       "      <td>NaN</td>\n",
       "      <td>NaN</td>\n",
       "    </tr>\n",
       "    <tr>\n",
       "      <th>2001-04-11</th>\n",
       "      <td>NaN</td>\n",
       "      <td>NaN</td>\n",
       "      <td>NaN</td>\n",
       "      <td>NaN</td>\n",
       "      <td>NaN</td>\n",
       "      <td>NaN</td>\n",
       "      <td>NaN</td>\n",
       "      <td>NaN</td>\n",
       "      <td>NaN</td>\n",
       "      <td>NaN</td>\n",
       "      <td>...</td>\n",
       "      <td>NaN</td>\n",
       "      <td>NaN</td>\n",
       "      <td>NaN</td>\n",
       "      <td>NaN</td>\n",
       "      <td>NaN</td>\n",
       "      <td>NaN</td>\n",
       "      <td>NaN</td>\n",
       "      <td>NaN</td>\n",
       "      <td>NaN</td>\n",
       "      <td>NaN</td>\n",
       "    </tr>\n",
       "    <tr>\n",
       "      <th>2001-06-05</th>\n",
       "      <td>NaN</td>\n",
       "      <td>NaN</td>\n",
       "      <td>NaN</td>\n",
       "      <td>NaN</td>\n",
       "      <td>NaN</td>\n",
       "      <td>NaN</td>\n",
       "      <td>NaN</td>\n",
       "      <td>NaN</td>\n",
       "      <td>NaN</td>\n",
       "      <td>NaN</td>\n",
       "      <td>...</td>\n",
       "      <td>NaN</td>\n",
       "      <td>NaN</td>\n",
       "      <td>NaN</td>\n",
       "      <td>NaN</td>\n",
       "      <td>NaN</td>\n",
       "      <td>NaN</td>\n",
       "      <td>NaN</td>\n",
       "      <td>NaN</td>\n",
       "      <td>NaN</td>\n",
       "      <td>NaN</td>\n",
       "    </tr>\n",
       "  </tbody>\n",
       "</table>\n",
       "<p>5 rows × 194414 columns</p>\n",
       "</div>"
      ],
      "text/plain": [
       "MRN          49858     76216     171892    361972    390393    428169    \\\n",
       "WEIGHT_DATE                                                               \n",
       "1999-12-07        NaN       NaN       NaN       NaN       NaN       NaN   \n",
       "2000-04-17        NaN       NaN       NaN       NaN       NaN       NaN   \n",
       "2000-04-24        NaN       NaN       NaN       NaN       NaN       NaN   \n",
       "2001-04-11        NaN       NaN       NaN       NaN       NaN       NaN   \n",
       "2001-06-05        NaN       NaN       NaN       NaN       NaN       NaN   \n",
       "\n",
       "MRN          443465    472613    509554    544221      ...     95586095  \\\n",
       "WEIGHT_DATE                                            ...                \n",
       "1999-12-07        NaN       NaN       NaN       NaN    ...          NaN   \n",
       "2000-04-17        NaN       NaN       NaN       NaN    ...          NaN   \n",
       "2000-04-24        NaN       NaN       NaN       NaN    ...          NaN   \n",
       "2001-04-11        NaN       NaN       NaN       NaN    ...          NaN   \n",
       "2001-06-05        NaN       NaN       NaN       NaN    ...          NaN   \n",
       "\n",
       "MRN          95657524  95805263  96044581  96115373  96193156  96224647  \\\n",
       "WEIGHT_DATE                                                               \n",
       "1999-12-07        NaN       NaN       NaN       NaN       NaN       NaN   \n",
       "2000-04-17        NaN       NaN       NaN       NaN       NaN       NaN   \n",
       "2000-04-24        NaN       NaN       NaN       NaN       NaN       NaN   \n",
       "2001-04-11        NaN       NaN       NaN       NaN       NaN       NaN   \n",
       "2001-06-05        NaN       NaN       NaN       NaN       NaN       NaN   \n",
       "\n",
       "MRN          96447065  96505185  96796297  \n",
       "WEIGHT_DATE                                \n",
       "1999-12-07        NaN       NaN       NaN  \n",
       "2000-04-17        NaN       NaN       NaN  \n",
       "2000-04-24        NaN       NaN       NaN  \n",
       "2001-04-11        NaN       NaN       NaN  \n",
       "2001-06-05        NaN       NaN       NaN  \n",
       "\n",
       "[5 rows x 194414 columns]"
      ]
     },
     "execution_count": 44,
     "metadata": {},
     "output_type": "execute_result"
    }
   ],
   "source": [
    "bmi_by_patient.head()"
   ]
  },
  {
   "cell_type": "markdown",
   "metadata": {},
   "source": [
    "Resample to monthly"
   ]
  },
  {
   "cell_type": "code",
   "execution_count": 45,
   "metadata": {},
   "outputs": [],
   "source": [
    "monthly_bmi = bmi_by_patient.resample('M').median()"
   ]
  },
  {
   "cell_type": "code",
   "execution_count": 46,
   "metadata": {},
   "outputs": [
    {
     "data": {
      "text/html": [
       "<div>\n",
       "<style>\n",
       "    .dataframe thead tr:only-child th {\n",
       "        text-align: right;\n",
       "    }\n",
       "\n",
       "    .dataframe thead th {\n",
       "        text-align: left;\n",
       "    }\n",
       "\n",
       "    .dataframe tbody tr th {\n",
       "        vertical-align: top;\n",
       "    }\n",
       "</style>\n",
       "<table border=\"1\" class=\"dataframe\">\n",
       "  <thead>\n",
       "    <tr style=\"text-align: right;\">\n",
       "      <th>MRN</th>\n",
       "      <th>49858</th>\n",
       "      <th>76216</th>\n",
       "      <th>171892</th>\n",
       "      <th>361972</th>\n",
       "      <th>390393</th>\n",
       "      <th>428169</th>\n",
       "      <th>443465</th>\n",
       "      <th>472613</th>\n",
       "      <th>509554</th>\n",
       "      <th>544221</th>\n",
       "      <th>...</th>\n",
       "      <th>95586095</th>\n",
       "      <th>95657524</th>\n",
       "      <th>95805263</th>\n",
       "      <th>96044581</th>\n",
       "      <th>96115373</th>\n",
       "      <th>96193156</th>\n",
       "      <th>96224647</th>\n",
       "      <th>96447065</th>\n",
       "      <th>96505185</th>\n",
       "      <th>96796297</th>\n",
       "    </tr>\n",
       "    <tr>\n",
       "      <th>WEIGHT_DATE</th>\n",
       "      <th></th>\n",
       "      <th></th>\n",
       "      <th></th>\n",
       "      <th></th>\n",
       "      <th></th>\n",
       "      <th></th>\n",
       "      <th></th>\n",
       "      <th></th>\n",
       "      <th></th>\n",
       "      <th></th>\n",
       "      <th></th>\n",
       "      <th></th>\n",
       "      <th></th>\n",
       "      <th></th>\n",
       "      <th></th>\n",
       "      <th></th>\n",
       "      <th></th>\n",
       "      <th></th>\n",
       "      <th></th>\n",
       "      <th></th>\n",
       "      <th></th>\n",
       "    </tr>\n",
       "  </thead>\n",
       "  <tbody>\n",
       "    <tr>\n",
       "      <th>2016-08-31</th>\n",
       "      <td>NaN</td>\n",
       "      <td>NaN</td>\n",
       "      <td>18.428992</td>\n",
       "      <td>NaN</td>\n",
       "      <td>22.699637</td>\n",
       "      <td>NaN</td>\n",
       "      <td>NaN</td>\n",
       "      <td>NaN</td>\n",
       "      <td>NaN</td>\n",
       "      <td>NaN</td>\n",
       "      <td>...</td>\n",
       "      <td>NaN</td>\n",
       "      <td>NaN</td>\n",
       "      <td>NaN</td>\n",
       "      <td>NaN</td>\n",
       "      <td>NaN</td>\n",
       "      <td>NaN</td>\n",
       "      <td>NaN</td>\n",
       "      <td>NaN</td>\n",
       "      <td>33.643997</td>\n",
       "      <td>NaN</td>\n",
       "    </tr>\n",
       "    <tr>\n",
       "      <th>2016-09-30</th>\n",
       "      <td>NaN</td>\n",
       "      <td>NaN</td>\n",
       "      <td>NaN</td>\n",
       "      <td>NaN</td>\n",
       "      <td>22.147107</td>\n",
       "      <td>NaN</td>\n",
       "      <td>29.977796</td>\n",
       "      <td>NaN</td>\n",
       "      <td>NaN</td>\n",
       "      <td>NaN</td>\n",
       "      <td>...</td>\n",
       "      <td>NaN</td>\n",
       "      <td>NaN</td>\n",
       "      <td>NaN</td>\n",
       "      <td>NaN</td>\n",
       "      <td>NaN</td>\n",
       "      <td>29.914396</td>\n",
       "      <td>NaN</td>\n",
       "      <td>NaN</td>\n",
       "      <td>NaN</td>\n",
       "      <td>NaN</td>\n",
       "    </tr>\n",
       "    <tr>\n",
       "      <th>2016-10-31</th>\n",
       "      <td>NaN</td>\n",
       "      <td>NaN</td>\n",
       "      <td>18.883094</td>\n",
       "      <td>NaN</td>\n",
       "      <td>22.287602</td>\n",
       "      <td>NaN</td>\n",
       "      <td>29.681534</td>\n",
       "      <td>NaN</td>\n",
       "      <td>NaN</td>\n",
       "      <td>25.790374</td>\n",
       "      <td>...</td>\n",
       "      <td>NaN</td>\n",
       "      <td>NaN</td>\n",
       "      <td>NaN</td>\n",
       "      <td>NaN</td>\n",
       "      <td>NaN</td>\n",
       "      <td>NaN</td>\n",
       "      <td>NaN</td>\n",
       "      <td>37.416899</td>\n",
       "      <td>33.643997</td>\n",
       "      <td>NaN</td>\n",
       "    </tr>\n",
       "    <tr>\n",
       "      <th>2016-11-30</th>\n",
       "      <td>NaN</td>\n",
       "      <td>NaN</td>\n",
       "      <td>NaN</td>\n",
       "      <td>NaN</td>\n",
       "      <td>21.557696</td>\n",
       "      <td>NaN</td>\n",
       "      <td>NaN</td>\n",
       "      <td>NaN</td>\n",
       "      <td>NaN</td>\n",
       "      <td>25.790374</td>\n",
       "      <td>...</td>\n",
       "      <td>NaN</td>\n",
       "      <td>NaN</td>\n",
       "      <td>NaN</td>\n",
       "      <td>NaN</td>\n",
       "      <td>NaN</td>\n",
       "      <td>NaN</td>\n",
       "      <td>NaN</td>\n",
       "      <td>NaN</td>\n",
       "      <td>NaN</td>\n",
       "      <td>NaN</td>\n",
       "    </tr>\n",
       "    <tr>\n",
       "      <th>2016-12-31</th>\n",
       "      <td>NaN</td>\n",
       "      <td>NaN</td>\n",
       "      <td>NaN</td>\n",
       "      <td>NaN</td>\n",
       "      <td>20.800628</td>\n",
       "      <td>NaN</td>\n",
       "      <td>29.535031</td>\n",
       "      <td>NaN</td>\n",
       "      <td>NaN</td>\n",
       "      <td>NaN</td>\n",
       "      <td>...</td>\n",
       "      <td>NaN</td>\n",
       "      <td>NaN</td>\n",
       "      <td>NaN</td>\n",
       "      <td>NaN</td>\n",
       "      <td>NaN</td>\n",
       "      <td>NaN</td>\n",
       "      <td>NaN</td>\n",
       "      <td>NaN</td>\n",
       "      <td>NaN</td>\n",
       "      <td>NaN</td>\n",
       "    </tr>\n",
       "  </tbody>\n",
       "</table>\n",
       "<p>5 rows × 194414 columns</p>\n",
       "</div>"
      ],
      "text/plain": [
       "MRN          49858     76216      171892    361972     390393    428169    \\\n",
       "WEIGHT_DATE                                                                 \n",
       "2016-08-31        NaN       NaN  18.428992       NaN  22.699637       NaN   \n",
       "2016-09-30        NaN       NaN        NaN       NaN  22.147107       NaN   \n",
       "2016-10-31        NaN       NaN  18.883094       NaN  22.287602       NaN   \n",
       "2016-11-30        NaN       NaN        NaN       NaN  21.557696       NaN   \n",
       "2016-12-31        NaN       NaN        NaN       NaN  20.800628       NaN   \n",
       "\n",
       "MRN           443465    472613    509554     544221      ...     95586095  \\\n",
       "WEIGHT_DATE                                              ...                \n",
       "2016-08-31         NaN       NaN       NaN        NaN    ...          NaN   \n",
       "2016-09-30   29.977796       NaN       NaN        NaN    ...          NaN   \n",
       "2016-10-31   29.681534       NaN       NaN  25.790374    ...          NaN   \n",
       "2016-11-30         NaN       NaN       NaN  25.790374    ...          NaN   \n",
       "2016-12-31   29.535031       NaN       NaN        NaN    ...          NaN   \n",
       "\n",
       "MRN          95657524  95805263  96044581  96115373   96193156  96224647  \\\n",
       "WEIGHT_DATE                                                                \n",
       "2016-08-31        NaN       NaN       NaN       NaN        NaN       NaN   \n",
       "2016-09-30        NaN       NaN       NaN       NaN  29.914396       NaN   \n",
       "2016-10-31        NaN       NaN       NaN       NaN        NaN       NaN   \n",
       "2016-11-30        NaN       NaN       NaN       NaN        NaN       NaN   \n",
       "2016-12-31        NaN       NaN       NaN       NaN        NaN       NaN   \n",
       "\n",
       "MRN           96447065   96505185  96796297  \n",
       "WEIGHT_DATE                                  \n",
       "2016-08-31         NaN  33.643997       NaN  \n",
       "2016-09-30         NaN        NaN       NaN  \n",
       "2016-10-31   37.416899  33.643997       NaN  \n",
       "2016-11-30         NaN        NaN       NaN  \n",
       "2016-12-31         NaN        NaN       NaN  \n",
       "\n",
       "[5 rows x 194414 columns]"
      ]
     },
     "execution_count": 46,
     "metadata": {},
     "output_type": "execute_result"
    }
   ],
   "source": [
    "monthly_bmi.tail()"
   ]
  },
  {
   "cell_type": "code",
   "execution_count": 47,
   "metadata": {},
   "outputs": [],
   "source": [
    "del bmi_by_patient"
   ]
  },
  {
   "cell_type": "code",
   "execution_count": 48,
   "metadata": {},
   "outputs": [],
   "source": [
    "def shift_null(x):\n",
    "    first_notnull = x[x.notnull()].index.min()\n",
    "    return x.shift(-first_notnull)"
   ]
  },
  {
   "cell_type": "code",
   "execution_count": 49,
   "metadata": {},
   "outputs": [],
   "source": [
    "def shift_null_array(x):\n",
    "    first_non_null = np.nonzero(~np.isnan(x))[0][0]\n",
    "    shifted = x[first_non_null:]\n",
    "    x_shifted = np.full_like(x, np.nan) \n",
    "    x_shifted[:len(shifted)] = shifted\n",
    "    return x_shifted"
   ]
  },
  {
   "cell_type": "code",
   "execution_count": 50,
   "metadata": {},
   "outputs": [],
   "source": [
    "bmi_shifted = np.array([shift_null_array(x) for x in monthly_bmi.values.T])"
   ]
  },
  {
   "cell_type": "code",
   "execution_count": 51,
   "metadata": {},
   "outputs": [],
   "source": [
    "first_2yrs = bmi_shifted[:, :24]"
   ]
  },
  {
   "cell_type": "code",
   "execution_count": 52,
   "metadata": {},
   "outputs": [
    {
     "data": {
      "text/plain": [
       "(194414, 24)"
      ]
     },
     "execution_count": 52,
     "metadata": {},
     "output_type": "execute_result"
    }
   ],
   "source": [
    "subset_2yrs = pd.DataFrame(first_2yrs, index=monthly_bmi.columns)\n",
    "subset_2yrs.shape"
   ]
  },
  {
   "cell_type": "code",
   "execution_count": 53,
   "metadata": {},
   "outputs": [],
   "source": [
    "subset_2yrs_min5 = subset_2yrs[subset_2yrs.notnull().sum(axis=1) > 4]"
   ]
  },
  {
   "cell_type": "code",
   "execution_count": 54,
   "metadata": {},
   "outputs": [],
   "source": [
    "subset_2yrs_min5.to_csv(CLEAN_DATA_DIR+'subset_2yrs.csv')"
   ]
  },
  {
   "cell_type": "code",
   "execution_count": 55,
   "metadata": {},
   "outputs": [
    {
     "data": {
      "text/plain": [
       "<matplotlib.axes._subplots.AxesSubplot at 0x11d422080>"
      ]
     },
     "execution_count": 55,
     "metadata": {},
     "output_type": "execute_result"
    },
    {
     "data": {
      "image/png": "[encoded data removed]",
      "text/plain": [
       "<matplotlib.figure.Figure at 0x11d4e77b8>"
      ]
     },
     "metadata": {},
     "output_type": "display_data"
    }
   ],
   "source": [
    "(pd.DataFrame(subset_2yrs_min5.values[np.random.choice(np.arange(len(subset_2yrs_min5)), 200)]).T.interpolate()\n",
    "                    .plot(legend=False, alpha=0.3, figsize=(16,6)))"
   ]
  },
  {
   "cell_type": "markdown",
   "metadata": {},
   "source": [
    "---"
   ]
  },
  {
   "cell_type": "code",
   "execution_count": 57,
   "metadata": {},
   "outputs": [],
   "source": [
    "import sys\n",
    "\n",
    "def show_mem_usage():\n",
    "    '''Displays memory usage from inspection\n",
    "    of global variables in this notebook'''\n",
    "    gl = sys._getframe(1).f_globals\n",
    "    vars= {}\n",
    "    for k,v in list(gl.items()):\n",
    "        # for pandas dataframes\n",
    "        if hasattr(v, 'memory_usage'):\n",
    "            mem = v.memory_usage(deep=True)\n",
    "            if not np.isscalar(mem):\n",
    "                mem = mem.sum()\n",
    "            vars.setdefault(id(v),[mem]).append(k)\n",
    "        # work around for a bug\n",
    "        elif isinstance(v,pd.Panel):\n",
    "            v = v.values\n",
    "        vars.setdefault(id(v),[sys.getsizeof(v)]).append(k)\n",
    "    total = 0\n",
    "    for k,(value,*names) in vars.items():\n",
    "        if value>1e6:\n",
    "            print(names,\"%.3fMB\"%(value/1e6))\n",
    "        total += value\n",
    "    print(\"%.3fMB\"%(total/1e6))"
   ]
  },
  {
   "cell_type": "code",
   "execution_count": 58,
   "metadata": {},
   "outputs": [
    {
     "name": "stdout",
     "output_type": "stream",
     "text": [
      "['_', '_', '_56', '_56'] 3.783MB\n",
      "['demographics', 'demographics'] 114.229MB\n",
      "['flagged_demographics', 'flagged_demographics'] 201.055MB\n",
      "['dflist'] 3.013MB\n",
      "['concordance', 'concordance'] 142.008MB\n",
      "['_44', '_44'] 7.777MB\n",
      "['monthly_bmi', 'monthly_bmi'] 318.841MB\n",
      "['_46', '_46'] 7.777MB\n",
      "['bmi_shifted'] 318.839MB\n",
      "['subset_2yrs', 'subset_2yrs'] 44.126MB\n",
      "['subset_2yrs_min5', 'subset_2yrs_min5'] 14.523MB\n",
      "1175.991MB\n"
     ]
    }
   ],
   "source": [
    "show_mem_usage()"
   ]
  }
 ],
 "metadata": {
  "kernelspec": {
   "display_name": "Python 3",
   "language": "python",
   "name": "python3"
  },
  "language_info": {
   "codemirror_mode": {
    "name": "ipython",
    "version": 3
   },
   "file_extension": ".py",
   "mimetype": "text/x-python",
   "name": "python",
   "nbconvert_exporter": "python",
   "pygments_lexer": "ipython3",
   "version": "3.6.1"
  },
  "toc": {
   "colors": {
    "hover_highlight": "#DAA520",
    "running_highlight": "#FF0000",
    "selected_highlight": "#FFD700"
   },
   "moveMenuLeft": true,
   "nav_menu": {
    "height": "30px",
    "width": "252px"
   },
   "navigate_menu": true,
   "number_sections": true,
   "sideBar": true,
   "threshold": "2",
   "toc_cell": false,
   "toc_section_display": "block",
   "toc_window_display": false,
   "widenNotebook": false
  }
 },
 "nbformat": 4,
 "nbformat_minor": 2
}
