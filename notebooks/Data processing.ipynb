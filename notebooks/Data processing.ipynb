{
 "cells": [
  {
   "cell_type": "code",
   "execution_count": 1,
   "metadata": {
    "collapsed": true
   },
   "outputs": [],
   "source": [
    "%matplotlib inline\n",
    "import numpy as np\n",
    "import pandas as pd\n",
    "import seaborn as sns\n",
    "import matplotlib.pylab as plt\n",
    "\n",
    "DATA_DIR = '../data/raw/'"
   ]
  },
  {
   "cell_type": "markdown",
   "metadata": {},
   "source": [
    "# Import and process data\n",
    "\n",
    "### Weight data"
   ]
  },
  {
   "cell_type": "code",
   "execution_count": 2,
   "metadata": {
    "collapsed": false
   },
   "outputs": [
    {
     "data": {
      "text/html": [
       "<div>\n",
       "<table border=\"1\" class=\"dataframe\">\n",
       "  <thead>\n",
       "    <tr style=\"text-align: right;\">\n",
       "      <th></th>\n",
       "      <th>MRN</th>\n",
       "      <th>WEIGHT_DATE</th>\n",
       "      <th>WEIGHT</th>\n",
       "      <th>PREGNANCY_INDICATOR</th>\n",
       "    </tr>\n",
       "  </thead>\n",
       "  <tbody>\n",
       "    <tr>\n",
       "      <th>0</th>\n",
       "      <td>9994104</td>\n",
       "      <td>2011-08-02</td>\n",
       "      <td>72.58</td>\n",
       "      <td>1</td>\n",
       "    </tr>\n",
       "    <tr>\n",
       "      <th>1</th>\n",
       "      <td>9994104</td>\n",
       "      <td>2016-01-11</td>\n",
       "      <td>79.51</td>\n",
       "      <td>1</td>\n",
       "    </tr>\n",
       "    <tr>\n",
       "      <th>2</th>\n",
       "      <td>9994104</td>\n",
       "      <td>2016-02-02</td>\n",
       "      <td>79.85</td>\n",
       "      <td>1</td>\n",
       "    </tr>\n",
       "    <tr>\n",
       "      <th>3</th>\n",
       "      <td>9994104</td>\n",
       "      <td>2016-02-06</td>\n",
       "      <td>80.65</td>\n",
       "      <td>1</td>\n",
       "    </tr>\n",
       "    <tr>\n",
       "      <th>4</th>\n",
       "      <td>9994104</td>\n",
       "      <td>2015-11-12</td>\n",
       "      <td>80.74</td>\n",
       "      <td>1</td>\n",
       "    </tr>\n",
       "  </tbody>\n",
       "</table>\n",
       "</div>"
      ],
      "text/plain": [
       "       MRN WEIGHT_DATE  WEIGHT  PREGNANCY_INDICATOR\n",
       "0  9994104  2011-08-02   72.58                    1\n",
       "1  9994104  2016-01-11   79.51                    1\n",
       "2  9994104  2016-02-02   79.85                    1\n",
       "3  9994104  2016-02-06   80.65                    1\n",
       "4  9994104  2015-11-12   80.74                    1"
      ]
     },
     "execution_count": 2,
     "metadata": {},
     "output_type": "execute_result"
    }
   ],
   "source": [
    "weight_raw = pd.read_csv(DATA_DIR + 'pcori_heerman_cohort_weight_20170116.csv', \n",
    "                         parse_dates=[1], infer_datetime_format=True)\n",
    "weight_raw.head()"
   ]
  },
  {
   "cell_type": "code",
   "execution_count": 3,
   "metadata": {
    "collapsed": false
   },
   "outputs": [
    {
     "data": {
      "text/plain": [
       "(10196428, 4)"
      ]
     },
     "execution_count": 3,
     "metadata": {},
     "output_type": "execute_result"
    }
   ],
   "source": [
    "weight_raw.shape"
   ]
  },
  {
   "cell_type": "code",
   "execution_count": 4,
   "metadata": {
    "collapsed": false
   },
   "outputs": [
    {
     "data": {
      "text/plain": [
       "MRN                    0.0\n",
       "WEIGHT_DATE            0.0\n",
       "WEIGHT                 0.0\n",
       "PREGNANCY_INDICATOR    0.0\n",
       "dtype: float64"
      ]
     },
     "execution_count": 4,
     "metadata": {},
     "output_type": "execute_result"
    }
   ],
   "source": [
    "weight_raw.isnull().mean()"
   ]
  },
  {
   "cell_type": "code",
   "execution_count": 5,
   "metadata": {
    "collapsed": false
   },
   "outputs": [],
   "source": [
    "# fig, ax = plt.subplots(figsize=(8,6))\n",
    "# grouped_weight = weight_raw.set_index('WEIGHT_DATE').groupby('MRN')\n",
    "# grouped_weight.plot(ax=ax, alpha=0.4)"
   ]
  },
  {
   "cell_type": "code",
   "execution_count": 6,
   "metadata": {
    "collapsed": true
   },
   "outputs": [],
   "source": [
    "weight_counts = weight_raw.groupby('MRN')['WEIGHT_DATE'].count()"
   ]
  },
  {
   "cell_type": "code",
   "execution_count": 7,
   "metadata": {
    "collapsed": false
   },
   "outputs": [
    {
     "data": {
      "text/plain": [
       "count    529392.000000\n",
       "mean         19.260639\n",
       "std          26.483963\n",
       "min           1.000000\n",
       "25%           5.000000\n",
       "50%          10.000000\n",
       "75%          23.000000\n",
       "max        1071.000000\n",
       "Name: WEIGHT_DATE, dtype: float64"
      ]
     },
     "execution_count": 7,
     "metadata": {},
     "output_type": "execute_result"
    }
   ],
   "source": [
    "weight_counts.describe()"
   ]
  },
  {
   "cell_type": "code",
   "execution_count": 8,
   "metadata": {
    "collapsed": false
   },
   "outputs": [],
   "source": [
    "many_weights = weight_counts[weight_counts>200]"
   ]
  },
  {
   "cell_type": "code",
   "execution_count": 9,
   "metadata": {
    "collapsed": false
   },
   "outputs": [],
   "source": [
    "grouped_weights = weight_raw[weight_raw.MRN.isin(many_weights.index)].groupby('MRN')"
   ]
  },
  {
   "cell_type": "code",
   "execution_count": 10,
   "metadata": {
    "collapsed": false
   },
   "outputs": [],
   "source": [
    "# fig, ax = plt.subplots(figsize=(14,8))\n",
    "# grouped_weight = weight_raw[weight_raw.MRN.isin(many_weights.index)].set_index('WEIGHT_DATE').groupby('MRN')\n",
    "# grouped_weight.plot(ax=ax, alpha=0.4)"
   ]
  },
  {
   "cell_type": "markdown",
   "metadata": {},
   "source": []
  },
  {
   "cell_type": "code",
   "execution_count": 11,
   "metadata": {
    "collapsed": false
   },
   "outputs": [
    {
     "data": {
      "text/plain": [
       "<matplotlib.axes._subplots.AxesSubplot at 0x12953b400>"
      ]
     },
     "execution_count": 11,
     "metadata": {},
     "output_type": "execute_result"
    },
    {
     "data": {
      "image/png": "[encoded data removed]",
      "text/plain": [
       "<matplotlib.figure.Figure at 0x113f3d6a0>"
      ]
     },
     "metadata": {},
     "output_type": "display_data"
    }
   ],
   "source": [
    "weight_counts.hist(bins=50)"
   ]
  },
  {
   "cell_type": "markdown",
   "metadata": {},
   "source": [
    "### Lab values"
   ]
  },
  {
   "cell_type": "code",
   "execution_count": 12,
   "metadata": {
    "collapsed": false
   },
   "outputs": [
    {
     "data": {
      "text/html": [
       "<div>\n",
       "<table border=\"1\" class=\"dataframe\">\n",
       "  <thead>\n",
       "    <tr style=\"text-align: right;\">\n",
       "      <th></th>\n",
       "      <th>MRN</th>\n",
       "      <th>LAB_DATE</th>\n",
       "      <th>LAB_NAME</th>\n",
       "      <th>LAB_CODE</th>\n",
       "      <th>LAB_UNIT</th>\n",
       "    </tr>\n",
       "  </thead>\n",
       "  <tbody>\n",
       "    <tr>\n",
       "      <th>0</th>\n",
       "      <td>1750306</td>\n",
       "      <td>09/17/2013</td>\n",
       "      <td>Creat</td>\n",
       "      <td>NaN</td>\n",
       "      <td>mg/dL</td>\n",
       "    </tr>\n",
       "    <tr>\n",
       "      <th>1</th>\n",
       "      <td>1750306</td>\n",
       "      <td>09/19/2014</td>\n",
       "      <td>Creat</td>\n",
       "      <td>2160-0</td>\n",
       "      <td>mg/dL</td>\n",
       "    </tr>\n",
       "    <tr>\n",
       "      <th>2</th>\n",
       "      <td>3584729</td>\n",
       "      <td>12/20/2004</td>\n",
       "      <td>Creat</td>\n",
       "      <td>NaN</td>\n",
       "      <td>mg/dL</td>\n",
       "    </tr>\n",
       "    <tr>\n",
       "      <th>3</th>\n",
       "      <td>3584729</td>\n",
       "      <td>11/29/2005</td>\n",
       "      <td>HgbA1C</td>\n",
       "      <td>NaN</td>\n",
       "      <td>%</td>\n",
       "    </tr>\n",
       "    <tr>\n",
       "      <th>4</th>\n",
       "      <td>3584729</td>\n",
       "      <td>11/29/2005</td>\n",
       "      <td>Creat</td>\n",
       "      <td>NaN</td>\n",
       "      <td>mg/dL</td>\n",
       "    </tr>\n",
       "  </tbody>\n",
       "</table>\n",
       "</div>"
      ],
      "text/plain": [
       "       MRN    LAB_DATE LAB_NAME LAB_CODE LAB_UNIT\n",
       "0  1750306  09/17/2013    Creat      NaN    mg/dL\n",
       "1  1750306  09/19/2014    Creat   2160-0    mg/dL\n",
       "2  3584729  12/20/2004    Creat      NaN    mg/dL\n",
       "3  3584729  11/29/2005   HgbA1C      NaN        %\n",
       "4  3584729  11/29/2005    Creat      NaN    mg/dL"
      ]
     },
     "execution_count": 12,
     "metadata": {},
     "output_type": "execute_result"
    }
   ],
   "source": [
    "lab_raw = pd.read_csv(DATA_DIR + 'pcori_heerman_cohort_Lab_20170116.csv', \n",
    "                      parse_dates=[1], infer_datetime_format=True)\n",
    "lab_raw.head()"
   ]
  },
  {
   "cell_type": "code",
   "execution_count": 13,
   "metadata": {
    "collapsed": false
   },
   "outputs": [
    {
     "data": {
      "text/plain": [
       "(8461017, 5)"
      ]
     },
     "execution_count": 13,
     "metadata": {},
     "output_type": "execute_result"
    }
   ],
   "source": [
    "lab_raw.shape"
   ]
  },
  {
   "cell_type": "markdown",
   "metadata": {},
   "source": [
    "### ICD codes"
   ]
  },
  {
   "cell_type": "code",
   "execution_count": 14,
   "metadata": {
    "collapsed": false
   },
   "outputs": [
    {
     "data": {
      "text/html": [
       "<div>\n",
       "<table border=\"1\" class=\"dataframe\">\n",
       "  <thead>\n",
       "    <tr style=\"text-align: right;\">\n",
       "      <th></th>\n",
       "      <th>MRN</th>\n",
       "      <th>EVENT_DATE</th>\n",
       "      <th>ICD_CODE</th>\n",
       "      <th>CODE_TYPE</th>\n",
       "    </tr>\n",
       "  </thead>\n",
       "  <tbody>\n",
       "    <tr>\n",
       "      <th>0</th>\n",
       "      <td>2360139</td>\n",
       "      <td>2003-01-07</td>\n",
       "      <td>401.1</td>\n",
       "      <td>9</td>\n",
       "    </tr>\n",
       "    <tr>\n",
       "      <th>1</th>\n",
       "      <td>2360139</td>\n",
       "      <td>2002-01-08</td>\n",
       "      <td>401.1</td>\n",
       "      <td>9</td>\n",
       "    </tr>\n",
       "    <tr>\n",
       "      <th>2</th>\n",
       "      <td>2360139</td>\n",
       "      <td>2003-01-08</td>\n",
       "      <td>401.1</td>\n",
       "      <td>9</td>\n",
       "    </tr>\n",
       "    <tr>\n",
       "      <th>3</th>\n",
       "      <td>2360139</td>\n",
       "      <td>2005-01-11</td>\n",
       "      <td>401.1</td>\n",
       "      <td>9</td>\n",
       "    </tr>\n",
       "    <tr>\n",
       "      <th>4</th>\n",
       "      <td>2360139</td>\n",
       "      <td>2004-01-13</td>\n",
       "      <td>401.9</td>\n",
       "      <td>9</td>\n",
       "    </tr>\n",
       "  </tbody>\n",
       "</table>\n",
       "</div>"
      ],
      "text/plain": [
       "       MRN EVENT_DATE ICD_CODE  CODE_TYPE\n",
       "0  2360139 2003-01-07    401.1          9\n",
       "1  2360139 2002-01-08    401.1          9\n",
       "2  2360139 2003-01-08    401.1          9\n",
       "3  2360139 2005-01-11    401.1          9\n",
       "4  2360139 2004-01-13    401.9          9"
      ]
     },
     "execution_count": 14,
     "metadata": {},
     "output_type": "execute_result"
    }
   ],
   "source": [
    "icd_raw = pd.read_csv(DATA_DIR + 'pcori_heerman_cohort_ICD_9_10_20170116.csv', \n",
    "                      parse_dates=[1], infer_datetime_format=True)\n",
    "icd_raw.head()"
   ]
  },
  {
   "cell_type": "code",
   "execution_count": 15,
   "metadata": {
    "collapsed": false
   },
   "outputs": [
    {
     "data": {
      "text/plain": [
       "(8796137, 4)"
      ]
     },
     "execution_count": 15,
     "metadata": {},
     "output_type": "execute_result"
    }
   ],
   "source": [
    "icd_raw.shape"
   ]
  },
  {
   "cell_type": "code",
   "execution_count": 16,
   "metadata": {
    "collapsed": false
   },
   "outputs": [
    {
     "data": {
      "text/plain": [
       "9     7098563\n",
       "10    1697574\n",
       "Name: CODE_TYPE, dtype: int64"
      ]
     },
     "execution_count": 16,
     "metadata": {},
     "output_type": "execute_result"
    }
   ],
   "source": [
    "icd_raw.CODE_TYPE.value_counts()"
   ]
  },
  {
   "cell_type": "markdown",
   "metadata": {},
   "source": [
    "### Height measurements\n",
    "\n",
    "Perhaps choose modal or median for each patient."
   ]
  },
  {
   "cell_type": "code",
   "execution_count": 17,
   "metadata": {
    "collapsed": false
   },
   "outputs": [
    {
     "data": {
      "text/html": [
       "<div>\n",
       "<table border=\"1\" class=\"dataframe\">\n",
       "  <thead>\n",
       "    <tr style=\"text-align: right;\">\n",
       "      <th></th>\n",
       "      <th>MRN</th>\n",
       "      <th>HEIGHT_DATE</th>\n",
       "      <th>HEIGHT</th>\n",
       "    </tr>\n",
       "  </thead>\n",
       "  <tbody>\n",
       "    <tr>\n",
       "      <th>0</th>\n",
       "      <td>1221225</td>\n",
       "      <td>2014-03-04</td>\n",
       "      <td>154.94</td>\n",
       "    </tr>\n",
       "    <tr>\n",
       "      <th>1</th>\n",
       "      <td>1221225</td>\n",
       "      <td>2015-02-23</td>\n",
       "      <td>154.94</td>\n",
       "    </tr>\n",
       "    <tr>\n",
       "      <th>2</th>\n",
       "      <td>1221225</td>\n",
       "      <td>2015-02-23</td>\n",
       "      <td>154.94</td>\n",
       "    </tr>\n",
       "    <tr>\n",
       "      <th>3</th>\n",
       "      <td>1221225</td>\n",
       "      <td>2004-05-28</td>\n",
       "      <td>180.34</td>\n",
       "    </tr>\n",
       "    <tr>\n",
       "      <th>4</th>\n",
       "      <td>1221225</td>\n",
       "      <td>2005-02-02</td>\n",
       "      <td>180.34</td>\n",
       "    </tr>\n",
       "  </tbody>\n",
       "</table>\n",
       "</div>"
      ],
      "text/plain": [
       "       MRN HEIGHT_DATE  HEIGHT\n",
       "0  1221225  2014-03-04  154.94\n",
       "1  1221225  2015-02-23  154.94\n",
       "2  1221225  2015-02-23  154.94\n",
       "3  1221225  2004-05-28  180.34\n",
       "4  1221225  2005-02-02  180.34"
      ]
     },
     "execution_count": 17,
     "metadata": {},
     "output_type": "execute_result"
    }
   ],
   "source": [
    "height_raw = pd.read_csv(DATA_DIR + 'pcori_heerman_cohort_Height_20170116.csv', \n",
    "                         parse_dates=[1], infer_datetime_format=True)\n",
    "height_raw.head()"
   ]
  },
  {
   "cell_type": "code",
   "execution_count": 18,
   "metadata": {
    "collapsed": false
   },
   "outputs": [
    {
     "data": {
      "text/plain": [
       "(4976321, 3)"
      ]
     },
     "execution_count": 18,
     "metadata": {},
     "output_type": "execute_result"
    }
   ],
   "source": [
    "height_raw.shape"
   ]
  },
  {
   "cell_type": "markdown",
   "metadata": {},
   "source": [
    "### Demographics"
   ]
  },
  {
   "cell_type": "code",
   "execution_count": 19,
   "metadata": {
    "collapsed": false
   },
   "outputs": [
    {
     "name": "stderr",
     "output_type": "stream",
     "text": [
      "/Users/fonnescj/anaconda3/envs/bmi/lib/python3.5/site-packages/IPython/core/interactiveshell.py:2717: DtypeWarning: Columns (6) have mixed types. Specify dtype option on import or set low_memory=False.\n",
      "  interactivity=interactivity, compiler=compiler, result=result)\n"
     ]
    },
    {
     "data": {
      "text/html": [
       "<div>\n",
       "<table border=\"1\" class=\"dataframe\">\n",
       "  <thead>\n",
       "    <tr style=\"text-align: right;\">\n",
       "      <th></th>\n",
       "      <th>SEX</th>\n",
       "      <th>RACE</th>\n",
       "      <th>ETHNICITY</th>\n",
       "      <th>DOB</th>\n",
       "      <th>DOD</th>\n",
       "      <th>ZIP_CODE</th>\n",
       "    </tr>\n",
       "    <tr>\n",
       "      <th>MRN</th>\n",
       "      <th></th>\n",
       "      <th></th>\n",
       "      <th></th>\n",
       "      <th></th>\n",
       "      <th></th>\n",
       "      <th></th>\n",
       "    </tr>\n",
       "  </thead>\n",
       "  <tbody>\n",
       "    <tr>\n",
       "      <th>28997286</th>\n",
       "      <td>2</td>\n",
       "      <td>7</td>\n",
       "      <td>UN</td>\n",
       "      <td>1958-01-09</td>\n",
       "      <td>NaN</td>\n",
       "      <td>422100000</td>\n",
       "    </tr>\n",
       "    <tr>\n",
       "      <th>22710289</th>\n",
       "      <td>2</td>\n",
       "      <td>2</td>\n",
       "      <td>NH</td>\n",
       "      <td>1969-09-11</td>\n",
       "      <td>NaN</td>\n",
       "      <td>370640000</td>\n",
       "    </tr>\n",
       "    <tr>\n",
       "      <th>15333065</th>\n",
       "      <td>1</td>\n",
       "      <td>1</td>\n",
       "      <td>NH</td>\n",
       "      <td>1996-12-28</td>\n",
       "      <td>NaN</td>\n",
       "      <td>372060000</td>\n",
       "    </tr>\n",
       "    <tr>\n",
       "      <th>11732831</th>\n",
       "      <td>1</td>\n",
       "      <td>2</td>\n",
       "      <td>NH</td>\n",
       "      <td>1991-01-31</td>\n",
       "      <td>NaN</td>\n",
       "      <td>370400000</td>\n",
       "    </tr>\n",
       "    <tr>\n",
       "      <th>26724542</th>\n",
       "      <td>2</td>\n",
       "      <td>1</td>\n",
       "      <td>NH</td>\n",
       "      <td>1958-08-19</td>\n",
       "      <td>NaN</td>\n",
       "      <td>421340000</td>\n",
       "    </tr>\n",
       "  </tbody>\n",
       "</table>\n",
       "</div>"
      ],
      "text/plain": [
       "          SEX  RACE ETHNICITY        DOB  DOD   ZIP_CODE\n",
       "MRN                                                     \n",
       "28997286    2     7        UN 1958-01-09  NaN  422100000\n",
       "22710289    2     2        NH 1969-09-11  NaN  370640000\n",
       "15333065    1     1        NH 1996-12-28  NaN  372060000\n",
       "11732831    1     2        NH 1991-01-31  NaN  370400000\n",
       "26724542    2     1        NH 1958-08-19  NaN  421340000"
      ]
     },
     "execution_count": 19,
     "metadata": {},
     "output_type": "execute_result"
    }
   ],
   "source": [
    "demographics_raw = pd.read_csv(DATA_DIR + 'pcori_heerman_cohort_Demographics_20170116.csv', \n",
    "                               index_col=0, parse_dates=['DOB'], infer_datetime_format=True)\n",
    "demographics_raw.head()"
   ]
  },
  {
   "cell_type": "code",
   "execution_count": 20,
   "metadata": {
    "collapsed": false
   },
   "outputs": [
    {
     "data": {
      "text/plain": [
       "(529428, 6)"
      ]
     },
     "execution_count": 20,
     "metadata": {},
     "output_type": "execute_result"
    }
   ],
   "source": [
    "demographics_raw.shape"
   ]
  },
  {
   "cell_type": "code",
   "execution_count": 21,
   "metadata": {
    "collapsed": false
   },
   "outputs": [
    {
     "data": {
      "text/plain": [
       "True"
      ]
     },
     "execution_count": 21,
     "metadata": {},
     "output_type": "execute_result"
    }
   ],
   "source": [
    "demographics_raw.index.is_unique"
   ]
  },
  {
   "cell_type": "code",
   "execution_count": 22,
   "metadata": {
    "collapsed": false
   },
   "outputs": [],
   "source": [
    "demographics_raw['male'] = (demographics_raw.SEX==1).astype(int)"
   ]
  },
  {
   "cell_type": "code",
   "execution_count": 23,
   "metadata": {
    "collapsed": false
   },
   "outputs": [],
   "source": [
    "demographics_raw['race'] = demographics_raw.RACE.replace(dict(zip(range(1, 8), ['white', 'black', 'native', 'asian', \n",
    "                                                     'hispanic', 'other', 'unknown'])))"
   ]
  },
  {
   "cell_type": "code",
   "execution_count": 24,
   "metadata": {
    "collapsed": false
   },
   "outputs": [
    {
     "data": {
      "text/plain": [
       "white       419554\n",
       "black        52455\n",
       "unknown      32724\n",
       "hispanic     13540\n",
       "asian         9708\n",
       "other          729\n",
       "native         718\n",
       "Name: race, dtype: int64"
      ]
     },
     "execution_count": 24,
     "metadata": {},
     "output_type": "execute_result"
    }
   ],
   "source": [
    "demographics_raw.race.value_counts()"
   ]
  },
  {
   "cell_type": "code",
   "execution_count": 25,
   "metadata": {
    "collapsed": false
   },
   "outputs": [
    {
     "data": {
      "text/plain": [
       "NH    450556\n",
       "UN     65332\n",
       "HL     13540\n",
       "Name: ETHNICITY, dtype: int64"
      ]
     },
     "execution_count": 25,
     "metadata": {},
     "output_type": "execute_result"
    }
   ],
   "source": [
    "demographics_raw.ETHNICITY.value_counts()"
   ]
  },
  {
   "cell_type": "code",
   "execution_count": 26,
   "metadata": {
    "collapsed": true
   },
   "outputs": [],
   "source": [
    "demographics_raw['hispanic'] = (demographics_raw.ETHNICITY=='HL')\n",
    "demographics_raw.loc[demographics_raw.ETHNICITY=='UN', 'hispanic'] = np.nan"
   ]
  },
  {
   "cell_type": "markdown",
   "metadata": {},
   "source": [
    "There are no non-null death dates."
   ]
  },
  {
   "cell_type": "code",
   "execution_count": 27,
   "metadata": {
    "collapsed": false
   },
   "outputs": [
    {
     "data": {
      "text/plain": [
       "SEX          0.000000\n",
       "RACE         0.000000\n",
       "ETHNICITY    0.000000\n",
       "DOB          0.000000\n",
       "DOD          1.000000\n",
       "ZIP_CODE     0.001067\n",
       "male         0.000000\n",
       "race         0.000000\n",
       "hispanic     0.123401\n",
       "dtype: float64"
      ]
     },
     "execution_count": 27,
     "metadata": {},
     "output_type": "execute_result"
    }
   ],
   "source": [
    "demographics_raw.isnull().mean()"
   ]
  },
  {
   "cell_type": "markdown",
   "metadata": {},
   "source": [
    "### CPT codes"
   ]
  },
  {
   "cell_type": "code",
   "execution_count": 28,
   "metadata": {
    "collapsed": false
   },
   "outputs": [
    {
     "data": {
      "text/html": [
       "<div>\n",
       "<table border=\"1\" class=\"dataframe\">\n",
       "  <thead>\n",
       "    <tr style=\"text-align: right;\">\n",
       "      <th></th>\n",
       "      <th>MRN</th>\n",
       "      <th>CPT_DATE</th>\n",
       "      <th>CPT_CODE</th>\n",
       "    </tr>\n",
       "  </thead>\n",
       "  <tbody>\n",
       "    <tr>\n",
       "      <th>0</th>\n",
       "      <td>31275076</td>\n",
       "      <td>2012-05-29</td>\n",
       "      <td>43775</td>\n",
       "    </tr>\n",
       "    <tr>\n",
       "      <th>1</th>\n",
       "      <td>31275076</td>\n",
       "      <td>2012-05-29</td>\n",
       "      <td>43775</td>\n",
       "    </tr>\n",
       "    <tr>\n",
       "      <th>2</th>\n",
       "      <td>31275076</td>\n",
       "      <td>2012-05-29</td>\n",
       "      <td>43775</td>\n",
       "    </tr>\n",
       "    <tr>\n",
       "      <th>3</th>\n",
       "      <td>31275076</td>\n",
       "      <td>2012-05-29</td>\n",
       "      <td>43775</td>\n",
       "    </tr>\n",
       "    <tr>\n",
       "      <th>4</th>\n",
       "      <td>31275076</td>\n",
       "      <td>2012-05-29</td>\n",
       "      <td>43775</td>\n",
       "    </tr>\n",
       "  </tbody>\n",
       "</table>\n",
       "</div>"
      ],
      "text/plain": [
       "        MRN   CPT_DATE CPT_CODE\n",
       "0  31275076 2012-05-29    43775\n",
       "1  31275076 2012-05-29    43775\n",
       "2  31275076 2012-05-29    43775\n",
       "3  31275076 2012-05-29    43775\n",
       "4  31275076 2012-05-29    43775"
      ]
     },
     "execution_count": 28,
     "metadata": {},
     "output_type": "execute_result"
    }
   ],
   "source": [
    "cpt_raw = pd.read_csv(DATA_DIR + 'pcori_heerman_cohort_CPT_20170116.csv',\n",
    "                     parse_dates=[1], infer_datetime_format=True)\n",
    "cpt_raw.head()"
   ]
  },
  {
   "cell_type": "code",
   "execution_count": 29,
   "metadata": {
    "collapsed": false
   },
   "outputs": [
    {
     "data": {
      "text/plain": [
       "MRN         0.0\n",
       "CPT_DATE    0.0\n",
       "CPT_CODE    0.0\n",
       "dtype: float64"
      ]
     },
     "execution_count": 29,
     "metadata": {},
     "output_type": "execute_result"
    }
   ],
   "source": [
    "cpt_raw.isnull().mean()"
   ]
  },
  {
   "cell_type": "code",
   "execution_count": 33,
   "metadata": {
    "collapsed": false
   },
   "outputs": [
    {
     "data": {
      "text/plain": [
       "(65769, 12)"
      ]
     },
     "execution_count": 33,
     "metadata": {},
     "output_type": "execute_result"
    }
   ],
   "source": [
    "demographics_raw.merge(cpt_raw, left_index=True, right_on='MRN', how='inner').shape"
   ]
  },
  {
   "cell_type": "markdown",
   "metadata": {},
   "source": [
    "## Data processing\n",
    "\n",
    "Apply Greevy algorithm to weight data.\n",
    "\n",
    "- how does the distribution change after applying filter?\n",
    "- add updated flags from Shenghua\n",
    "\n",
    "Start by aligning data to first weight measurement.\n",
    "\n",
    "Remove short trajectories for initial model fitting."
   ]
  },
  {
   "cell_type": "markdown",
   "metadata": {},
   "source": []
  }
 ],
 "metadata": {
  "kernelspec": {
   "display_name": "Python 3",
   "language": "python",
   "name": "python3"
  },
  "language_info": {
   "codemirror_mode": {
    "name": "ipython",
    "version": 3
   },
   "file_extension": ".py",
   "mimetype": "text/x-python",
   "name": "python",
   "nbconvert_exporter": "python",
   "pygments_lexer": "ipython3",
   "version": "3.5.3"
  }
 },
 "nbformat": 4,
 "nbformat_minor": 2
}
