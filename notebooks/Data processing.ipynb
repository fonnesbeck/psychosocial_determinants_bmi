{
 "cells": [
  {
   "cell_type": "code",
   "execution_count": 1,
   "metadata": {},
   "outputs": [
    {
     "name": "stderr",
     "output_type": "stream",
     "text": [
      "Widget Javascript not detected.  It may not be installed or enabled properly.\n"
     ]
    },
    {
     "data": {
      "application/vnd.jupyter.widget-view+json": {
       "model_id": "445827746ad14a7c80e2dd2f31a093b2"
      }
     },
     "metadata": {},
     "output_type": "display_data"
    }
   ],
   "source": [
    "%matplotlib inline\n",
    "import numpy as np\n",
    "import pandas as pd\n",
    "import seaborn as sns\n",
    "import matplotlib.pylab as plt\n",
    "from tqdm import tqdm_notebook\n",
    "progress = tqdm_notebook()\n",
    "\n",
    "RAW_DATA_DIR = '../data/raw/'\n",
    "CLEAN_DATA_DIR = '../data/clean/'"
   ]
  },
  {
   "cell_type": "code",
   "execution_count": 2,
   "metadata": {
    "scrolled": true
   },
   "outputs": [
    {
     "name": "stderr",
     "output_type": "stream",
     "text": [
      "/Users/fonnescj/anaconda3/envs/dev/lib/python3.6/site-packages/IPython/core/interactiveshell.py:2717: DtypeWarning: Columns (0) have mixed types. Specify dtype option on import or set low_memory=False.\n",
      "  interactivity=interactivity, compiler=compiler, result=result)\n"
     ]
    },
    {
     "data": {
      "text/html": [
       "<div>\n",
       "<table border=\"1\" class=\"dataframe\">\n",
       "  <thead>\n",
       "    <tr style=\"text-align: right;\">\n",
       "      <th></th>\n",
       "      <th>patient_id</th>\n",
       "      <th>htn_flag</th>\n",
       "      <th>chf_flag</th>\n",
       "      <th>esrd_flag</th>\n",
       "      <th>copd_flag</th>\n",
       "      <th>dprn_flag</th>\n",
       "      <th>hlpd_flag</th>\n",
       "      <th>malig_flag</th>\n",
       "      <th>smoke_flag</th>\n",
       "      <th>ckd_flag</th>\n",
       "      <th>cad_flag</th>\n",
       "      <th>lbp_flag</th>\n",
       "      <th>thyroid_flag</th>\n",
       "      <th>osa_flag</th>\n",
       "      <th>asthma_flag</th>\n",
       "      <th>t1dm_flag</th>\n",
       "      <th>bariatric_surgery_cpt_flag</th>\n",
       "      <th>amputation_cpt_flag</th>\n",
       "    </tr>\n",
       "  </thead>\n",
       "  <tbody>\n",
       "    <tr>\n",
       "      <th>0</th>\n",
       "      <td>10000073</td>\n",
       "      <td>1</td>\n",
       "      <td>0</td>\n",
       "      <td>0</td>\n",
       "      <td>0</td>\n",
       "      <td>0</td>\n",
       "      <td>0</td>\n",
       "      <td>0</td>\n",
       "      <td>0</td>\n",
       "      <td>0</td>\n",
       "      <td>0</td>\n",
       "      <td>0</td>\n",
       "      <td>0</td>\n",
       "      <td>0</td>\n",
       "      <td>0</td>\n",
       "      <td>0</td>\n",
       "      <td>0</td>\n",
       "      <td>0</td>\n",
       "    </tr>\n",
       "    <tr>\n",
       "      <th>1</th>\n",
       "      <td>10000321</td>\n",
       "      <td>0</td>\n",
       "      <td>0</td>\n",
       "      <td>0</td>\n",
       "      <td>0</td>\n",
       "      <td>0</td>\n",
       "      <td>0</td>\n",
       "      <td>0</td>\n",
       "      <td>0</td>\n",
       "      <td>0</td>\n",
       "      <td>0</td>\n",
       "      <td>0</td>\n",
       "      <td>0</td>\n",
       "      <td>0</td>\n",
       "      <td>0</td>\n",
       "      <td>0</td>\n",
       "      <td>0</td>\n",
       "      <td>0</td>\n",
       "    </tr>\n",
       "    <tr>\n",
       "      <th>2</th>\n",
       "      <td>10000420</td>\n",
       "      <td>0</td>\n",
       "      <td>0</td>\n",
       "      <td>0</td>\n",
       "      <td>0</td>\n",
       "      <td>0</td>\n",
       "      <td>0</td>\n",
       "      <td>0</td>\n",
       "      <td>0</td>\n",
       "      <td>0</td>\n",
       "      <td>0</td>\n",
       "      <td>0</td>\n",
       "      <td>0</td>\n",
       "      <td>0</td>\n",
       "      <td>0</td>\n",
       "      <td>0</td>\n",
       "      <td>0</td>\n",
       "      <td>0</td>\n",
       "    </tr>\n",
       "    <tr>\n",
       "      <th>3</th>\n",
       "      <td>10000933</td>\n",
       "      <td>0</td>\n",
       "      <td>0</td>\n",
       "      <td>0</td>\n",
       "      <td>0</td>\n",
       "      <td>0</td>\n",
       "      <td>0</td>\n",
       "      <td>0</td>\n",
       "      <td>0</td>\n",
       "      <td>0</td>\n",
       "      <td>0</td>\n",
       "      <td>0</td>\n",
       "      <td>0</td>\n",
       "      <td>0</td>\n",
       "      <td>0</td>\n",
       "      <td>0</td>\n",
       "      <td>0</td>\n",
       "      <td>0</td>\n",
       "    </tr>\n",
       "    <tr>\n",
       "      <th>4</th>\n",
       "      <td>10001162</td>\n",
       "      <td>0</td>\n",
       "      <td>1</td>\n",
       "      <td>0</td>\n",
       "      <td>0</td>\n",
       "      <td>0</td>\n",
       "      <td>0</td>\n",
       "      <td>0</td>\n",
       "      <td>0</td>\n",
       "      <td>0</td>\n",
       "      <td>0</td>\n",
       "      <td>0</td>\n",
       "      <td>0</td>\n",
       "      <td>0</td>\n",
       "      <td>0</td>\n",
       "      <td>0</td>\n",
       "      <td>0</td>\n",
       "      <td>0</td>\n",
       "    </tr>\n",
       "  </tbody>\n",
       "</table>\n",
       "</div>"
      ],
      "text/plain": [
       "  patient_id  htn_flag  chf_flag  esrd_flag  copd_flag  dprn_flag  hlpd_flag  \\\n",
       "0   10000073         1         0          0          0          0          0   \n",
       "1   10000321         0         0          0          0          0          0   \n",
       "2   10000420         0         0          0          0          0          0   \n",
       "3   10000933         0         0          0          0          0          0   \n",
       "4   10001162         0         1          0          0          0          0   \n",
       "\n",
       "   malig_flag  smoke_flag  ckd_flag  cad_flag  lbp_flag  thyroid_flag  \\\n",
       "0           0           0         0         0         0             0   \n",
       "1           0           0         0         0         0             0   \n",
       "2           0           0         0         0         0             0   \n",
       "3           0           0         0         0         0             0   \n",
       "4           0           0         0         0         0             0   \n",
       "\n",
       "   osa_flag  asthma_flag  t1dm_flag  bariatric_surgery_cpt_flag  \\\n",
       "0         0            0          0                           0   \n",
       "1         0            0          0                           0   \n",
       "2         0            0          0                           0   \n",
       "3         0            0          0                           0   \n",
       "4         0            0          0                           0   \n",
       "\n",
       "   amputation_cpt_flag  \n",
       "0                    0  \n",
       "1                    0  \n",
       "2                    0  \n",
       "3                    0  \n",
       "4                    0  "
      ]
     },
     "execution_count": 2,
     "metadata": {},
     "output_type": "execute_result"
    }
   ],
   "source": [
    "flagged = pd.read_csv(RAW_DATA_DIR+'400k_flag_v2.csv')\n",
    "flagged.head()"
   ]
  },
  {
   "cell_type": "markdown",
   "metadata": {},
   "source": [
    "# Import and process data\n",
    "\n",
    "\n",
    "### Demographics"
   ]
  },
  {
   "cell_type": "code",
   "execution_count": 3,
   "metadata": {
    "scrolled": true
   },
   "outputs": [
    {
     "name": "stderr",
     "output_type": "stream",
     "text": [
      "/Users/fonnescj/anaconda3/envs/dev/lib/python3.6/site-packages/IPython/core/interactiveshell.py:2717: DtypeWarning: Columns (6) have mixed types. Specify dtype option on import or set low_memory=False.\n",
      "  interactivity=interactivity, compiler=compiler, result=result)\n"
     ]
    },
    {
     "data": {
      "text/html": [
       "<div>\n",
       "<table border=\"1\" class=\"dataframe\">\n",
       "  <thead>\n",
       "    <tr style=\"text-align: right;\">\n",
       "      <th></th>\n",
       "      <th>SEX</th>\n",
       "      <th>RACE</th>\n",
       "      <th>ETHNICITY</th>\n",
       "      <th>DOB</th>\n",
       "      <th>DOD</th>\n",
       "      <th>ZIP_CODE</th>\n",
       "    </tr>\n",
       "    <tr>\n",
       "      <th>MRN</th>\n",
       "      <th></th>\n",
       "      <th></th>\n",
       "      <th></th>\n",
       "      <th></th>\n",
       "      <th></th>\n",
       "      <th></th>\n",
       "    </tr>\n",
       "  </thead>\n",
       "  <tbody>\n",
       "    <tr>\n",
       "      <th>28997286</th>\n",
       "      <td>2</td>\n",
       "      <td>7</td>\n",
       "      <td>UN</td>\n",
       "      <td>1958-01-09</td>\n",
       "      <td>NaN</td>\n",
       "      <td>422100000</td>\n",
       "    </tr>\n",
       "    <tr>\n",
       "      <th>22710289</th>\n",
       "      <td>2</td>\n",
       "      <td>2</td>\n",
       "      <td>NH</td>\n",
       "      <td>1969-09-11</td>\n",
       "      <td>NaN</td>\n",
       "      <td>370640000</td>\n",
       "    </tr>\n",
       "    <tr>\n",
       "      <th>15333065</th>\n",
       "      <td>1</td>\n",
       "      <td>1</td>\n",
       "      <td>NH</td>\n",
       "      <td>1996-12-28</td>\n",
       "      <td>NaN</td>\n",
       "      <td>372060000</td>\n",
       "    </tr>\n",
       "    <tr>\n",
       "      <th>11732831</th>\n",
       "      <td>1</td>\n",
       "      <td>2</td>\n",
       "      <td>NH</td>\n",
       "      <td>1991-01-31</td>\n",
       "      <td>NaN</td>\n",
       "      <td>370400000</td>\n",
       "    </tr>\n",
       "    <tr>\n",
       "      <th>26724542</th>\n",
       "      <td>2</td>\n",
       "      <td>1</td>\n",
       "      <td>NH</td>\n",
       "      <td>1958-08-19</td>\n",
       "      <td>NaN</td>\n",
       "      <td>421340000</td>\n",
       "    </tr>\n",
       "  </tbody>\n",
       "</table>\n",
       "</div>"
      ],
      "text/plain": [
       "          SEX  RACE ETHNICITY        DOB  DOD   ZIP_CODE\n",
       "MRN                                                     \n",
       "28997286    2     7        UN 1958-01-09  NaN  422100000\n",
       "22710289    2     2        NH 1969-09-11  NaN  370640000\n",
       "15333065    1     1        NH 1996-12-28  NaN  372060000\n",
       "11732831    1     2        NH 1991-01-31  NaN  370400000\n",
       "26724542    2     1        NH 1958-08-19  NaN  421340000"
      ]
     },
     "execution_count": 3,
     "metadata": {},
     "output_type": "execute_result"
    }
   ],
   "source": [
    "demographics_raw = pd.read_csv(RAW_DATA_DIR + 'pcori_heerman_cohort_Demographics_20170116.csv', \n",
    "                               index_col=0, parse_dates=['DOB'], infer_datetime_format=True)\n",
    "demographics_raw.head()"
   ]
  },
  {
   "cell_type": "code",
   "execution_count": 4,
   "metadata": {},
   "outputs": [
    {
     "data": {
      "text/plain": [
       "(529428, 6)"
      ]
     },
     "execution_count": 4,
     "metadata": {},
     "output_type": "execute_result"
    }
   ],
   "source": [
    "demographics_raw.shape"
   ]
  },
  {
   "cell_type": "code",
   "execution_count": 5,
   "metadata": {},
   "outputs": [
    {
     "data": {
      "text/plain": [
       "True"
      ]
     },
     "execution_count": 5,
     "metadata": {},
     "output_type": "execute_result"
    }
   ],
   "source": [
    "demographics_raw.index.is_unique"
   ]
  },
  {
   "cell_type": "markdown",
   "metadata": {},
   "source": [
    "Recode categorical variables to something useful"
   ]
  },
  {
   "cell_type": "code",
   "execution_count": 6,
   "metadata": {
    "collapsed": true
   },
   "outputs": [],
   "source": [
    "demographics_raw['male'] = (demographics_raw.SEX==1).astype(int)"
   ]
  },
  {
   "cell_type": "code",
   "execution_count": 7,
   "metadata": {
    "collapsed": true
   },
   "outputs": [],
   "source": [
    "demographics_raw['race'] = demographics_raw.RACE.replace(dict(zip(range(1, 8), ['white', 'black', 'native', 'asian', \n",
    "                                                     'hispanic', 'other', 'unknown'])))"
   ]
  },
  {
   "cell_type": "code",
   "execution_count": 8,
   "metadata": {},
   "outputs": [
    {
     "data": {
      "text/plain": [
       "white       419554\n",
       "black        52455\n",
       "unknown      32724\n",
       "hispanic     13540\n",
       "asian         9708\n",
       "other          729\n",
       "native         718\n",
       "Name: race, dtype: int64"
      ]
     },
     "execution_count": 8,
     "metadata": {},
     "output_type": "execute_result"
    }
   ],
   "source": [
    "demographics_raw.race.value_counts()"
   ]
  },
  {
   "cell_type": "code",
   "execution_count": 9,
   "metadata": {},
   "outputs": [
    {
     "data": {
      "text/plain": [
       "NH    450556\n",
       "UN     65332\n",
       "HL     13540\n",
       "Name: ETHNICITY, dtype: int64"
      ]
     },
     "execution_count": 9,
     "metadata": {},
     "output_type": "execute_result"
    }
   ],
   "source": [
    "demographics_raw.ETHNICITY.value_counts()"
   ]
  },
  {
   "cell_type": "code",
   "execution_count": 10,
   "metadata": {
    "collapsed": true
   },
   "outputs": [],
   "source": [
    "demographics_raw['hispanic'] = (demographics_raw.ETHNICITY=='HL')\n",
    "demographics_raw.loc[demographics_raw.ETHNICITY=='UN', 'hispanic'] = np.nan"
   ]
  },
  {
   "cell_type": "markdown",
   "metadata": {},
   "source": [
    "There are no non-null death dates."
   ]
  },
  {
   "cell_type": "code",
   "execution_count": 11,
   "metadata": {},
   "outputs": [
    {
     "data": {
      "text/plain": [
       "SEX          0.000000\n",
       "RACE         0.000000\n",
       "ETHNICITY    0.000000\n",
       "DOB          0.000000\n",
       "DOD          1.000000\n",
       "ZIP_CODE     0.001067\n",
       "male         0.000000\n",
       "race         0.000000\n",
       "hispanic     0.123401\n",
       "dtype: float64"
      ]
     },
     "execution_count": 11,
     "metadata": {},
     "output_type": "execute_result"
    }
   ],
   "source": [
    "demographics_raw.isnull().mean()"
   ]
  },
  {
   "cell_type": "markdown",
   "metadata": {},
   "source": [
    "Drop date of death and ethnicity"
   ]
  },
  {
   "cell_type": "code",
   "execution_count": 12,
   "metadata": {
    "collapsed": true
   },
   "outputs": [],
   "source": [
    "demographics = demographics_raw.drop(['DOD', 'ETHNICITY'], axis=1)"
   ]
  },
  {
   "cell_type": "code",
   "execution_count": 13,
   "metadata": {},
   "outputs": [
    {
     "data": {
      "text/plain": [
       "(529428, 7)"
      ]
     },
     "execution_count": 13,
     "metadata": {},
     "output_type": "execute_result"
    }
   ],
   "source": [
    "demographics.shape"
   ]
  },
  {
   "cell_type": "markdown",
   "metadata": {},
   "source": [
    "### Patient flags"
   ]
  },
  {
   "cell_type": "code",
   "execution_count": 14,
   "metadata": {},
   "outputs": [
    {
     "name": "stderr",
     "output_type": "stream",
     "text": [
      "/Users/fonnescj/anaconda3/envs/dev/lib/python3.6/site-packages/IPython/core/interactiveshell.py:2717: DtypeWarning: Columns (0) have mixed types. Specify dtype option on import or set low_memory=False.\n",
      "  interactivity=interactivity, compiler=compiler, result=result)\n"
     ]
    },
    {
     "data": {
      "text/html": [
       "<div>\n",
       "<table border=\"1\" class=\"dataframe\">\n",
       "  <thead>\n",
       "    <tr style=\"text-align: right;\">\n",
       "      <th></th>\n",
       "      <th>htn_flag</th>\n",
       "      <th>chf_flag</th>\n",
       "      <th>esrd_flag</th>\n",
       "      <th>copd_flag</th>\n",
       "      <th>dprn_flag</th>\n",
       "      <th>hlpd_flag</th>\n",
       "      <th>malig_flag</th>\n",
       "      <th>smoke_flag</th>\n",
       "      <th>ckd_flag</th>\n",
       "      <th>cad_flag</th>\n",
       "      <th>lbp_flag</th>\n",
       "      <th>thyroid_flag</th>\n",
       "      <th>osa_flag</th>\n",
       "      <th>asthma_flag</th>\n",
       "      <th>t1dm_flag</th>\n",
       "      <th>bariatric_surgery_cpt_flag</th>\n",
       "      <th>amputation_cpt_flag</th>\n",
       "    </tr>\n",
       "    <tr>\n",
       "      <th>patient_id</th>\n",
       "      <th></th>\n",
       "      <th></th>\n",
       "      <th></th>\n",
       "      <th></th>\n",
       "      <th></th>\n",
       "      <th></th>\n",
       "      <th></th>\n",
       "      <th></th>\n",
       "      <th></th>\n",
       "      <th></th>\n",
       "      <th></th>\n",
       "      <th></th>\n",
       "      <th></th>\n",
       "      <th></th>\n",
       "      <th></th>\n",
       "      <th></th>\n",
       "      <th></th>\n",
       "    </tr>\n",
       "  </thead>\n",
       "  <tbody>\n",
       "    <tr>\n",
       "      <th>10000073</th>\n",
       "      <td>1</td>\n",
       "      <td>0</td>\n",
       "      <td>0</td>\n",
       "      <td>0</td>\n",
       "      <td>0</td>\n",
       "      <td>0</td>\n",
       "      <td>0</td>\n",
       "      <td>0</td>\n",
       "      <td>0</td>\n",
       "      <td>0</td>\n",
       "      <td>0</td>\n",
       "      <td>0</td>\n",
       "      <td>0</td>\n",
       "      <td>0</td>\n",
       "      <td>0</td>\n",
       "      <td>0</td>\n",
       "      <td>0</td>\n",
       "    </tr>\n",
       "    <tr>\n",
       "      <th>10000321</th>\n",
       "      <td>0</td>\n",
       "      <td>0</td>\n",
       "      <td>0</td>\n",
       "      <td>0</td>\n",
       "      <td>0</td>\n",
       "      <td>0</td>\n",
       "      <td>0</td>\n",
       "      <td>0</td>\n",
       "      <td>0</td>\n",
       "      <td>0</td>\n",
       "      <td>0</td>\n",
       "      <td>0</td>\n",
       "      <td>0</td>\n",
       "      <td>0</td>\n",
       "      <td>0</td>\n",
       "      <td>0</td>\n",
       "      <td>0</td>\n",
       "    </tr>\n",
       "    <tr>\n",
       "      <th>10000420</th>\n",
       "      <td>0</td>\n",
       "      <td>0</td>\n",
       "      <td>0</td>\n",
       "      <td>0</td>\n",
       "      <td>0</td>\n",
       "      <td>0</td>\n",
       "      <td>0</td>\n",
       "      <td>0</td>\n",
       "      <td>0</td>\n",
       "      <td>0</td>\n",
       "      <td>0</td>\n",
       "      <td>0</td>\n",
       "      <td>0</td>\n",
       "      <td>0</td>\n",
       "      <td>0</td>\n",
       "      <td>0</td>\n",
       "      <td>0</td>\n",
       "    </tr>\n",
       "    <tr>\n",
       "      <th>10000933</th>\n",
       "      <td>0</td>\n",
       "      <td>0</td>\n",
       "      <td>0</td>\n",
       "      <td>0</td>\n",
       "      <td>0</td>\n",
       "      <td>0</td>\n",
       "      <td>0</td>\n",
       "      <td>0</td>\n",
       "      <td>0</td>\n",
       "      <td>0</td>\n",
       "      <td>0</td>\n",
       "      <td>0</td>\n",
       "      <td>0</td>\n",
       "      <td>0</td>\n",
       "      <td>0</td>\n",
       "      <td>0</td>\n",
       "      <td>0</td>\n",
       "    </tr>\n",
       "    <tr>\n",
       "      <th>10001162</th>\n",
       "      <td>0</td>\n",
       "      <td>1</td>\n",
       "      <td>0</td>\n",
       "      <td>0</td>\n",
       "      <td>0</td>\n",
       "      <td>0</td>\n",
       "      <td>0</td>\n",
       "      <td>0</td>\n",
       "      <td>0</td>\n",
       "      <td>0</td>\n",
       "      <td>0</td>\n",
       "      <td>0</td>\n",
       "      <td>0</td>\n",
       "      <td>0</td>\n",
       "      <td>0</td>\n",
       "      <td>0</td>\n",
       "      <td>0</td>\n",
       "    </tr>\n",
       "  </tbody>\n",
       "</table>\n",
       "</div>"
      ],
      "text/plain": [
       "            htn_flag  chf_flag  esrd_flag  copd_flag  dprn_flag  hlpd_flag  \\\n",
       "patient_id                                                                   \n",
       "10000073           1         0          0          0          0          0   \n",
       "10000321           0         0          0          0          0          0   \n",
       "10000420           0         0          0          0          0          0   \n",
       "10000933           0         0          0          0          0          0   \n",
       "10001162           0         1          0          0          0          0   \n",
       "\n",
       "            malig_flag  smoke_flag  ckd_flag  cad_flag  lbp_flag  \\\n",
       "patient_id                                                         \n",
       "10000073             0           0         0         0         0   \n",
       "10000321             0           0         0         0         0   \n",
       "10000420             0           0         0         0         0   \n",
       "10000933             0           0         0         0         0   \n",
       "10001162             0           0         0         0         0   \n",
       "\n",
       "            thyroid_flag  osa_flag  asthma_flag  t1dm_flag  \\\n",
       "patient_id                                                   \n",
       "10000073               0         0            0          0   \n",
       "10000321               0         0            0          0   \n",
       "10000420               0         0            0          0   \n",
       "10000933               0         0            0          0   \n",
       "10001162               0         0            0          0   \n",
       "\n",
       "            bariatric_surgery_cpt_flag  amputation_cpt_flag  \n",
       "patient_id                                                   \n",
       "10000073                             0                    0  \n",
       "10000321                             0                    0  \n",
       "10000420                             0                    0  \n",
       "10000933                             0                    0  \n",
       "10001162                             0                    0  "
      ]
     },
     "execution_count": 14,
     "metadata": {},
     "output_type": "execute_result"
    }
   ],
   "source": [
    "flags = pd.read_csv(RAW_DATA_DIR + '400k_flag_v2.csv', index_col=0)\n",
    "flags.head()"
   ]
  },
  {
   "cell_type": "code",
   "execution_count": 15,
   "metadata": {},
   "outputs": [
    {
     "data": {
      "text/plain": [
       "(529428, 24)"
      ]
     },
     "execution_count": 15,
     "metadata": {},
     "output_type": "execute_result"
    }
   ],
   "source": [
    "flagged_demographics = demographics.join(flags)\n",
    "flagged_demographics.shape"
   ]
  },
  {
   "cell_type": "markdown",
   "metadata": {},
   "source": [
    "### Height measurements\n",
    "\n",
    "Perhaps choose modal or median for each patient."
   ]
  },
  {
   "cell_type": "code",
   "execution_count": 16,
   "metadata": {},
   "outputs": [
    {
     "data": {
      "text/html": [
       "<div>\n",
       "<table border=\"1\" class=\"dataframe\">\n",
       "  <thead>\n",
       "    <tr style=\"text-align: right;\">\n",
       "      <th></th>\n",
       "      <th>MRN</th>\n",
       "      <th>HEIGHT_DATE</th>\n",
       "      <th>HEIGHT</th>\n",
       "    </tr>\n",
       "  </thead>\n",
       "  <tbody>\n",
       "    <tr>\n",
       "      <th>0</th>\n",
       "      <td>1887330</td>\n",
       "      <td>2016-02-22</td>\n",
       "      <td>157.48</td>\n",
       "    </tr>\n",
       "    <tr>\n",
       "      <th>1</th>\n",
       "      <td>1887330</td>\n",
       "      <td>2012-01-17</td>\n",
       "      <td>162.56</td>\n",
       "    </tr>\n",
       "    <tr>\n",
       "      <th>2</th>\n",
       "      <td>1887330</td>\n",
       "      <td>2013-02-15</td>\n",
       "      <td>162.56</td>\n",
       "    </tr>\n",
       "    <tr>\n",
       "      <th>3</th>\n",
       "      <td>1887330</td>\n",
       "      <td>2013-05-17</td>\n",
       "      <td>162.56</td>\n",
       "    </tr>\n",
       "    <tr>\n",
       "      <th>4</th>\n",
       "      <td>1887330</td>\n",
       "      <td>2013-08-07</td>\n",
       "      <td>162.56</td>\n",
       "    </tr>\n",
       "  </tbody>\n",
       "</table>\n",
       "</div>"
      ],
      "text/plain": [
       "       MRN HEIGHT_DATE  HEIGHT\n",
       "0  1887330  2016-02-22  157.48\n",
       "1  1887330  2012-01-17  162.56\n",
       "2  1887330  2013-02-15  162.56\n",
       "3  1887330  2013-05-17  162.56\n",
       "4  1887330  2013-08-07  162.56"
      ]
     },
     "execution_count": 16,
     "metadata": {},
     "output_type": "execute_result"
    }
   ],
   "source": [
    "height_raw = pd.read_csv(RAW_DATA_DIR + 'pcori_heerman_cohort_Height_20170213.csv', \n",
    "                         parse_dates=[1], infer_datetime_format=True)\n",
    "height_raw.head()"
   ]
  },
  {
   "cell_type": "code",
   "execution_count": 17,
   "metadata": {},
   "outputs": [
    {
     "data": {
      "text/plain": [
       "<matplotlib.axes._subplots.AxesSubplot at 0x113b5aa58>"
      ]
     },
     "execution_count": 17,
     "metadata": {},
     "output_type": "execute_result"
    },
    {
     "data": {
      "image/png": "[encoded data removed]",
      "text/plain": [
       "<matplotlib.figure.Figure at 0x11383b5f8>"
      ]
     },
     "metadata": {},
     "output_type": "display_data"
    }
   ],
   "source": [
    "plt.figure()\n",
    "height_raw.HEIGHT[(height_raw.HEIGHT<200) & (height_raw.HEIGHT>0) ].hist(bins=30)"
   ]
  },
  {
   "cell_type": "markdown",
   "metadata": {},
   "source": [
    "### Weight data"
   ]
  },
  {
   "cell_type": "code",
   "execution_count": 18,
   "metadata": {
    "scrolled": true
   },
   "outputs": [
    {
     "data": {
      "text/html": [
       "<div>\n",
       "<table border=\"1\" class=\"dataframe\">\n",
       "  <thead>\n",
       "    <tr style=\"text-align: right;\">\n",
       "      <th></th>\n",
       "      <th>MRN</th>\n",
       "      <th>WEIGHT_DATE</th>\n",
       "      <th>WEIGHT</th>\n",
       "      <th>PREGNANCY_INDICATOR</th>\n",
       "    </tr>\n",
       "  </thead>\n",
       "  <tbody>\n",
       "    <tr>\n",
       "      <th>0</th>\n",
       "      <td>7695679</td>\n",
       "      <td>2006-01-27</td>\n",
       "      <td>62.60</td>\n",
       "      <td>1</td>\n",
       "    </tr>\n",
       "    <tr>\n",
       "      <th>1</th>\n",
       "      <td>7695679</td>\n",
       "      <td>2006-02-08</td>\n",
       "      <td>62.60</td>\n",
       "      <td>1</td>\n",
       "    </tr>\n",
       "    <tr>\n",
       "      <th>2</th>\n",
       "      <td>7695679</td>\n",
       "      <td>2006-02-08</td>\n",
       "      <td>62.60</td>\n",
       "      <td>1</td>\n",
       "    </tr>\n",
       "    <tr>\n",
       "      <th>3</th>\n",
       "      <td>7695679</td>\n",
       "      <td>2006-03-08</td>\n",
       "      <td>63.96</td>\n",
       "      <td>1</td>\n",
       "    </tr>\n",
       "    <tr>\n",
       "      <th>4</th>\n",
       "      <td>7695679</td>\n",
       "      <td>2006-10-02</td>\n",
       "      <td>65.77</td>\n",
       "      <td>1</td>\n",
       "    </tr>\n",
       "  </tbody>\n",
       "</table>\n",
       "</div>"
      ],
      "text/plain": [
       "       MRN WEIGHT_DATE  WEIGHT  PREGNANCY_INDICATOR\n",
       "0  7695679  2006-01-27   62.60                    1\n",
       "1  7695679  2006-02-08   62.60                    1\n",
       "2  7695679  2006-02-08   62.60                    1\n",
       "3  7695679  2006-03-08   63.96                    1\n",
       "4  7695679  2006-10-02   65.77                    1"
      ]
     },
     "execution_count": 18,
     "metadata": {},
     "output_type": "execute_result"
    }
   ],
   "source": [
    "weight_raw = pd.read_csv(RAW_DATA_DIR + 'pcori_heerman_cohort_weight_20170213.csv', \n",
    "                         parse_dates=[1], infer_datetime_format=True)\n",
    "weight_raw.head()"
   ]
  },
  {
   "cell_type": "markdown",
   "metadata": {},
   "source": [
    "Only take individuals with 5 or more observations"
   ]
  },
  {
   "cell_type": "code",
   "execution_count": 46,
   "metadata": {
    "collapsed": true
   },
   "outputs": [],
   "source": [
    "weights_nonpreg = weight_raw[weight_raw.PREGNANCY_INDICATOR==0].drop('PREGNANCY_INDICATOR', axis=1)"
   ]
  },
  {
   "cell_type": "code",
   "execution_count": 47,
   "metadata": {
    "collapsed": true
   },
   "outputs": [],
   "source": [
    "weight_counts = weights_nonpreg.groupby('MRN')['WEIGHT_DATE'].count()"
   ]
  },
  {
   "cell_type": "code",
   "execution_count": 48,
   "metadata": {
    "collapsed": true
   },
   "outputs": [],
   "source": [
    "MIN_MEASUREMENTS = 11\n",
    "min_weights = weight_counts[weight_counts>=MIN_MEASUREMENTS].index.values"
   ]
  },
  {
   "cell_type": "code",
   "execution_count": 50,
   "metadata": {},
   "outputs": [],
   "source": [
    "filtered_weights = weights_nonpreg[weights_nonpreg.MRN.isin(min_weights)]"
   ]
  },
  {
   "cell_type": "code",
   "execution_count": 52,
   "metadata": {},
   "outputs": [
    {
     "data": {
      "application/vnd.jupyter.widget-view+json": {
       "model_id": "e49264d7725c44279d8346290a2fc21c"
      }
     },
     "metadata": {},
     "output_type": "display_data"
    },
    {
     "name": "stdout",
     "output_type": "stream",
     "text": [
      "\r",
      "          \r",
      "195132/|/100%|| 195132/195132 [05:30<00:00, 597.42it/s]"
     ]
    }
   ],
   "source": [
    "def calc_rel_date(patient):\n",
    "    return patient.WEIGHT_DATE - patient.WEIGHT_DATE.min()\n",
    "\n",
    "recalculate_relative_date = False\n",
    "\n",
    "if recalculate_relative_date:\n",
    "    progress.pandas(desc='relative date calculation')\n",
    "    \n",
    "    relative_date = filtered_weights.groupby('MRN').progress_apply(calc_rel_date)\n",
    "    relative_date.index = relative_date.index.droplevel('MRN')\n",
    "    relative_date.name = 'RELATIVE_DATE'\n",
    "    \n",
    "    relative_date.to_csv(CLEAN_DATA_DIR+'relative_date.csv')\n",
    "else:\n",
    "    relative_date = pd.read_csv(CLEAN_DATA_DIR+'relative_date.csv',\n",
    "                               index_col=0)"
   ]
  },
  {
   "cell_type": "code",
   "execution_count": 53,
   "metadata": {
    "collapsed": true
   },
   "outputs": [],
   "source": [
    "weights = pd.concat([filtered_weights, relative_date], axis=1)"
   ]
  },
  {
   "cell_type": "code",
   "execution_count": 54,
   "metadata": {},
   "outputs": [],
   "source": [
    "assert not weights.isnull().sum().any()"
   ]
  },
  {
   "cell_type": "markdown",
   "metadata": {},
   "source": [
    "Apply Greevy flagging algorihtm"
   ]
  },
  {
   "cell_type": "code",
   "execution_count": 55,
   "metadata": {
    "collapsed": true
   },
   "outputs": [],
   "source": [
    "from scipy.stats import chi2\n",
    "\n",
    "def calc_concordance(patient, m=-0.032, sd=3.52):\n",
    "    p = []\n",
    "    nobs = 11\n",
    "    for i,x in patient.iterrows():\n",
    "\n",
    "        # Calculate deltas\n",
    "        df = (pd.DataFrame({'uid':i, \n",
    "                           'delta_W':patient.WEIGHT - x.WEIGHT, \n",
    "                           'delta_T':(patient.WEIGHT_DATE - x.WEIGHT_DATE).dt.days.abs()})\n",
    "             .sort_values('delta_T')[1:nobs] \n",
    "             .assign(measurement=np.arange(1, nobs), weight_date=x.WEIGHT_DATE)) \n",
    "\n",
    "        # Calculate statistic\n",
    "        prob = 1 - chi2.cdf(((df.delta_W - m)/sd) ** 2, 1) \n",
    "\n",
    "        # Convert to concordance probability\n",
    "        p.append({'uid':i, 'p':prob.mean()})\n",
    "\n",
    "\n",
    "    return pd.DataFrame(p).set_index('uid')\n"
   ]
  },
  {
   "cell_type": "code",
   "execution_count": 56,
   "metadata": {},
   "outputs": [
    {
     "data": {
      "application/vnd.jupyter.widget-view+json": {
       "model_id": "0486b8da35904d26b4df21db424384a1"
      }
     },
     "metadata": {},
     "output_type": "display_data"
    },
    {
     "name": "stdout",
     "output_type": "stream",
     "text": [
      "\r",
      "          \r",
      "195132/|/100%|| 195132/195132 [9:59:09<00:00, 16.91it/s]"
     ]
    }
   ],
   "source": [
    "recalculate_weights = False\n",
    "\n",
    "if recalculate_weights:\n",
    "    progress.pandas(desc='concordance probability calculation')\n",
    "    concordance = (filtered_weights.groupby('MRN')\n",
    "                   .progress_apply(calc_concordance))\n",
    "    concordance.to_csv(CLEAN_DATA_DIR+'concordance.csv')\n",
    "else:\n",
    "    concordance = pd.read_csv(CLEAN_DATA_DIR+'concordance.csv', index_col=0)"
   ]
  },
  {
   "cell_type": "markdown",
   "metadata": {},
   "source": [
    "Add a relative date (to first measurement) of each measurement"
   ]
  },
  {
   "cell_type": "code",
   "execution_count": 58,
   "metadata": {
    "collapsed": true
   },
   "outputs": [],
   "source": [
    "concordance.index = concordance.index.droplevel('MRN')"
   ]
  },
  {
   "cell_type": "code",
   "execution_count": 59,
   "metadata": {},
   "outputs": [
    {
     "data": {
      "text/plain": [
       "p    0.004729\n",
       "dtype: float64"
      ]
     },
     "execution_count": 59,
     "metadata": {},
     "output_type": "execute_result"
    }
   ],
   "source": [
    "(concordance<0.01).mean()"
   ]
  },
  {
   "cell_type": "markdown",
   "metadata": {},
   "source": [
    "Proportion excluded as a function of concordance threshold."
   ]
  },
  {
   "cell_type": "code",
   "execution_count": 60,
   "metadata": {},
   "outputs": [
    {
     "data": {
      "image/png": "[encoded data removed]",
      "text/plain": [
       "<matplotlib.figure.Figure at 0x1afa730b8>"
      ]
     },
     "metadata": {},
     "output_type": "display_data"
    }
   ],
   "source": [
    "plt.figure()\n",
    "plt.plot([(concordance<p).mean() for p in np.linspace(0, 1, 100)])\n",
    "plt.xlabel('Concordance probability threshold')\n",
    "plt.ylabel('Proportion excluded');"
   ]
  },
  {
   "cell_type": "markdown",
   "metadata": {
    "scrolled": true
   },
   "source": [
    "Merge concordance probabilities"
   ]
  },
  {
   "cell_type": "code",
   "execution_count": 61,
   "metadata": {},
   "outputs": [
    {
     "data": {
      "text/plain": [
       "(5917001, 1)"
      ]
     },
     "execution_count": 61,
     "metadata": {},
     "output_type": "execute_result"
    }
   ],
   "source": [
    "concordance.shape"
   ]
  },
  {
   "cell_type": "code",
   "execution_count": 69,
   "metadata": {
    "collapsed": true
   },
   "outputs": [],
   "source": [
    "weights = weights.join(concordance)"
   ]
  },
  {
   "cell_type": "code",
   "execution_count": 71,
   "metadata": {},
   "outputs": [
    {
     "data": {
      "text/html": [
       "<div>\n",
       "<table border=\"1\" class=\"dataframe\">\n",
       "  <thead>\n",
       "    <tr style=\"text-align: right;\">\n",
       "      <th></th>\n",
       "      <th>MRN</th>\n",
       "      <th>WEIGHT_DATE</th>\n",
       "      <th>WEIGHT</th>\n",
       "      <th>RELATIVE_DATE</th>\n",
       "      <th>p</th>\n",
       "    </tr>\n",
       "  </thead>\n",
       "  <tbody>\n",
       "    <tr>\n",
       "      <th>1088</th>\n",
       "      <td>2757748</td>\n",
       "      <td>2011-04-14</td>\n",
       "      <td>68.90</td>\n",
       "      <td>1497 days</td>\n",
       "      <td>0.115329</td>\n",
       "    </tr>\n",
       "    <tr>\n",
       "      <th>1089</th>\n",
       "      <td>2757748</td>\n",
       "      <td>2011-09-15</td>\n",
       "      <td>69.60</td>\n",
       "      <td>1651 days</td>\n",
       "      <td>0.130029</td>\n",
       "    </tr>\n",
       "    <tr>\n",
       "      <th>1090</th>\n",
       "      <td>2757748</td>\n",
       "      <td>2011-07-15</td>\n",
       "      <td>73.03</td>\n",
       "      <td>1589 days</td>\n",
       "      <td>0.126661</td>\n",
       "    </tr>\n",
       "    <tr>\n",
       "      <th>1091</th>\n",
       "      <td>2757748</td>\n",
       "      <td>2011-04-14</td>\n",
       "      <td>75.21</td>\n",
       "      <td>1497 days</td>\n",
       "      <td>0.209360</td>\n",
       "    </tr>\n",
       "    <tr>\n",
       "      <th>1092</th>\n",
       "      <td>2757748</td>\n",
       "      <td>2011-03-17</td>\n",
       "      <td>78.02</td>\n",
       "      <td>1469 days</td>\n",
       "      <td>0.077993</td>\n",
       "    </tr>\n",
       "  </tbody>\n",
       "</table>\n",
       "</div>"
      ],
      "text/plain": [
       "          MRN WEIGHT_DATE  WEIGHT  RELATIVE_DATE         p\n",
       "1088  2757748  2011-04-14   68.90      1497 days  0.115329\n",
       "1089  2757748  2011-09-15   69.60      1651 days  0.130029\n",
       "1090  2757748  2011-07-15   73.03      1589 days  0.126661\n",
       "1091  2757748  2011-04-14   75.21      1497 days  0.209360\n",
       "1092  2757748  2011-03-17   78.02      1469 days  0.077993"
      ]
     },
     "execution_count": 71,
     "metadata": {},
     "output_type": "execute_result"
    }
   ],
   "source": [
    "weights.head()"
   ]
  },
  {
   "cell_type": "code",
   "execution_count": 72,
   "metadata": {
    "collapsed": true
   },
   "outputs": [],
   "source": [
    "weights['Weight_filtered'] = weights.WEIGHT.copy()\n",
    "weights.loc[weights.p<0.05, 'Weight_filtered'] = np.nan"
   ]
  },
  {
   "cell_type": "code",
   "execution_count": 73,
   "metadata": {},
   "outputs": [
    {
     "data": {
      "text/plain": [
       "526996"
      ]
     },
     "execution_count": 73,
     "metadata": {},
     "output_type": "execute_result"
    }
   ],
   "source": [
    "len(set(weight_raw.MRN))"
   ]
  },
  {
   "cell_type": "markdown",
   "metadata": {},
   "source": [
    "Add age to each measurement"
   ]
  },
  {
   "cell_type": "code",
   "execution_count": 76,
   "metadata": {},
   "outputs": [],
   "source": [
    "weights = weights.merge(demographics[['DOB']], left_on='MRN', right_index=True)\n",
    "weights['AGE'] = (weights.WEIGHT_DATE - weights.DOB).astype('<m8[Y]')"
   ]
  },
  {
   "cell_type": "markdown",
   "metadata": {},
   "source": [
    "Calculate BMI"
   ]
  },
  {
   "cell_type": "code",
   "execution_count": 77,
   "metadata": {
    "collapsed": true
   },
   "outputs": [],
   "source": [
    "bmi = weights.merge(height_raw, left_on=['MRN', 'WEIGHT_DATE'], \n",
    "              right_on=['MRN', 'HEIGHT_DATE'])\n",
    "bmi['BMI'] = bmi.Weight_filtered / (bmi.HEIGHT / 100)**2"
   ]
  },
  {
   "cell_type": "code",
   "execution_count": 78,
   "metadata": {},
   "outputs": [
    {
     "data": {
      "text/plain": [
       "<matplotlib.axes._subplots.AxesSubplot at 0x18f6f7dd8>"
      ]
     },
     "execution_count": 78,
     "metadata": {},
     "output_type": "execute_result"
    },
    {
     "data": {
      "image/png": "[encoded data removed]",
      "text/plain": [
       "<matplotlib.figure.Figure at 0x19245ec18>"
      ]
     },
     "metadata": {},
     "output_type": "display_data"
    }
   ],
   "source": [
    "bmi.BMI.hist()"
   ]
  },
  {
   "cell_type": "code",
   "execution_count": 79,
   "metadata": {
    "collapsed": true
   },
   "outputs": [],
   "source": [
    "bmi.to_csv(CLEAN_DATA_DIR+'bmi.csv')"
   ]
  },
  {
   "cell_type": "code",
   "execution_count": 11,
   "metadata": {
    "collapsed": true
   },
   "outputs": [],
   "source": [
    "bmi = pd.read_csv(CLEAN_DATA_DIR+'bmi.csv', index_col=0, parse_dates=True)"
   ]
  },
  {
   "cell_type": "code",
   "execution_count": 17,
   "metadata": {},
   "outputs": [],
   "source": [
    "bmi['RELATIVE_DATE'] = bmi.RELATIVE_DATE.str.split(' ').apply(lambda x: int(x[0]))"
   ]
  },
  {
   "cell_type": "code",
   "execution_count": 18,
   "metadata": {},
   "outputs": [
    {
     "data": {
      "text/html": [
       "<div>\n",
       "<table border=\"1\" class=\"dataframe\">\n",
       "  <thead>\n",
       "    <tr style=\"text-align: right;\">\n",
       "      <th></th>\n",
       "      <th>MRN</th>\n",
       "      <th>WEIGHT_DATE</th>\n",
       "      <th>WEIGHT</th>\n",
       "      <th>RELATIVE_DATE</th>\n",
       "      <th>p</th>\n",
       "      <th>Weight_filtered</th>\n",
       "      <th>DOB</th>\n",
       "      <th>AGE</th>\n",
       "      <th>HEIGHT_DATE</th>\n",
       "      <th>HEIGHT</th>\n",
       "      <th>BMI</th>\n",
       "    </tr>\n",
       "  </thead>\n",
       "  <tbody>\n",
       "    <tr>\n",
       "      <th>0</th>\n",
       "      <td>2757748</td>\n",
       "      <td>2011-04-14</td>\n",
       "      <td>68.90</td>\n",
       "      <td>1497</td>\n",
       "      <td>0.115329</td>\n",
       "      <td>68.90</td>\n",
       "      <td>1957-12-09</td>\n",
       "      <td>53.0</td>\n",
       "      <td>2011-04-14</td>\n",
       "      <td>182.88</td>\n",
       "      <td>20.600929</td>\n",
       "    </tr>\n",
       "    <tr>\n",
       "      <th>1</th>\n",
       "      <td>2757748</td>\n",
       "      <td>2011-04-14</td>\n",
       "      <td>75.21</td>\n",
       "      <td>1497</td>\n",
       "      <td>0.209360</td>\n",
       "      <td>75.21</td>\n",
       "      <td>1957-12-09</td>\n",
       "      <td>53.0</td>\n",
       "      <td>2011-04-14</td>\n",
       "      <td>182.88</td>\n",
       "      <td>22.487603</td>\n",
       "    </tr>\n",
       "    <tr>\n",
       "      <th>2</th>\n",
       "      <td>2757748</td>\n",
       "      <td>2011-03-17</td>\n",
       "      <td>78.02</td>\n",
       "      <td>1469</td>\n",
       "      <td>0.077993</td>\n",
       "      <td>78.02</td>\n",
       "      <td>1957-12-09</td>\n",
       "      <td>53.0</td>\n",
       "      <td>2011-03-17</td>\n",
       "      <td>182.88</td>\n",
       "      <td>23.327786</td>\n",
       "    </tr>\n",
       "    <tr>\n",
       "      <th>3</th>\n",
       "      <td>2757748</td>\n",
       "      <td>2016-06-30</td>\n",
       "      <td>88.18</td>\n",
       "      <td>3401</td>\n",
       "      <td>0.172913</td>\n",
       "      <td>88.18</td>\n",
       "      <td>1957-12-09</td>\n",
       "      <td>58.0</td>\n",
       "      <td>2016-06-30</td>\n",
       "      <td>180.34</td>\n",
       "      <td>27.113524</td>\n",
       "    </tr>\n",
       "    <tr>\n",
       "      <th>4</th>\n",
       "      <td>2757748</td>\n",
       "      <td>2016-11-09</td>\n",
       "      <td>90.26</td>\n",
       "      <td>3533</td>\n",
       "      <td>0.336338</td>\n",
       "      <td>90.26</td>\n",
       "      <td>1957-12-09</td>\n",
       "      <td>58.0</td>\n",
       "      <td>2016-11-09</td>\n",
       "      <td>180.34</td>\n",
       "      <td>27.753081</td>\n",
       "    </tr>\n",
       "  </tbody>\n",
       "</table>\n",
       "</div>"
      ],
      "text/plain": [
       "       MRN WEIGHT_DATE  WEIGHT  RELATIVE_DATE         p  Weight_filtered  \\\n",
       "0  2757748  2011-04-14   68.90           1497  0.115329            68.90   \n",
       "1  2757748  2011-04-14   75.21           1497  0.209360            75.21   \n",
       "2  2757748  2011-03-17   78.02           1469  0.077993            78.02   \n",
       "3  2757748  2016-06-30   88.18           3401  0.172913            88.18   \n",
       "4  2757748  2016-11-09   90.26           3533  0.336338            90.26   \n",
       "\n",
       "          DOB   AGE HEIGHT_DATE  HEIGHT        BMI  \n",
       "0  1957-12-09  53.0  2011-04-14  182.88  20.600929  \n",
       "1  1957-12-09  53.0  2011-04-14  182.88  22.487603  \n",
       "2  1957-12-09  53.0  2011-03-17  182.88  23.327786  \n",
       "3  1957-12-09  58.0  2016-06-30  180.34  27.113524  \n",
       "4  1957-12-09  58.0  2016-11-09  180.34  27.753081  "
      ]
     },
     "execution_count": 18,
     "metadata": {},
     "output_type": "execute_result"
    }
   ],
   "source": [
    "bmi.head()"
   ]
  },
  {
   "cell_type": "markdown",
   "metadata": {},
   "source": [
    "Generate subset of patients whose initial BMI is in the normal range"
   ]
  },
  {
   "cell_type": "code",
   "execution_count": 19,
   "metadata": {
    "collapsed": true
   },
   "outputs": [],
   "source": [
    "def initial_bmi(patient):\n",
    "    return patient.BMI[patient.RELATIVE_DATE==patient.RELATIVE_DATE.min()].mean()"
   ]
  },
  {
   "cell_type": "code",
   "execution_count": 20,
   "metadata": {},
   "outputs": [],
   "source": [
    "initial_bmi = bmi.groupby('MRN').apply(initial_bmi)"
   ]
  },
  {
   "cell_type": "code",
   "execution_count": 21,
   "metadata": {},
   "outputs": [],
   "source": [
    "normal_range = initial_bmi[(initial_bmi>=27) & (initial_bmi<=30)].index.values"
   ]
  },
  {
   "cell_type": "code",
   "execution_count": 22,
   "metadata": {},
   "outputs": [
    {
     "data": {
      "text/plain": [
       "(34346,)"
      ]
     },
     "execution_count": 22,
     "metadata": {},
     "output_type": "execute_result"
    }
   ],
   "source": [
    "bmi_normal_range = bmi[bmi.MRN.isin(normal_range)]\n",
    "bmi_normal_range.MRN.unique().shape"
   ]
  },
  {
   "cell_type": "markdown",
   "metadata": {},
   "source": [
    "Pivot table of weight by date and patient"
   ]
  },
  {
   "cell_type": "code",
   "execution_count": 39,
   "metadata": {},
   "outputs": [
    {
     "data": {
      "text/html": [
       "<div>\n",
       "<table border=\"1\" class=\"dataframe\">\n",
       "  <thead>\n",
       "    <tr style=\"text-align: right;\">\n",
       "      <th></th>\n",
       "      <th>MRN</th>\n",
       "      <th>WEIGHT_DATE</th>\n",
       "      <th>WEIGHT</th>\n",
       "      <th>RELATIVE_DATE</th>\n",
       "      <th>p</th>\n",
       "      <th>Weight_filtered</th>\n",
       "      <th>DOB</th>\n",
       "      <th>AGE</th>\n",
       "      <th>HEIGHT_DATE</th>\n",
       "      <th>HEIGHT</th>\n",
       "      <th>BMI</th>\n",
       "    </tr>\n",
       "  </thead>\n",
       "  <tbody>\n",
       "    <tr>\n",
       "      <th>284</th>\n",
       "      <td>6779458</td>\n",
       "      <td>2016-03-28</td>\n",
       "      <td>47.17</td>\n",
       "      <td>4436 days</td>\n",
       "      <td>0.709568</td>\n",
       "      <td>47.17</td>\n",
       "      <td>1924-11-01</td>\n",
       "      <td>91.0</td>\n",
       "      <td>2016-03-28</td>\n",
       "      <td>152.4</td>\n",
       "      <td>20.309346</td>\n",
       "    </tr>\n",
       "    <tr>\n",
       "      <th>285</th>\n",
       "      <td>6779458</td>\n",
       "      <td>2016-03-28</td>\n",
       "      <td>47.20</td>\n",
       "      <td>4436 days</td>\n",
       "      <td>0.715268</td>\n",
       "      <td>47.20</td>\n",
       "      <td>1924-11-01</td>\n",
       "      <td>91.0</td>\n",
       "      <td>2016-03-28</td>\n",
       "      <td>152.4</td>\n",
       "      <td>20.322263</td>\n",
       "    </tr>\n",
       "    <tr>\n",
       "      <th>286</th>\n",
       "      <td>6779458</td>\n",
       "      <td>2016-04-07</td>\n",
       "      <td>47.17</td>\n",
       "      <td>4446 days</td>\n",
       "      <td>0.823647</td>\n",
       "      <td>47.17</td>\n",
       "      <td>1924-11-01</td>\n",
       "      <td>91.0</td>\n",
       "      <td>2016-04-07</td>\n",
       "      <td>152.4</td>\n",
       "      <td>20.309346</td>\n",
       "    </tr>\n",
       "    <tr>\n",
       "      <th>287</th>\n",
       "      <td>6779458</td>\n",
       "      <td>2016-04-07</td>\n",
       "      <td>48.99</td>\n",
       "      <td>4446 days</td>\n",
       "      <td>0.629773</td>\n",
       "      <td>48.99</td>\n",
       "      <td>1924-11-01</td>\n",
       "      <td>91.0</td>\n",
       "      <td>2016-04-07</td>\n",
       "      <td>152.4</td>\n",
       "      <td>21.092959</td>\n",
       "    </tr>\n",
       "    <tr>\n",
       "      <th>288</th>\n",
       "      <td>6779458</td>\n",
       "      <td>2016-04-14</td>\n",
       "      <td>47.63</td>\n",
       "      <td>4453 days</td>\n",
       "      <td>0.812743</td>\n",
       "      <td>47.63</td>\n",
       "      <td>1924-11-01</td>\n",
       "      <td>91.0</td>\n",
       "      <td>2016-04-14</td>\n",
       "      <td>152.4</td>\n",
       "      <td>20.507402</td>\n",
       "    </tr>\n",
       "  </tbody>\n",
       "</table>\n",
       "</div>"
      ],
      "text/plain": [
       "         MRN WEIGHT_DATE  WEIGHT  RELATIVE_DATE         p  Weight_filtered  \\\n",
       "284  6779458  2016-03-28   47.17      4436 days  0.709568            47.17   \n",
       "285  6779458  2016-03-28   47.20      4436 days  0.715268            47.20   \n",
       "286  6779458  2016-04-07   47.17      4446 days  0.823647            47.17   \n",
       "287  6779458  2016-04-07   48.99      4446 days  0.629773            48.99   \n",
       "288  6779458  2016-04-14   47.63      4453 days  0.812743            47.63   \n",
       "\n",
       "            DOB   AGE HEIGHT_DATE  HEIGHT        BMI  \n",
       "284  1924-11-01  91.0  2016-03-28   152.4  20.309346  \n",
       "285  1924-11-01  91.0  2016-03-28   152.4  20.322263  \n",
       "286  1924-11-01  91.0  2016-04-07   152.4  20.309346  \n",
       "287  1924-11-01  91.0  2016-04-07   152.4  21.092959  \n",
       "288  1924-11-01  91.0  2016-04-14   152.4  20.507402  "
      ]
     },
     "execution_count": 39,
     "metadata": {},
     "output_type": "execute_result"
    }
   ],
   "source": [
    "bmi_normal_range.head()"
   ]
  },
  {
   "cell_type": "code",
   "execution_count": 40,
   "metadata": {
    "collapsed": true
   },
   "outputs": [],
   "source": [
    "weights_by_patient = pd.pivot_table(bmi_normal_range.assign(Days=bmi_normal_range.RELATIVE_DATE.dt.days), \n",
    "                                    index='Days', columns='MRN', values='Weight_filtered')"
   ]
  },
  {
   "cell_type": "code",
   "execution_count": 41,
   "metadata": {},
   "outputs": [],
   "source": [
    "bmi_by_patient = pd.pivot_table(bmi_normal_range.assign(Days=bmi_normal_range.RELATIVE_DATE), \n",
    "                                    index='Days', columns='MRN', values='BMI')"
   ]
  },
  {
   "cell_type": "markdown",
   "metadata": {},
   "source": [
    "Here is a random 20 trajectories"
   ]
  },
  {
   "cell_type": "code",
   "execution_count": 43,
   "metadata": {},
   "outputs": [
    {
     "data": {
      "image/png": "[encoded data removed]",
      "text/plain": [
       "<matplotlib.figure.Figure at 0x11cbac780>"
      ]
     },
     "metadata": {},
     "output_type": "display_data"
    }
   ],
   "source": [
    "axes = (bmi_by_patient[np.random.choice(bmi_by_patient.columns, 20)]\n",
    "                    .interpolate(limit=700)\n",
    "                    .plot(legend=False, alpha=0.3))\n",
    "axes.set_ylabel('BMI');"
   ]
  },
  {
   "cell_type": "markdown",
   "metadata": {},
   "source": [
    "Restrict to the first 1-year period"
   ]
  },
  {
   "cell_type": "code",
   "execution_count": 25,
   "metadata": {
    "collapsed": true
   },
   "outputs": [],
   "source": [
    "from datetime import timedelta\n",
    "\n",
    "ONE_YEAR = timedelta(days=365)"
   ]
  },
  {
   "cell_type": "code",
   "execution_count": 28,
   "metadata": {},
   "outputs": [
    {
     "data": {
      "text/plain": [
       "(115693, 11)"
      ]
     },
     "execution_count": 28,
     "metadata": {},
     "output_type": "execute_result"
    }
   ],
   "source": [
    "bmi_year = bmi_normal_range[bmi_normal_range.RELATIVE_DATE < ONE_YEAR]\n",
    "bmi_year.shape"
   ]
  },
  {
   "cell_type": "code",
   "execution_count": 29,
   "metadata": {
    "collapsed": true
   },
   "outputs": [],
   "source": [
    "measurement_counts = bmi_year.groupby('MRN').WEIGHT_DATE.count()"
   ]
  },
  {
   "cell_type": "code",
   "execution_count": 30,
   "metadata": {
    "collapsed": true
   },
   "outputs": [],
   "source": [
    "analysis_subset = bmi_year[bmi_year.MRN.isin(measurement_counts[measurement_counts>=5].index)]"
   ]
  },
  {
   "cell_type": "code",
   "execution_count": 31,
   "metadata": {},
   "outputs": [
    {
     "data": {
      "text/plain": [
       "(83100, 11)"
      ]
     },
     "execution_count": 31,
     "metadata": {},
     "output_type": "execute_result"
    }
   ],
   "source": [
    "analysis_subset.shape"
   ]
  },
  {
   "cell_type": "code",
   "execution_count": 44,
   "metadata": {
    "collapsed": true
   },
   "outputs": [],
   "source": [
    "weights_by_patient = pd.pivot_table(analysis_subset.assign(Days=analysis_subset.RELATIVE_DATE.dt.days), \n",
    "                                    index='Days', columns='MRN', values='Weight_filtered')"
   ]
  },
  {
   "cell_type": "code",
   "execution_count": 45,
   "metadata": {},
   "outputs": [
    {
     "data": {
      "text/plain": [
       "(365, 7007)"
      ]
     },
     "execution_count": 45,
     "metadata": {},
     "output_type": "execute_result"
    }
   ],
   "source": [
    "weights_by_patient.shape"
   ]
  },
  {
   "cell_type": "code",
   "execution_count": 37,
   "metadata": {},
   "outputs": [
    {
     "data": {
      "image/png": "[encoded data removed]",
      "text/plain": [
       "<matplotlib.figure.Figure at 0x1400f7048>"
      ]
     },
     "metadata": {},
     "output_type": "display_data"
    }
   ],
   "source": [
    "fig, axes = plt.subplots()\n",
    "(weights_by_patient[np.random.choice(weights_by_patient.columns, 20)].interpolate(limit=100)\n",
    "            .plot(legend=False, alpha=0.3, ax=axes))\n",
    "axes.set_ylabel('Weight (kg)');"
   ]
  },
  {
   "cell_type": "code",
   "execution_count": 46,
   "metadata": {
    "collapsed": true
   },
   "outputs": [],
   "source": [
    "bmi_by_patient = pd.pivot_table(analysis_subset.assign(Days=analysis_subset.RELATIVE_DATE.dt.days), \n",
    "                                    index='Days', columns='MRN', values='BMI')"
   ]
  },
  {
   "cell_type": "code",
   "execution_count": 47,
   "metadata": {},
   "outputs": [
    {
     "data": {
      "image/png": "[encoded data removed]",
      "text/plain": [
       "<matplotlib.figure.Figure at 0x119655710>"
      ]
     },
     "metadata": {},
     "output_type": "display_data"
    }
   ],
   "source": [
    "fig, axes = plt.subplots()\n",
    "(bmi_by_patient[np.random.choice(bmi_by_patient.columns, 20)].interpolate(limit=100)\n",
    "            .plot(legend=False, alpha=0.3, ax=axes))\n",
    "axes.set_ylabel('BMI');"
   ]
  },
  {
   "cell_type": "code",
   "execution_count": 48,
   "metadata": {
    "collapsed": true
   },
   "outputs": [],
   "source": [
    "bmi_by_patient.to_csv(CLEAN_DATA_DIR+'bmi_by_patient.csv')"
   ]
  },
  {
   "cell_type": "code",
   "execution_count": 49,
   "metadata": {
    "collapsed": true
   },
   "outputs": [],
   "source": [
    "weights_by_patient.to_csv(CLEAN_DATA_DIR+'weights_by_patient.csv')"
   ]
  },
  {
   "cell_type": "markdown",
   "metadata": {},
   "source": [
    "### Lab values"
   ]
  },
  {
   "cell_type": "code",
   "execution_count": 42,
   "metadata": {
    "scrolled": true
   },
   "outputs": [
    {
     "data": {
      "text/html": [
       "<div>\n",
       "<table border=\"1\" class=\"dataframe\">\n",
       "  <thead>\n",
       "    <tr style=\"text-align: right;\">\n",
       "      <th></th>\n",
       "      <th>MRN</th>\n",
       "      <th>LAB_DATE</th>\n",
       "      <th>LAB_VALUE</th>\n",
       "      <th>LAB_NAME</th>\n",
       "      <th>LAB_UNIT</th>\n",
       "    </tr>\n",
       "  </thead>\n",
       "  <tbody>\n",
       "    <tr>\n",
       "      <th>0</th>\n",
       "      <td>2156149</td>\n",
       "      <td>10/09/2013</td>\n",
       "      <td>1.09</td>\n",
       "      <td>Creat</td>\n",
       "      <td>mg/dL</td>\n",
       "    </tr>\n",
       "    <tr>\n",
       "      <th>1</th>\n",
       "      <td>2156149</td>\n",
       "      <td>10/09/2013</td>\n",
       "      <td>1.04</td>\n",
       "      <td>Creat</td>\n",
       "      <td>mg/dL</td>\n",
       "    </tr>\n",
       "    <tr>\n",
       "      <th>2</th>\n",
       "      <td>2156149</td>\n",
       "      <td>10/09/2013</td>\n",
       "      <td>0.89</td>\n",
       "      <td>Creat</td>\n",
       "      <td>mg/dL</td>\n",
       "    </tr>\n",
       "    <tr>\n",
       "      <th>3</th>\n",
       "      <td>2156149</td>\n",
       "      <td>10/10/2013</td>\n",
       "      <td>0.89</td>\n",
       "      <td>Creat</td>\n",
       "      <td>mg/dL</td>\n",
       "    </tr>\n",
       "    <tr>\n",
       "      <th>4</th>\n",
       "      <td>2156149</td>\n",
       "      <td>10/10/2013</td>\n",
       "      <td>0.97</td>\n",
       "      <td>Creat</td>\n",
       "      <td>mg/dL</td>\n",
       "    </tr>\n",
       "  </tbody>\n",
       "</table>\n",
       "</div>"
      ],
      "text/plain": [
       "\n",
       "       MRN    LAB_DATE LAB_VALUE LAB_NAME LAB_UNIT\n",
       "0  2156149  10/09/2013      1.09    Creat    mg/dL\n",
       "1  2156149  10/09/2013      1.04    Creat    mg/dL\n",
       "2  2156149  10/09/2013      0.89    Creat    mg/dL\n",
       "3  2156149  10/10/2013      0.89    Creat    mg/dL\n",
       "4  2156149  10/10/2013      0.97    Creat    mg/dL"
      ]
     },
     "metadata": {},
     "output_type": "display_data"
    }
   ],
   "source": [
    "lab_raw = pd.read_csv(RAW_DATA_DIR + 'pcori_heerman_cohort_Lab_20170213.csv', \n",
    "                      usecols = ['MRN','LAB_DATE','LAB_VALUE','LAB_NAME','LAB_UNIT'],\n",
    "                      parse_dates=[1], infer_datetime_format=True)\n",
    "lab_raw.head()"
   ]
  },
  {
   "cell_type": "code",
   "execution_count": 43,
   "metadata": {},
   "outputs": [
    {
     "data": {
      "text/plain": [
       "(8496974, 5)"
      ]
     },
     "execution_count": 43,
     "metadata": {},
     "output_type": "execute_result"
    }
   ],
   "source": [
    "lab_raw.shape"
   ]
  },
  {
   "cell_type": "markdown",
   "metadata": {},
   "source": [
    "### ICD codes"
   ]
  },
  {
   "cell_type": "code",
   "execution_count": 44,
   "metadata": {},
   "outputs": [
    {
     "data": {
      "text/html": [
       "<div>\n",
       "<table border=\"1\" class=\"dataframe\">\n",
       "  <thead>\n",
       "    <tr style=\"text-align: right;\">\n",
       "      <th></th>\n",
       "      <th>MRN</th>\n",
       "      <th>EVENT_DATE</th>\n",
       "      <th>ICD_CODE</th>\n",
       "      <th>CODE_TYPE</th>\n",
       "    </tr>\n",
       "  </thead>\n",
       "  <tbody>\n",
       "    <tr>\n",
       "      <th>0</th>\n",
       "      <td>2360139</td>\n",
       "      <td>2003-01-07</td>\n",
       "      <td>401.1</td>\n",
       "      <td>9</td>\n",
       "    </tr>\n",
       "    <tr>\n",
       "      <th>1</th>\n",
       "      <td>2360139</td>\n",
       "      <td>2002-01-08</td>\n",
       "      <td>401.1</td>\n",
       "      <td>9</td>\n",
       "    </tr>\n",
       "    <tr>\n",
       "      <th>2</th>\n",
       "      <td>2360139</td>\n",
       "      <td>2003-01-08</td>\n",
       "      <td>401.1</td>\n",
       "      <td>9</td>\n",
       "    </tr>\n",
       "    <tr>\n",
       "      <th>3</th>\n",
       "      <td>2360139</td>\n",
       "      <td>2005-01-11</td>\n",
       "      <td>401.1</td>\n",
       "      <td>9</td>\n",
       "    </tr>\n",
       "    <tr>\n",
       "      <th>4</th>\n",
       "      <td>2360139</td>\n",
       "      <td>2004-01-13</td>\n",
       "      <td>401.9</td>\n",
       "      <td>9</td>\n",
       "    </tr>\n",
       "  </tbody>\n",
       "</table>\n",
       "</div>"
      ],
      "text/plain": [
       "\n",
       "       MRN EVENT_DATE ICD_CODE  CODE_TYPE\n",
       "0  2360139 2003-01-07    401.1          9\n",
       "1  2360139 2002-01-08    401.1          9\n",
       "2  2360139 2003-01-08    401.1          9\n",
       "3  2360139 2005-01-11    401.1          9\n",
       "4  2360139 2004-01-13    401.9          9"
      ]
     },
     "metadata": {},
     "output_type": "display_data"
    }
   ],
   "source": [
    "icd_raw = pd.read_csv(RAW_DATA_DIR + 'pcori_heerman_cohort_ICD_9_10_20170116.csv', \n",
    "                      parse_dates=[1], infer_datetime_format=True)\n",
    "icd_raw.head()"
   ]
  },
  {
   "cell_type": "code",
   "execution_count": 45,
   "metadata": {},
   "outputs": [
    {
     "data": {
      "text/plain": [
       "(8796137, 4)"
      ]
     },
     "execution_count": 45,
     "metadata": {},
     "output_type": "execute_result"
    }
   ],
   "source": [
    "icd_raw.shape"
   ]
  },
  {
   "cell_type": "code",
   "execution_count": 46,
   "metadata": {},
   "outputs": [
    {
     "data": {
      "text/plain": [
       "\n",
       "9     7098563\n",
       "10    1697574\n",
       "Name: CODE_TYPE, dtype: int64"
      ]
     },
     "metadata": {},
     "output_type": "display_data"
    }
   ],
   "source": [
    "icd_raw.CODE_TYPE.value_counts()"
   ]
  },
  {
   "cell_type": "markdown",
   "metadata": {},
   "source": [
    "### CPT codes"
   ]
  },
  {
   "cell_type": "code",
   "execution_count": 51,
   "metadata": {},
   "outputs": [
    {
     "data": {
      "text/html": [
       "<div>\n",
       "<table border=\"1\" class=\"dataframe\">\n",
       "  <thead>\n",
       "    <tr style=\"text-align: right;\">\n",
       "      <th></th>\n",
       "      <th>MRN</th>\n",
       "      <th>CPT_DATE</th>\n",
       "      <th>CPT_CODE</th>\n",
       "    </tr>\n",
       "  </thead>\n",
       "  <tbody>\n",
       "    <tr>\n",
       "      <th>0</th>\n",
       "      <td>31275076</td>\n",
       "      <td>2012-05-29</td>\n",
       "      <td>43775</td>\n",
       "    </tr>\n",
       "    <tr>\n",
       "      <th>1</th>\n",
       "      <td>31275076</td>\n",
       "      <td>2012-05-29</td>\n",
       "      <td>43775</td>\n",
       "    </tr>\n",
       "    <tr>\n",
       "      <th>2</th>\n",
       "      <td>31275076</td>\n",
       "      <td>2012-05-29</td>\n",
       "      <td>43775</td>\n",
       "    </tr>\n",
       "    <tr>\n",
       "      <th>3</th>\n",
       "      <td>31275076</td>\n",
       "      <td>2012-05-29</td>\n",
       "      <td>43775</td>\n",
       "    </tr>\n",
       "    <tr>\n",
       "      <th>4</th>\n",
       "      <td>31275076</td>\n",
       "      <td>2012-05-29</td>\n",
       "      <td>43775</td>\n",
       "    </tr>\n",
       "  </tbody>\n",
       "</table>\n",
       "</div>"
      ],
      "text/plain": [
       "\n",
       "        MRN   CPT_DATE CPT_CODE\n",
       "0  31275076 2012-05-29    43775\n",
       "1  31275076 2012-05-29    43775\n",
       "2  31275076 2012-05-29    43775\n",
       "3  31275076 2012-05-29    43775\n",
       "4  31275076 2012-05-29    43775"
      ]
     },
     "metadata": {},
     "output_type": "display_data"
    }
   ],
   "source": [
    "cpt_raw = pd.read_csv(RAW_DATA_DIR + 'pcori_heerman_cohort_CPT_20170116.csv',\n",
    "                     parse_dates=[1], infer_datetime_format=True)\n",
    "cpt_raw.head()"
   ]
  },
  {
   "cell_type": "code",
   "execution_count": 52,
   "metadata": {},
   "outputs": [
    {
     "data": {
      "text/plain": [
       "\n",
       "MRN         0.0\n",
       "CPT_DATE    0.0\n",
       "CPT_CODE    0.0\n",
       "dtype: float64"
      ]
     },
     "metadata": {},
     "output_type": "display_data"
    }
   ],
   "source": [
    "cpt_raw.isnull().mean()"
   ]
  },
  {
   "cell_type": "code",
   "execution_count": 53,
   "metadata": {},
   "outputs": [
    {
     "data": {
      "text/plain": [
       "(65769, 12)"
      ]
     },
     "execution_count": 53,
     "metadata": {},
     "output_type": "execute_result"
    }
   ],
   "source": [
    "demographics_raw.merge(cpt_raw, left_index=True, right_on='MRN', how='inner').shape"
   ]
  }
 ],
 "metadata": {
  "kernelspec": {
   "display_name": "Python 3",
   "language": "python",
   "name": "python3"
  },
  "language_info": {
   "codemirror_mode": {
    "name": "ipython",
    "version": 3
   },
   "file_extension": ".py",
   "mimetype": "text/x-python",
   "name": "python",
   "nbconvert_exporter": "python",
   "pygments_lexer": "ipython3",
   "version": "3.6.1"
  }
 },
 "nbformat": 4,
 "nbformat_minor": 2
}
