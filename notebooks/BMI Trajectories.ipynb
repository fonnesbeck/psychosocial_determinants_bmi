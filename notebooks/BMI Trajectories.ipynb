{
 "cells": [
  {
   "cell_type": "code",
   "execution_count": 2,
   "metadata": {
    "collapsed": false,
    "deletable": true,
    "editable": true
   },
   "outputs": [],
   "source": [
    "%matplotlib inline\n",
    "import numpy as np\n",
    "import pandas as pd\n",
    "import seaborn as sns"
   ]
  },
  {
   "cell_type": "code",
   "execution_count": 4,
   "metadata": {
    "collapsed": false,
    "deletable": true,
    "editable": true,
    "scrolled": true
   },
   "outputs": [
    {
     "data": {
      "text/html": [
       "<div>\n",
       "<table border=\"1\" class=\"dataframe\">\n",
       "  <thead>\n",
       "    <tr style=\"text-align: right;\">\n",
       "      <th></th>\n",
       "      <th>mrn</th>\n",
       "      <th>name_last</th>\n",
       "      <th>name_first</th>\n",
       "      <th>dob</th>\n",
       "      <th>sex</th>\n",
       "      <th>race</th>\n",
       "      <th>phone_1</th>\n",
       "      <th>phone_2</th>\n",
       "      <th>address_street1</th>\n",
       "      <th>address_street2</th>\n",
       "      <th>...</th>\n",
       "      <th>weight2</th>\n",
       "      <th>weight2_date</th>\n",
       "      <th>height</th>\n",
       "      <th>height_date</th>\n",
       "      <th>bmi</th>\n",
       "      <th>bmi_date</th>\n",
       "      <th>num_encount1</th>\n",
       "      <th>num_encount2</th>\n",
       "      <th>pc_flag</th>\n",
       "      <th>pc_date</th>\n",
       "    </tr>\n",
       "  </thead>\n",
       "  <tbody>\n",
       "    <tr>\n",
       "      <th>0</th>\n",
       "      <td>171892</td>\n",
       "      <td>WILKINS</td>\n",
       "      <td>ELLA</td>\n",
       "      <td>9/9/1928</td>\n",
       "      <td>2</td>\n",
       "      <td>2</td>\n",
       "      <td>6.159775e+09</td>\n",
       "      <td>615-329-8150x1923</td>\n",
       "      <td>3505 HARBORWOOD CIRCLE</td>\n",
       "      <td>NaN</td>\n",
       "      <td>...</td>\n",
       "      <td>54.93</td>\n",
       "      <td>3/17/2015</td>\n",
       "      <td>162.56</td>\n",
       "      <td>4/23/2013</td>\n",
       "      <td>20.34</td>\n",
       "      <td>6/23/2015</td>\n",
       "      <td>3.0</td>\n",
       "      <td>8.0</td>\n",
       "      <td>1</td>\n",
       "      <td>6/23/2015</td>\n",
       "    </tr>\n",
       "    <tr>\n",
       "      <th>1</th>\n",
       "      <td>361972</td>\n",
       "      <td>HARLEY</td>\n",
       "      <td>RANDALL</td>\n",
       "      <td>11/30/1927</td>\n",
       "      <td>1</td>\n",
       "      <td>1</td>\n",
       "      <td>6.154982e+09</td>\n",
       "      <td>NaN</td>\n",
       "      <td>3800 SAM BONEY DRIVE</td>\n",
       "      <td>THE WINDLANDS, RM 701</td>\n",
       "      <td>...</td>\n",
       "      <td>NaN</td>\n",
       "      <td>NaN</td>\n",
       "      <td>189.23</td>\n",
       "      <td>3/7/2013</td>\n",
       "      <td>22.29</td>\n",
       "      <td>9/24/2013</td>\n",
       "      <td>NaN</td>\n",
       "      <td>3.0</td>\n",
       "      <td>1</td>\n",
       "      <td>9/24/2013</td>\n",
       "    </tr>\n",
       "    <tr>\n",
       "      <th>2</th>\n",
       "      <td>367615</td>\n",
       "      <td>FRAZER</td>\n",
       "      <td>JOHN</td>\n",
       "      <td>1/7/1931</td>\n",
       "      <td>1</td>\n",
       "      <td>1</td>\n",
       "      <td>6.153736e+09</td>\n",
       "      <td>NaN</td>\n",
       "      <td>110 LONG VALLEY ROAD</td>\n",
       "      <td>NaN</td>\n",
       "      <td>...</td>\n",
       "      <td>68.04</td>\n",
       "      <td>9/3/2013</td>\n",
       "      <td>170.18</td>\n",
       "      <td>9/3/2014</td>\n",
       "      <td>23.49</td>\n",
       "      <td>9/3/2014</td>\n",
       "      <td>1.0</td>\n",
       "      <td>3.0</td>\n",
       "      <td>0</td>\n",
       "      <td>NaN</td>\n",
       "    </tr>\n",
       "    <tr>\n",
       "      <th>3</th>\n",
       "      <td>390393</td>\n",
       "      <td>WERTHAN</td>\n",
       "      <td>BERNARD</td>\n",
       "      <td>4/18/1931</td>\n",
       "      <td>1</td>\n",
       "      <td>1</td>\n",
       "      <td>6.156650e+09</td>\n",
       "      <td>615-835-3418</td>\n",
       "      <td>4309 BEEKMAN DR</td>\n",
       "      <td>NaN</td>\n",
       "      <td>...</td>\n",
       "      <td>73.11</td>\n",
       "      <td>6/12/2015</td>\n",
       "      <td>177.80</td>\n",
       "      <td>7/22/2015</td>\n",
       "      <td>23.33</td>\n",
       "      <td>7/22/2015</td>\n",
       "      <td>45.0</td>\n",
       "      <td>36.0</td>\n",
       "      <td>1</td>\n",
       "      <td>4/4/2014</td>\n",
       "    </tr>\n",
       "    <tr>\n",
       "      <th>4</th>\n",
       "      <td>443465</td>\n",
       "      <td>DOUGLAS</td>\n",
       "      <td>BEVERLY</td>\n",
       "      <td>9/7/1926</td>\n",
       "      <td>1</td>\n",
       "      <td>1</td>\n",
       "      <td>6.153309e+09</td>\n",
       "      <td>931-388-4187</td>\n",
       "      <td>908 WEST 7TH ST</td>\n",
       "      <td>NaN</td>\n",
       "      <td>...</td>\n",
       "      <td>NaN</td>\n",
       "      <td>NaN</td>\n",
       "      <td>175.26</td>\n",
       "      <td>3/2/2015</td>\n",
       "      <td>33.73</td>\n",
       "      <td>3/2/2015</td>\n",
       "      <td>14.0</td>\n",
       "      <td>20.0</td>\n",
       "      <td>0</td>\n",
       "      <td>NaN</td>\n",
       "    </tr>\n",
       "  </tbody>\n",
       "</table>\n",
       "<p>5 rows × 25 columns</p>\n",
       "</div>"
      ],
      "text/plain": [
       "      mrn name_last name_first         dob  sex  race       phone_1  \\\n",
       "0  171892   WILKINS       ELLA    9/9/1928    2     2  6.159775e+09   \n",
       "1  361972    HARLEY    RANDALL  11/30/1927    1     1  6.154982e+09   \n",
       "2  367615    FRAZER       JOHN    1/7/1931    1     1  6.153736e+09   \n",
       "3  390393   WERTHAN    BERNARD   4/18/1931    1     1  6.156650e+09   \n",
       "4  443465   DOUGLAS    BEVERLY    9/7/1926    1     1  6.153309e+09   \n",
       "\n",
       "             phone_2         address_street1        address_street2  \\\n",
       "0  615-329-8150x1923  3505 HARBORWOOD CIRCLE                    NaN   \n",
       "1                NaN    3800 SAM BONEY DRIVE  THE WINDLANDS, RM 701   \n",
       "2                NaN    110 LONG VALLEY ROAD                    NaN   \n",
       "3       615-835-3418         4309 BEEKMAN DR                    NaN   \n",
       "4       931-388-4187         908 WEST 7TH ST                    NaN   \n",
       "\n",
       "     ...     weight2 weight2_date  height  height_date    bmi   bmi_date  \\\n",
       "0    ...       54.93    3/17/2015  162.56    4/23/2013  20.34  6/23/2015   \n",
       "1    ...         NaN          NaN  189.23     3/7/2013  22.29  9/24/2013   \n",
       "2    ...       68.04     9/3/2013  170.18     9/3/2014  23.49   9/3/2014   \n",
       "3    ...       73.11    6/12/2015  177.80    7/22/2015  23.33  7/22/2015   \n",
       "4    ...         NaN          NaN  175.26     3/2/2015  33.73   3/2/2015   \n",
       "\n",
       "  num_encount1  num_encount2 pc_flag    pc_date  \n",
       "0          3.0           8.0       1  6/23/2015  \n",
       "1          NaN           3.0       1  9/24/2013  \n",
       "2          1.0           3.0       0        NaN  \n",
       "3         45.0          36.0       1   4/4/2014  \n",
       "4         14.0          20.0       0        NaN  \n",
       "\n",
       "[5 rows x 25 columns]"
      ]
     },
     "execution_count": 4,
     "metadata": {},
     "output_type": "execute_result"
    }
   ],
   "source": [
    "raw_data = pd.read_csv('../data/raw/pcori_weight_cohort_20161013.csv', \n",
    "                       encoding='latin-1', low_memory=False)\n",
    "raw_data.head()"
   ]
  },
  {
   "cell_type": "code",
   "execution_count": 5,
   "metadata": {
    "collapsed": false,
    "deletable": true,
    "editable": true
   },
   "outputs": [
    {
     "data": {
      "text/plain": [
       "(417486, 25)"
      ]
     },
     "execution_count": 5,
     "metadata": {},
     "output_type": "execute_result"
    }
   ],
   "source": [
    "raw_data.shape"
   ]
  },
  {
   "cell_type": "code",
   "execution_count": 6,
   "metadata": {
    "collapsed": false,
    "deletable": true,
    "editable": true,
    "scrolled": false
   },
   "outputs": [
    {
     "data": {
      "text/plain": [
       "Index(['mrn', 'name_last', 'name_first', 'dob', 'sex', 'race', 'phone_1',\n",
       "       'phone_2', 'address_street1', 'address_street2', 'address_city',\n",
       "       'address_state', 'address_zip', 'weight1', 'weight1_date', 'weight2',\n",
       "       'weight2_date', 'height', 'height_date', 'bmi', 'bmi_date',\n",
       "       'num_encount1', 'num_encount2', 'pc_flag', 'pc_date'],\n",
       "      dtype='object')"
      ]
     },
     "execution_count": 6,
     "metadata": {},
     "output_type": "execute_result"
    }
   ],
   "source": [
    "raw_data.columns"
   ]
  },
  {
   "cell_type": "code",
   "execution_count": 7,
   "metadata": {
    "collapsed": false,
    "deletable": true,
    "editable": true
   },
   "outputs": [
    {
     "data": {
      "text/plain": [
       "(417486,)"
      ]
     },
     "execution_count": 7,
     "metadata": {},
     "output_type": "execute_result"
    }
   ],
   "source": [
    "raw_data.mrn.unique().shape"
   ]
  },
  {
   "cell_type": "code",
   "execution_count": 11,
   "metadata": {
    "collapsed": false,
    "deletable": true,
    "editable": true
   },
   "outputs": [
    {
     "data": {
      "text/plain": [
       "(15436,)"
      ]
     },
     "execution_count": 11,
     "metadata": {},
     "output_type": "execute_result"
    }
   ],
   "source": [
    "raw_data.patient_id.str.lstrip('0').unique().shape"
   ]
  },
  {
   "cell_type": "code",
   "execution_count": 13,
   "metadata": {
    "collapsed": false,
    "deletable": true,
    "editable": true
   },
   "outputs": [
    {
     "data": {
      "text/plain": [
       "(7393,)"
      ]
     },
     "execution_count": 13,
     "metadata": {},
     "output_type": "execute_result"
    }
   ],
   "source": [
    "raw_data.patient_id_vandy.unique().shape"
   ]
  },
  {
   "cell_type": "code",
   "execution_count": 7,
   "metadata": {
    "collapsed": false,
    "deletable": true,
    "editable": true
   },
   "outputs": [
    {
     "data": {
      "text/plain": [
       "(3,)"
      ]
     },
     "execution_count": 7,
     "metadata": {},
     "output_type": "execute_result"
    }
   ],
   "source": [
    "raw_data.patient_id_greenway.unique().shape"
   ]
  },
  {
   "cell_type": "code",
   "execution_count": 8,
   "metadata": {
    "collapsed": false,
    "deletable": true,
    "editable": true
   },
   "outputs": [
    {
     "data": {
      "text/plain": [
       "(6005,)"
      ]
     },
     "execution_count": 8,
     "metadata": {},
     "output_type": "execute_result"
    }
   ],
   "source": [
    "raw_data.patient_id_jackson.unique().shape"
   ]
  },
  {
   "cell_type": "code",
   "execution_count": 15,
   "metadata": {
    "collapsed": false,
    "deletable": true,
    "editable": true
   },
   "outputs": [
    {
     "data": {
      "text/plain": [
       "(5312,)"
      ]
     },
     "execution_count": 15,
     "metadata": {},
     "output_type": "execute_result"
    }
   ],
   "source": [
    "raw_data.participantid.unique().shape"
   ]
  },
  {
   "cell_type": "code",
   "execution_count": 5,
   "metadata": {
    "collapsed": false,
    "deletable": true,
    "editable": true,
    "scrolled": false
   },
   "outputs": [],
   "source": [
    "column_names = raw_data.columns.tolist()"
   ]
  },
  {
   "cell_type": "code",
   "execution_count": 14,
   "metadata": {
    "collapsed": false,
    "deletable": true,
    "editable": true
   },
   "outputs": [
    {
     "data": {
      "text/plain": [
       "Index(['patient_id', 'site_id', 'jacksonid', 'participantid', 'Bid', 'Aid',\n",
       "       'study_id', 'greenwayid'],\n",
       "      dtype='object')"
      ]
     },
     "execution_count": 14,
     "metadata": {},
     "output_type": "execute_result"
    }
   ],
   "source": [
    "raw_data.columns[raw_data.columns.str.endswith('id')]"
   ]
  },
  {
   "cell_type": "code",
   "execution_count": 5,
   "metadata": {
    "collapsed": false,
    "deletable": true,
    "editable": true
   },
   "outputs": [],
   "source": [
    "data_by_patient = raw_data.groupby('patient_id')"
   ]
  },
  {
   "cell_type": "code",
   "execution_count": 11,
   "metadata": {
    "collapsed": false,
    "deletable": true,
    "editable": true
   },
   "outputs": [
    {
     "name": "stderr",
     "output_type": "stream",
     "text": [
      "/Users/fonnescj/anaconda3/envs/dev/lib/python3.5/site-packages/dask/async.py:263: DtypeWarning: Columns (0,6,7,9,10,11,12,15) have mixed types. Specify dtype option on import or set low_memory=False.\n",
      "  result = _execute_task(task, data)\n"
     ]
    },
    {
     "ename": "ValueError",
     "evalue": "could not convert string to float: '03/01/2013'\n\nTraceback\n---------\n  File \"/Users/fonnescj/anaconda3/envs/dev/lib/python3.5/site-packages/dask/async.py\", line 263, in execute_task\n    result = _execute_task(task, data)\n  File \"/Users/fonnescj/anaconda3/envs/dev/lib/python3.5/site-packages/dask/async.py\", line 245, in _execute_task\n    return func(*args2)\n  File \"/Users/fonnescj/anaconda3/envs/dev/lib/python3.5/site-packages/dask/compatibility.py\", line 47, in apply\n    return func(*args, **kwargs)\n  File \"/Users/fonnescj/anaconda3/envs/dev/lib/python3.5/site-packages/dask/dataframe/csv.py\", line 49, in bytes_read_csv\n    coerce_dtypes(df, dtypes)\n  File \"/Users/fonnescj/anaconda3/envs/dev/lib/python3.5/site-packages/dask/dataframe/csv.py\", line 74, in coerce_dtypes\n    df[c] = df[c].astype(dtypes[c])\n  File \"/Users/fonnescj/anaconda3/envs/dev/lib/python3.5/site-packages/pandas/core/generic.py\", line 3054, in astype\n    raise_on_error=raise_on_error, **kwargs)\n  File \"/Users/fonnescj/anaconda3/envs/dev/lib/python3.5/site-packages/pandas/core/internals.py\", line 3168, in astype\n    return self.apply('astype', dtype=dtype, **kwargs)\n  File \"/Users/fonnescj/anaconda3/envs/dev/lib/python3.5/site-packages/pandas/core/internals.py\", line 3035, in apply\n    applied = getattr(b, f)(**kwargs)\n  File \"/Users/fonnescj/anaconda3/envs/dev/lib/python3.5/site-packages/pandas/core/internals.py\", line 462, in astype\n    values=values, **kwargs)\n  File \"/Users/fonnescj/anaconda3/envs/dev/lib/python3.5/site-packages/pandas/core/internals.py\", line 505, in _astype\n    values = _astype_nansafe(values.ravel(), dtype, copy=True)\n  File \"/Users/fonnescj/anaconda3/envs/dev/lib/python3.5/site-packages/pandas/types/cast.py\", line 537, in _astype_nansafe\n    return arr.astype(dtype)\n",
     "output_type": "error",
     "traceback": [
      "\u001b[0;31m---------------------------------------------------------------------------\u001b[0m",
      "\u001b[0;31mValueError\u001b[0m                                Traceback (most recent call last)",
      "\u001b[0;32m<ipython-input-11-92e7665b2179>\u001b[0m in \u001b[0;36m<module>\u001b[0;34m()\u001b[0m\n\u001b[0;32m----> 1\u001b[0;31m \u001b[0mdd\u001b[0m\u001b[0;34m.\u001b[0m\u001b[0mcompute\u001b[0m\u001b[0;34m(\u001b[0m\u001b[0mraw_data\u001b[0m\u001b[0;34m.\u001b[0m\u001b[0mweight\u001b[0m\u001b[0;34m.\u001b[0m\u001b[0mmin\u001b[0m\u001b[0;34m(\u001b[0m\u001b[0;34m)\u001b[0m\u001b[0;34m,\u001b[0m \u001b[0mraw_data\u001b[0m\u001b[0;34m.\u001b[0m\u001b[0mweight\u001b[0m\u001b[0;34m.\u001b[0m\u001b[0mmax\u001b[0m\u001b[0;34m(\u001b[0m\u001b[0;34m)\u001b[0m\u001b[0;34m)\u001b[0m\u001b[0;34m\u001b[0m\u001b[0m\n\u001b[0m",
      "\u001b[0;32m/Users/fonnescj/anaconda3/envs/dev/lib/python3.5/site-packages/dask/base.py\u001b[0m in \u001b[0;36mcompute\u001b[0;34m(*args, **kwargs)\u001b[0m\n\u001b[1;32m    169\u001b[0m         \u001b[0mdsk\u001b[0m \u001b[0;34m=\u001b[0m \u001b[0mmerge\u001b[0m\u001b[0;34m(\u001b[0m\u001b[0mvar\u001b[0m\u001b[0;34m.\u001b[0m\u001b[0mdask\u001b[0m \u001b[0;32mfor\u001b[0m \u001b[0mvar\u001b[0m \u001b[0;32min\u001b[0m \u001b[0mvariables\u001b[0m\u001b[0;34m)\u001b[0m\u001b[0;34m\u001b[0m\u001b[0m\n\u001b[1;32m    170\u001b[0m     \u001b[0mkeys\u001b[0m \u001b[0;34m=\u001b[0m \u001b[0;34m[\u001b[0m\u001b[0mvar\u001b[0m\u001b[0;34m.\u001b[0m\u001b[0m_keys\u001b[0m\u001b[0;34m(\u001b[0m\u001b[0;34m)\u001b[0m \u001b[0;32mfor\u001b[0m \u001b[0mvar\u001b[0m \u001b[0;32min\u001b[0m \u001b[0mvariables\u001b[0m\u001b[0;34m]\u001b[0m\u001b[0;34m\u001b[0m\u001b[0m\n\u001b[0;32m--> 171\u001b[0;31m     \u001b[0mresults\u001b[0m \u001b[0;34m=\u001b[0m \u001b[0mget\u001b[0m\u001b[0;34m(\u001b[0m\u001b[0mdsk\u001b[0m\u001b[0;34m,\u001b[0m \u001b[0mkeys\u001b[0m\u001b[0;34m,\u001b[0m \u001b[0;34m**\u001b[0m\u001b[0mkwargs\u001b[0m\u001b[0;34m)\u001b[0m\u001b[0;34m\u001b[0m\u001b[0m\n\u001b[0m\u001b[1;32m    172\u001b[0m \u001b[0;34m\u001b[0m\u001b[0m\n\u001b[1;32m    173\u001b[0m     \u001b[0mresults_iter\u001b[0m \u001b[0;34m=\u001b[0m \u001b[0miter\u001b[0m\u001b[0;34m(\u001b[0m\u001b[0mresults\u001b[0m\u001b[0;34m)\u001b[0m\u001b[0;34m\u001b[0m\u001b[0m\n",
      "\u001b[0;32m/Users/fonnescj/anaconda3/envs/dev/lib/python3.5/site-packages/dask/threaded.py\u001b[0m in \u001b[0;36mget\u001b[0;34m(dsk, result, cache, num_workers, **kwargs)\u001b[0m\n\u001b[1;32m     69\u001b[0m     results = get_async(pool.apply_async, len(pool._pool), dsk, result,\n\u001b[1;32m     70\u001b[0m                         \u001b[0mcache\u001b[0m\u001b[0;34m=\u001b[0m\u001b[0mcache\u001b[0m\u001b[0;34m,\u001b[0m \u001b[0mqueue\u001b[0m\u001b[0;34m=\u001b[0m\u001b[0mqueue\u001b[0m\u001b[0;34m,\u001b[0m \u001b[0mget_id\u001b[0m\u001b[0;34m=\u001b[0m\u001b[0m_thread_get_id\u001b[0m\u001b[0;34m,\u001b[0m\u001b[0;34m\u001b[0m\u001b[0m\n\u001b[0;32m---> 71\u001b[0;31m                         **kwargs)\n\u001b[0m\u001b[1;32m     72\u001b[0m \u001b[0;34m\u001b[0m\u001b[0m\n\u001b[1;32m     73\u001b[0m     \u001b[0;31m# Cleanup pools associated to dead threads\u001b[0m\u001b[0;34m\u001b[0m\u001b[0;34m\u001b[0m\u001b[0m\n",
      "\u001b[0;32m/Users/fonnescj/anaconda3/envs/dev/lib/python3.5/site-packages/dask/async.py\u001b[0m in \u001b[0;36mget_async\u001b[0;34m(apply_async, num_workers, dsk, result, cache, queue, get_id, raise_on_exception, rerun_exceptions_locally, callbacks, **kwargs)\u001b[0m\n\u001b[1;32m    479\u001b[0m                     \u001b[0m_execute_task\u001b[0m\u001b[0;34m(\u001b[0m\u001b[0mtask\u001b[0m\u001b[0;34m,\u001b[0m \u001b[0mdata\u001b[0m\u001b[0;34m)\u001b[0m  \u001b[0;31m# Re-execute locally\u001b[0m\u001b[0;34m\u001b[0m\u001b[0m\n\u001b[1;32m    480\u001b[0m                 \u001b[0;32melse\u001b[0m\u001b[0;34m:\u001b[0m\u001b[0;34m\u001b[0m\u001b[0m\n\u001b[0;32m--> 481\u001b[0;31m                     \u001b[0;32mraise\u001b[0m\u001b[0;34m(\u001b[0m\u001b[0mremote_exception\u001b[0m\u001b[0;34m(\u001b[0m\u001b[0mres\u001b[0m\u001b[0;34m,\u001b[0m \u001b[0mtb\u001b[0m\u001b[0;34m)\u001b[0m\u001b[0;34m)\u001b[0m\u001b[0;34m\u001b[0m\u001b[0m\n\u001b[0m\u001b[1;32m    482\u001b[0m             \u001b[0mstate\u001b[0m\u001b[0;34m[\u001b[0m\u001b[0;34m'cache'\u001b[0m\u001b[0;34m]\u001b[0m\u001b[0;34m[\u001b[0m\u001b[0mkey\u001b[0m\u001b[0;34m]\u001b[0m \u001b[0;34m=\u001b[0m \u001b[0mres\u001b[0m\u001b[0;34m\u001b[0m\u001b[0m\n\u001b[1;32m    483\u001b[0m             \u001b[0mfinish_task\u001b[0m\u001b[0;34m(\u001b[0m\u001b[0mdsk\u001b[0m\u001b[0;34m,\u001b[0m \u001b[0mkey\u001b[0m\u001b[0;34m,\u001b[0m \u001b[0mstate\u001b[0m\u001b[0;34m,\u001b[0m \u001b[0mresults\u001b[0m\u001b[0;34m,\u001b[0m \u001b[0mkeyorder\u001b[0m\u001b[0;34m.\u001b[0m\u001b[0mget\u001b[0m\u001b[0;34m)\u001b[0m\u001b[0;34m\u001b[0m\u001b[0m\n",
      "\u001b[0;31mValueError\u001b[0m: could not convert string to float: '03/01/2013'\n\nTraceback\n---------\n  File \"/Users/fonnescj/anaconda3/envs/dev/lib/python3.5/site-packages/dask/async.py\", line 263, in execute_task\n    result = _execute_task(task, data)\n  File \"/Users/fonnescj/anaconda3/envs/dev/lib/python3.5/site-packages/dask/async.py\", line 245, in _execute_task\n    return func(*args2)\n  File \"/Users/fonnescj/anaconda3/envs/dev/lib/python3.5/site-packages/dask/compatibility.py\", line 47, in apply\n    return func(*args, **kwargs)\n  File \"/Users/fonnescj/anaconda3/envs/dev/lib/python3.5/site-packages/dask/dataframe/csv.py\", line 49, in bytes_read_csv\n    coerce_dtypes(df, dtypes)\n  File \"/Users/fonnescj/anaconda3/envs/dev/lib/python3.5/site-packages/dask/dataframe/csv.py\", line 74, in coerce_dtypes\n    df[c] = df[c].astype(dtypes[c])\n  File \"/Users/fonnescj/anaconda3/envs/dev/lib/python3.5/site-packages/pandas/core/generic.py\", line 3054, in astype\n    raise_on_error=raise_on_error, **kwargs)\n  File \"/Users/fonnescj/anaconda3/envs/dev/lib/python3.5/site-packages/pandas/core/internals.py\", line 3168, in astype\n    return self.apply('astype', dtype=dtype, **kwargs)\n  File \"/Users/fonnescj/anaconda3/envs/dev/lib/python3.5/site-packages/pandas/core/internals.py\", line 3035, in apply\n    applied = getattr(b, f)(**kwargs)\n  File \"/Users/fonnescj/anaconda3/envs/dev/lib/python3.5/site-packages/pandas/core/internals.py\", line 462, in astype\n    values=values, **kwargs)\n  File \"/Users/fonnescj/anaconda3/envs/dev/lib/python3.5/site-packages/pandas/core/internals.py\", line 505, in _astype\n    values = _astype_nansafe(values.ravel(), dtype, copy=True)\n  File \"/Users/fonnescj/anaconda3/envs/dev/lib/python3.5/site-packages/pandas/types/cast.py\", line 537, in _astype_nansafe\n    return arr.astype(dtype)\n"
     ]
    },
    {
     "name": "stderr",
     "output_type": "stream",
     "text": [
      "/Users/fonnescj/anaconda3/envs/dev/lib/python3.5/site-packages/dask/async.py:263: DtypeWarning: Columns (21,23) have mixed types. Specify dtype option on import or set low_memory=False.\n",
      "  result = _execute_task(task, data)\n"
     ]
    }
   ],
   "source": [
    "dd.compute(raw_data.weight.min(), raw_data.weight.max())"
   ]
  },
  {
   "cell_type": "code",
   "execution_count": null,
   "metadata": {
    "collapsed": true,
    "deletable": true,
    "editable": true
   },
   "outputs": [],
   "source": []
  }
 ],
 "metadata": {
  "_draft": {
   "nbviewer_url": "https://gist.github.com/bc55b3f47e7c4865f602a887496d1e59"
  },
  "anaconda-cloud": {},
  "gist": {
   "data": {
    "description": "notebooks/BMI Trajectories.ipynb",
    "public": true
   },
   "id": "bc55b3f47e7c4865f602a887496d1e59"
  },
  "kernelspec": {
   "display_name": "Python 3",
   "language": "python",
   "name": "python3"
  },
  "language_info": {
   "codemirror_mode": {
    "name": "ipython",
    "version": 3
   },
   "file_extension": ".py",
   "mimetype": "text/x-python",
   "name": "python",
   "nbconvert_exporter": "python",
   "pygments_lexer": "ipython3",
   "version": "3.6.0"
  },
  "latex_envs": {
   "bibliofile": "biblio.bib",
   "cite_by": "apalike",
   "current_citInitial": 1,
   "eqLabelWithNumbers": true,
   "eqNumInitial": 0
  }
 },
 "nbformat": 4,
 "nbformat_minor": 1
}
